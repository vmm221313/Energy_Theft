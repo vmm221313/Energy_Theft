{
 "cells": [
  {
   "cell_type": "code",
   "execution_count": 1,
   "metadata": {},
   "outputs": [],
   "source": [
    "import numpy as np \n",
    "import pandas as po\n",
    "import matplotlib.pyplot as plt"
   ]
  },
  {
   "cell_type": "code",
   "execution_count": 2,
   "metadata": {},
   "outputs": [],
   "source": [
    "from statsmodels.stats.contingency_tables import mcnemar"
   ]
  },
  {
   "cell_type": "code",
   "execution_count": 53,
   "metadata": {},
   "outputs": [],
   "source": [
    "train_hist = {}\n",
    "base_dir = 'results/final_plots/'"
   ]
  },
  {
   "cell_type": "code",
   "execution_count": 54,
   "metadata": {},
   "outputs": [],
   "source": [
    "model='lstmfcn'\n",
    "train_hist[model] = {}\n",
    "with open(base_dir+model+ '/plots/predictions.npz', 'rb') as f:\n",
    "    data = np.load(f)\n",
    "\n",
    "    y_true = data['y_true']\n",
    "    y_pred = data['y_pred']\n",
    "\n",
    "train_hist[model]['y_true'] = np.argmax(y_true, axis = 1)\n",
    "train_hist[model]['y_pred'] = np.argmax(y_pred, axis = 1)\n",
    "#train_hist[model]['y_prob_true'] = y_predz[:, 1]"
   ]
  },
  {
   "cell_type": "code",
   "execution_count": 55,
   "metadata": {},
   "outputs": [],
   "source": [
    "model='transformer'\n",
    "train_hist[model] = {}\n",
    "with open(base_dir+model+ '/plots/predictions.npz', 'rb') as f:\n",
    "    data = np.load(f)\n",
    "\n",
    "    y_true = data['y_true']\n",
    "    y_pred = data['y_pred']\n",
    "\n",
    "train_hist[model]['y_true'] = np.argmax(y_true, axis = 1)\n",
    "train_hist[model]['y_pred'] = np.argmax(y_pred, axis = 1)\n",
    "#train_hist[model]['y_prob_true'] = y_predz[:, 1]"
   ]
  },
  {
   "cell_type": "code",
   "execution_count": 56,
   "metadata": {},
   "outputs": [
    {
     "output_type": "execute_result",
     "data": {
      "text/plain": "array([0, 0, 1, ..., 0, 0, 0])"
     },
     "metadata": {},
     "execution_count": 56
    }
   ],
   "source": [
    "train_hist['lstmfcn']['y_true']"
   ]
  },
  {
   "cell_type": "code",
   "execution_count": 57,
   "metadata": {},
   "outputs": [
    {
     "output_type": "execute_result",
     "data": {
      "text/plain": "array([0, 0, 0, ..., 0, 0, 0])"
     },
     "metadata": {},
     "execution_count": 57
    }
   ],
   "source": [
    "train_hist['lstmfcn']['y_pred']"
   ]
  },
  {
   "cell_type": "code",
   "execution_count": 58,
   "metadata": {},
   "outputs": [
    {
     "output_type": "execute_result",
     "data": {
      "text/plain": "array([1, 1, 0, ..., 1, 1, 1])"
     },
     "metadata": {},
     "execution_count": 58
    }
   ],
   "source": [
    "lstmfcn_correct = np.where(train_hist['lstmfcn']['y_true']==train_hist['lstmfcn']['y_pred'], 1, 0)\n",
    "lstmfcn_correct"
   ]
  },
  {
   "cell_type": "code",
   "execution_count": 59,
   "metadata": {},
   "outputs": [
    {
     "output_type": "execute_result",
     "data": {
      "text/plain": "'transformer'"
     },
     "metadata": {},
     "execution_count": 59
    }
   ],
   "source": [
    "model"
   ]
  },
  {
   "cell_type": "code",
   "execution_count": 60,
   "metadata": {},
   "outputs": [
    {
     "output_type": "execute_result",
     "data": {
      "text/plain": "array([1, 1, 0, ..., 1, 1, 1])"
     },
     "metadata": {},
     "execution_count": 60
    }
   ],
   "source": [
    "cnn_correct = np.where(train_hist[model]['y_true']==train_hist[model]['y_pred'], 1, 0)\n",
    "cnn_correct"
   ]
  },
  {
   "cell_type": "code",
   "execution_count": 61,
   "metadata": {},
   "outputs": [
    {
     "output_type": "execute_result",
     "data": {
      "text/plain": "array([1, 1, 0, ..., 1, 1, 1])"
     },
     "metadata": {},
     "execution_count": 61
    }
   ],
   "source": [
    "yy = np.where(np.logical_and(lstmfcn_correct==cnn_correct, lstmfcn_correct==1), 1, 0) # Equal and both correct\n",
    "yy"
   ]
  },
  {
   "cell_type": "code",
   "execution_count": 62,
   "metadata": {},
   "outputs": [
    {
     "output_type": "execute_result",
     "data": {
      "text/plain": "array([0, 0, 1, ..., 0, 0, 0])"
     },
     "metadata": {},
     "execution_count": 62
    }
   ],
   "source": [
    "nn = np.where(np.logical_and(lstmfcn_correct==cnn_correct, lstmfcn_correct==0), 1, 0) # Equal and both wrong\n",
    "nn"
   ]
  },
  {
   "cell_type": "code",
   "execution_count": 63,
   "metadata": {},
   "outputs": [
    {
     "output_type": "execute_result",
     "data": {
      "text/plain": "array([0, 0, 0, ..., 0, 0, 0])"
     },
     "metadata": {},
     "execution_count": 63
    }
   ],
   "source": [
    "yn = np.where(np.logical_and(lstmfcn_correct!=cnn_correct, lstmfcn_correct==1), 1, 0) # Different and lstmfcn is correct \n",
    "yn"
   ]
  },
  {
   "cell_type": "code",
   "execution_count": 64,
   "metadata": {},
   "outputs": [
    {
     "output_type": "execute_result",
     "data": {
      "text/plain": "array([0, 0, 0, ..., 0, 0, 0])"
     },
     "metadata": {},
     "execution_count": 64
    }
   ],
   "source": [
    "ny = np.where(np.logical_and(lstmfcn_correct!=cnn_correct, lstmfcn_correct==0), 1, 0) # Different and lstmfcn is wrong \n",
    "ny"
   ]
  },
  {
   "cell_type": "code",
   "execution_count": 65,
   "metadata": {},
   "outputs": [
    {
     "output_type": "execute_result",
     "data": {
      "text/plain": "42"
     },
     "metadata": {},
     "execution_count": 65
    }
   ],
   "source": [
    "np.sum(yn)"
   ]
  },
  {
   "cell_type": "code",
   "execution_count": 66,
   "metadata": {},
   "outputs": [
    {
     "output_type": "execute_result",
     "data": {
      "text/plain": "16"
     },
     "metadata": {},
     "execution_count": 66
    }
   ],
   "source": [
    "np.sum(ny)"
   ]
  },
  {
   "cell_type": "code",
   "execution_count": 67,
   "metadata": {},
   "outputs": [
    {
     "output_type": "execute_result",
     "data": {
      "text/plain": "array([[4139,   42],\n       [  16,  658]])"
     },
     "metadata": {},
     "execution_count": 67
    }
   ],
   "source": [
    "table = np.array([[np.sum(yy), np.sum(yn)], [np.sum(ny), np.sum(nn)]])\n",
    "table"
   ]
  },
  {
   "cell_type": "code",
   "execution_count": 68,
   "metadata": {
    "tags": []
   },
   "outputs": [
    {
     "output_type": "stream",
     "name": "stdout",
     "text": "pvalue      0.0010283231106303406\nstatistic   10.775862068965518\n"
    }
   ],
   "source": [
    "print(mcnemar(table, exact=False, correction=True)) # transformer"
   ]
  },
  {
   "cell_type": "code",
   "execution_count": 36,
   "metadata": {
    "tags": []
   },
   "outputs": [
    {
     "output_type": "stream",
     "name": "stdout",
     "text": "pvalue      0.0\nstatistic   2487.1890809443507\n"
    }
   ],
   "source": [
    "print(mcnemar(table, exact=False, correction=True)) # resnet"
   ]
  },
  {
   "cell_type": "code",
   "execution_count": 19,
   "metadata": {
    "tags": []
   },
   "outputs": [
    {
     "output_type": "stream",
     "name": "stdout",
     "text": "pvalue      0.0012114973654306278\nstatistic   10.472727272727273\n"
    }
   ],
   "source": [
    "print(mcnemar(table, exact=False, correction=True)) # fcn "
   ]
  },
  {
   "cell_type": "code",
   "execution_count": 61,
   "metadata": {
    "tags": []
   },
   "outputs": [
    {
     "output_type": "stream",
     "name": "stdout",
     "text": "pvalue      8.296547354886757e-36\nstatistic   156.0401337792642\n"
    }
   ],
   "source": [
    "print(mcnemar(table, exact=False, correction=True)) # cnn "
   ]
  },
  {
   "cell_type": "code",
   "execution_count": null,
   "metadata": {},
   "outputs": [],
   "source": [
    "# Reject Null hypothesis"
   ]
  },
  {
   "cell_type": "code",
   "execution_count": null,
   "metadata": {},
   "outputs": [],
   "source": []
  }
 ],
 "metadata": {
  "language_info": {
   "codemirror_mode": {
    "name": "ipython",
    "version": 3
   },
   "file_extension": ".py",
   "mimetype": "text/x-python",
   "name": "python",
   "nbconvert_exporter": "python",
   "pygments_lexer": "ipython3",
   "version": 3
  },
  "orig_nbformat": 2,
  "kernelspec": {
   "name": "python_defaultSpec_1597326687219",
   "display_name": "Python 3.7.7 64-bit ('tf2': conda)"
  }
 },
 "nbformat": 4,
 "nbformat_minor": 2
}