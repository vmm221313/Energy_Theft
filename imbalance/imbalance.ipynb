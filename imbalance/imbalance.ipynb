{
 "cells": [
  {
   "cell_type": "code",
   "execution_count": 1,
   "metadata": {},
   "outputs": [],
   "source": [
    "#import sys\n",
    "#sys.path.append('dba_utils/') # to access util files "
   ]
  },
  {
   "cell_type": "code",
   "execution_count": 3,
   "metadata": {},
   "outputs": [],
   "source": [
    "import numpy as np\n",
    "import pandas as po\n",
    "import matplotlib.pyplot as plt"
   ]
  },
  {
   "cell_type": "code",
   "execution_count": 3,
   "metadata": {
    "tags": []
   },
   "outputs": [
    {
     "output_type": "stream",
     "name": "stdout",
     "text": "Compiling dtw.pyx because it changed.\n[1/1] Cythonizing dtw.pyx\nrunning build_ext\nbuilding 'dtw' extension\ncreating build\ncreating build/temp.linux-x86_64-3.7\ngcc -pthread -B /home/varun/anaconda3/envs/tf2/compiler_compat -Wl,--sysroot=/ -Wsign-compare -DNDEBUG -g -fwrapv -O3 -Wall -Wstrict-prototypes -fPIC -I/home/varun/anaconda3/envs/tf2/lib/python3.7/site-packages/numpy/core/include -I/home/varun/anaconda3/envs/tf2/include/python3.7m -c dtw.c -o build/temp.linux-x86_64-3.7/dtw.o\nIn file included from \u001b[01m\u001b[K/home/varun/anaconda3/envs/tf2/lib/python3.7/site-packages/numpy/core/include/numpy/ndarraytypes.h:1832\u001b[m\u001b[K,\n                 from \u001b[01m\u001b[K/home/varun/anaconda3/envs/tf2/lib/python3.7/site-packages/numpy/core/include/numpy/ndarrayobject.h:12\u001b[m\u001b[K,\n                 from \u001b[01m\u001b[K/home/varun/anaconda3/envs/tf2/lib/python3.7/site-packages/numpy/core/include/numpy/arrayobject.h:4\u001b[m\u001b[K,\n                 from \u001b[01m\u001b[Kdtw.c:619\u001b[m\u001b[K:\n\u001b[01m\u001b[K/home/varun/anaconda3/envs/tf2/lib/python3.7/site-packages/numpy/core/include/numpy/npy_1_7_deprecated_api.h:17:2:\u001b[m\u001b[K \u001b[01;35m\u001b[Kwarning: \u001b[m\u001b[K#warning \"Using deprecated NumPy API, disable it with \" \"#define NPY_NO_DEPRECATED_API NPY_1_7_API_VERSION\" [\u001b[01;35m\u001b[K-Wcpp\u001b[m\u001b[K]\n #\u001b[01;35m\u001b[Kwarning\u001b[m\u001b[K \"Using deprecated NumPy API, disable it with \" \\\n  \u001b[01;35m\u001b[K^~~~~~~\u001b[m\u001b[K\ngcc -pthread -shared -B /home/varun/anaconda3/envs/tf2/compiler_compat -L/home/varun/anaconda3/envs/tf2/lib -Wl,-rpath=/home/varun/anaconda3/envs/tf2/lib -Wl,--no-as-needed -Wl,--sysroot=/ build/temp.linux-x86_64-3.7/dtw.o -o /home/varun/Desktop/Projects/EnergyTheft/imbalance/utils/distances/dtw.cpython-37m-x86_64-linux-gnu.so\n"
    }
   ],
   "source": [
    "!bash ./utils/build-cython.sh"
   ]
  },
  {
   "cell_type": "code",
   "execution_count": 4,
   "metadata": {
    "tags": []
   },
   "outputs": [],
   "source": [
    "from utils.augment import augment_train_set"
   ]
  },
  {
   "cell_type": "code",
   "execution_count": 5,
   "metadata": {},
   "outputs": [],
   "source": [
    "df = po.read_csv('../data/processed/imputation/edtwbi.csv').sample(frac=1, random_state=42).reset_index(drop=True)"
   ]
  },
  {
   "cell_type": "code",
   "execution_count": 6,
   "metadata": {},
   "outputs": [],
   "source": [
    "df_0 = df[df['FLAG'] == 0]\n",
    "df_1 = df[df['FLAG'] == 1]"
   ]
  },
  {
   "cell_type": "code",
   "execution_count": null,
   "metadata": {},
   "outputs": [],
   "source": [
    "# Undersampling\n",
    "df_0 = df_0.sort_values('num_zeros')[:len(df_1)]"
   ]
  },
  {
   "cell_type": "code",
   "execution_count": 8,
   "metadata": {},
   "outputs": [],
   "source": [
    "df_undersampled = po.concat([df_1, df_0], axis=0, ignore_index=True).sample(frac=1, random_state=42).reset_index(drop=True)"
   ]
  },
  {
   "cell_type": "code",
   "execution_count": 9,
   "metadata": {},
   "outputs": [
    {
     "output_type": "execute_result",
     "data": {
      "text/plain": "1    3615\n0    3615\nName: FLAG, dtype: int64"
     },
     "metadata": {},
     "execution_count": 9
    }
   ],
   "source": [
    "df_undersampled['FLAG'].value_counts()"
   ]
  },
  {
   "cell_type": "code",
   "execution_count": 10,
   "metadata": {},
   "outputs": [],
   "source": [
    "X_undersampled = df_undersampled.drop(['num_zeros', 'FLAG'], axis=1)\n",
    "y_undersampled = df_undersampled['FLAG']"
   ]
  },
  {
   "cell_type": "code",
   "execution_count": 11,
   "metadata": {},
   "outputs": [],
   "source": [
    "X_undersampled_train = X_undersampled[:int(0.6*len(X_undersampled))]\n",
    "y_undersampled_train = y_undersampled[:int(0.6*len(X_undersampled))]\n",
    "\n",
    "X_undersampled_val   = X_undersampled[int(0.6*len(X_undersampled)):int(0.8*len(X_undersampled))]\n",
    "y_undersampled_val   = y_undersampled[int(0.6*len(X_undersampled)):int(0.8*len(X_undersampled))]\n",
    "\n",
    "X_undersampled_test  = X_undersampled[int(0.8*len(X_undersampled)):]\n",
    "y_undersampled_test  = y_undersampled[int(0.8*len(X_undersampled)):]"
   ]
  },
  {
   "cell_type": "code",
   "execution_count": 12,
   "metadata": {},
   "outputs": [],
   "source": [
    "X_undersampled_train     = X_undersampled_train.to_numpy()[:, :, np.newaxis]\n",
    "X_undersampled_val       = X_undersampled_val.to_numpy()[:, :, np.newaxis]\n",
    "X_undersampled_test      = X_undersampled_test.to_numpy()[:, :, np.newaxis]"
   ]
  },
  {
   "cell_type": "code",
   "execution_count": 13,
   "metadata": {},
   "outputs": [],
   "source": [
    "y_undersampled_train     = y_undersampled_train.to_numpy()\n",
    "y_undersampled_val       = y_undersampled_val.to_numpy()\n",
    "y_undersampled_test      = y_undersampled_test.to_numpy()"
   ]
  },
  {
   "cell_type": "code",
   "execution_count": 14,
   "metadata": {},
   "outputs": [],
   "source": [
    "# Save undersampled data\n",
    "with open('../data/processed/training_data/undersampled.npz', 'wb') as f:\n",
    "    np.savez(f, X_train=X_undersampled_train, y_train=y_undersampled_train, X_val=X_undersampled_val, y_val=y_undersampled_val, X_test=X_undersampled_test, y_test=y_undersampled_test)"
   ]
  },
  {
   "cell_type": "code",
   "execution_count": 6,
   "metadata": {},
   "outputs": [],
   "source": [
    "X = df.drop(['num_zeros', 'FLAG'], axis=1)\n",
    "y = df['FLAG']"
   ]
  },
  {
   "cell_type": "code",
   "execution_count": 8,
   "metadata": {},
   "outputs": [
    {
     "output_type": "execute_result",
     "data": {
      "text/plain": "0    20657\n1     3615\nName: FLAG, dtype: int64"
     },
     "metadata": {},
     "execution_count": 8
    }
   ],
   "source": [
    "y.value_counts()"
   ]
  },
  {
   "cell_type": "code",
   "execution_count": 7,
   "metadata": {},
   "outputs": [],
   "source": [
    "X_train = X[:int(0.6*len(X))]\n",
    "y_train = y[:int(0.6*len(X))]\n",
    "\n",
    "X_val   = X[int(0.6*len(X)):int(0.8*len(X))]\n",
    "y_val   = y[int(0.6*len(X)):int(0.8*len(X))]\n",
    "\n",
    "X_test  = X[int(0.8*len(X)):]\n",
    "y_test  = y[int(0.8*len(X)):]"
   ]
  },
  {
   "cell_type": "code",
   "execution_count": 8,
   "metadata": {},
   "outputs": [
    {
     "output_type": "execute_result",
     "data": {
      "text/plain": "0    12381\n1     2182\nName: FLAG, dtype: int64"
     },
     "metadata": {},
     "execution_count": 8
    }
   ],
   "source": [
    "y_train.value_counts()"
   ]
  },
  {
   "cell_type": "code",
   "execution_count": 9,
   "metadata": {},
   "outputs": [
    {
     "output_type": "execute_result",
     "data": {
      "text/plain": "0    4121\n1     733\nName: FLAG, dtype: int64"
     },
     "metadata": {},
     "execution_count": 9
    }
   ],
   "source": [
    "y_val.value_counts()"
   ]
  },
  {
   "cell_type": "code",
   "execution_count": 10,
   "metadata": {},
   "outputs": [
    {
     "output_type": "execute_result",
     "data": {
      "text/plain": "0    4155\n1     700\nName: FLAG, dtype: int64"
     },
     "metadata": {},
     "execution_count": 10
    }
   ],
   "source": [
    "y_test.value_counts()"
   ]
  },
  {
   "cell_type": "code",
   "execution_count": 11,
   "metadata": {},
   "outputs": [],
   "source": [
    "X_train     = X_train.to_numpy()[:, :, np.newaxis]\n",
    "X_val       = X_val.to_numpy()[:, :, np.newaxis]\n",
    "X_test      = X_test.to_numpy()[:, :, np.newaxis]"
   ]
  },
  {
   "cell_type": "code",
   "execution_count": 12,
   "metadata": {},
   "outputs": [],
   "source": [
    "y_train     = y_train.to_numpy()\n",
    "y_val       = y_val.to_numpy()\n",
    "y_test      = y_test.to_numpy()"
   ]
  },
  {
   "cell_type": "code",
   "execution_count": 13,
   "metadata": {},
   "outputs": [],
   "source": [
    "# Save raw data\n",
    "with open('../data/processed/training_data/standard.npz', 'wb') as f:\n",
    "    np.savez(f, X_train=X_train, y_train=y_train, X_val=X_val, y_val=y_val, X_test=X_test, y_test=y_test)"
   ]
  },
  {
   "cell_type": "code",
   "execution_count": null,
   "metadata": {},
   "outputs": [],
   "source": []
  },
  {
   "cell_type": "code",
   "execution_count": null,
   "metadata": {},
   "outputs": [],
   "source": []
  },
  {
   "cell_type": "code",
   "execution_count": 14,
   "metadata": {},
   "outputs": [],
   "source": [
    "N       = 100 "
   ]
  },
  {
   "cell_type": "code",
   "execution_count": 15,
   "metadata": {},
   "outputs": [],
   "source": [
    "classes, classes_counts = np.unique(y_train, return_counts=True)"
   ]
  },
  {
   "cell_type": "code",
   "execution_count": 16,
   "metadata": {},
   "outputs": [
    {
     "output_type": "execute_result",
     "data": {
      "text/plain": "array([0, 1])"
     },
     "metadata": {},
     "execution_count": 16
    }
   ],
   "source": [
    "classes"
   ]
  },
  {
   "cell_type": "code",
   "execution_count": 17,
   "metadata": {
    "tags": [
     "outputPrepend"
    ]
   },
   "outputs": [
    {
     "output_type": "stream",
     "name": "stdout",
     "text": "79 [00:36<31:04,  6.50it/s]\u001b[A\n  2%|▏         | 263/12379 [00:37<30:28,  6.63it/s]\u001b[A\n  2%|▏         | 264/12379 [00:37<30:05,  6.71it/s]\u001b[A\n  2%|▏         | 265/12379 [00:37<29:56,  6.74it/s]\u001b[A\n  2%|▏         | 266/12379 [00:37<30:30,  6.62it/s]\u001b[A\n  2%|▏         | 267/12379 [00:37<30:14,  6.68it/s]\u001b[A\n  2%|▏         | 268/12379 [00:37<29:48,  6.77it/s]\u001b[A\n  2%|▏         | 269/12379 [00:37<29:47,  6.78it/s]\u001b[A\n  2%|▏         | 270/12379 [00:38<29:36,  6.82it/s]\u001b[A\n  2%|▏         | 271/12379 [00:38<30:02,  6.72it/s]\u001b[A\n  2%|▏         | 272/12379 [00:38<29:30,  6.84it/s]\u001b[A\n  2%|▏         | 273/12379 [00:38<30:10,  6.69it/s]\u001b[A\n  2%|▏         | 274/12379 [00:38<30:06,  6.70it/s]\u001b[A\n  2%|▏         | 275/12379 [00:38<30:01,  6.72it/s]\u001b[A\n  2%|▏         | 276/12379 [00:38<31:10,  6.47it/s]\u001b[A\n  2%|▏         | 277/12379 [00:39<30:45,  6.56it/s]\u001b[A\n  2%|▏         | 278/12379 [00:39<31:15,  6.45it/s]\u001b[A\n  2%|▏         | 279/12379 [00:39<30:41,  6.57it/s]\u001b[A\n  2%|▏         | 280/12379 [00:39<30:41,  6.57it/s]\u001b[A\n  2%|▏         | 281/12379 [00:39<30:55,  6.52it/s]\u001b[A\n  2%|▏         | 282/12379 [00:39<30:21,  6.64it/s]\u001b[A\n  2%|▏         | 283/12379 [00:40<30:43,  6.56it/s]\u001b[A\n  2%|▏         | 284/12379 [00:40<30:05,  6.70it/s]\u001b[A\n  2%|▏         | 285/12379 [00:40<29:13,  6.90it/s]\u001b[A\n  2%|▏         | 286/12379 [00:40<29:52,  6.75it/s]\u001b[A\n  2%|▏         | 287/12379 [00:40<30:44,  6.56it/s]\u001b[A\n  2%|▏         | 288/12379 [00:40<31:39,  6.37it/s]\u001b[A\n  2%|▏         | 289/12379 [00:40<30:34,  6.59it/s]\u001b[A\n  2%|▏         | 290/12379 [00:41<30:29,  6.61it/s]\u001b[A\n  2%|▏         | 291/12379 [00:41<31:05,  6.48it/s]\u001b[A\n  2%|▏         | 292/12379 [00:41<31:46,  6.34it/s]\u001b[A\n  2%|▏         | 293/12379 [00:41<30:24,  6.63it/s]\u001b[A\n  2%|▏         | 294/12379 [00:41<29:30,  6.82it/s]\u001b[A\n  2%|▏         | 295/12379 [00:41<29:24,  6.85it/s]\u001b[A\n  2%|▏         | 296/12379 [00:42<31:09,  6.46it/s]\u001b[A\n  2%|▏         | 297/12379 [00:42<31:23,  6.41it/s]\u001b[A\n  2%|▏         | 298/12379 [00:42<30:35,  6.58it/s]\u001b[A\n  2%|▏         | 299/12379 [00:42<29:59,  6.71it/s]\u001b[A\n  2%|▏         | 300/12379 [00:42<28:47,  6.99it/s]\u001b[A\n  2%|▏         | 301/12379 [00:42<28:45,  7.00it/s]\u001b[A\n  2%|▏         | 302/12379 [00:42<28:33,  7.05it/s]\u001b[A\n  2%|▏         | 303/12379 [00:42<28:11,  7.14it/s]\u001b[A\n  2%|▏         | 304/12379 [00:43<27:56,  7.20it/s]\u001b[A\n  2%|▏         | 305/12379 [00:43<27:57,  7.20it/s]\u001b[A\n  2%|▏         | 306/12379 [00:43<27:49,  7.23it/s]\u001b[A\n  2%|▏         | 307/12379 [00:43<27:54,  7.21it/s]\u001b[A\n  2%|▏         | 308/12379 [00:43<27:49,  7.23it/s]\u001b[A\n  2%|▏         | 309/12379 [00:43<27:39,  7.27it/s]\u001b[A\n  3%|▎         | 310/12379 [00:43<27:58,  7.19it/s]\u001b[A\n  3%|▎         | 311/12379 [00:44<28:01,  7.18it/s]\u001b[A\n  3%|▎         | 312/12379 [00:44<27:56,  7.20it/s]\u001b[A\n  3%|▎         | 313/12379 [00:44<28:17,  7.11it/s]\u001b[A\n  3%|▎         | 314/12379 [00:44<28:05,  7.16it/s]\u001b[A\n  3%|▎         | 315/12379 [00:44<27:58,  7.19it/s]\u001b[A\n  3%|▎         | 316/12379 [00:44<27:45,  7.24it/s]\u001b[A\n  3%|▎         | 317/12379 [00:44<27:30,  7.31it/s]\u001b[A\n  3%|▎         | 318/12379 [00:45<27:29,  7.31it/s]\u001b[A\n  3%|▎         | 319/12379 [00:45<27:28,  7.32it/s]\u001b[A\n  3%|▎         | 320/12379 [00:45<27:49,  7.22it/s]\u001b[A\n  3%|▎         | 321/12379 [00:45<27:58,  7.19it/s]\u001b[A\n  3%|▎         | 322/12379 [00:45<27:44,  7.24it/s]\u001b[A\n  3%|▎         | 323/12379 [00:45<28:03,  7.16it/s]\u001b[A\n  3%|▎         | 324/12379 [00:45<28:00,  7.17it/s]\u001b[A\n  3%|▎         | 325/12379 [00:46<28:07,  7.14it/s]\u001b[A\n  3%|▎         | 326/12379 [00:46<27:46,  7.23it/s]\u001b[A\n  3%|▎         | 327/12379 [00:46<27:51,  7.21it/s]\u001b[A\n  3%|▎         | 328/12379 [00:46<27:43,  7.24it/s]\u001b[A\n  3%|▎         | 329/12379 [00:46<27:55,  7.19it/s]\u001b[A\n  3%|▎         | 330/12379 [00:46<27:36,  7.27it/s]\u001b[A\n  3%|▎         | 331/12379 [00:46<27:30,  7.30it/s]\u001b[A\n  3%|▎         | 332/12379 [00:46<27:23,  7.33it/s]\u001b[A\n  3%|▎         | 333/12379 [00:47<27:40,  7.26it/s]\u001b[A\n  3%|▎         | 334/12379 [00:47<28:00,  7.17it/s]\u001b[A\n  3%|▎         | 335/12379 [00:47<27:17,  7.35it/s]\u001b[A\n  3%|▎         | 336/12379 [00:47<27:15,  7.36it/s]\u001b[A\n  3%|▎         | 337/12379 [00:47<27:23,  7.33it/s]\u001b[A\n  3%|▎         | 338/12379 [00:47<27:24,  7.32it/s]\u001b[A\n  3%|▎         | 339/12379 [00:47<27:57,  7.18it/s]\u001b[A\n  3%|▎         | 340/12379 [00:48<27:49,  7.21it/s]\u001b[A\n  3%|▎         | 341/12379 [00:48<27:49,  7.21it/s]\u001b[A\n  3%|▎         | 342/12379 [00:48<28:16,  7.10it/s]\u001b[A\n  3%|▎         | 343/12379 [00:48<28:13,  7.11it/s]\u001b[A\n  3%|▎         | 344/12379 [00:48<28:09,  7.12it/s]\u001b[A\n  3%|▎         | 345/12379 [00:48<28:19,  7.08it/s]\u001b[A\n  3%|▎         | 346/12379 [00:48<27:54,  7.18it/s]\u001b[A\n  3%|▎         | 347/12379 [00:49<27:34,  7.27it/s]\u001b[A\n  3%|▎         | 348/12379 [00:49<27:24,  7.31it/s]\u001b[A\n  3%|▎         | 349/12379 [00:49<27:41,  7.24it/s]\u001b[A\n  3%|▎         | 350/12379 [00:49<27:44,  7.23it/s]\u001b[A\n  3%|▎         | 351/12379 [00:49<28:19,  7.08it/s]\u001b[A\n  3%|▎         | 352/12379 [00:49<29:02,  6.90it/s]\u001b[A\n  3%|▎         | 353/12379 [00:49<29:07,  6.88it/s]\u001b[A\n  3%|▎         | 354/12379 [00:50<30:08,  6.65it/s]\u001b[A\n  3%|▎         | 355/12379 [00:50<30:54,  6.48it/s]\u001b[A\n  3%|▎         | 356/12379 [00:50<31:47,  6.30it/s]\u001b[A\n  3%|▎         | 357/12379 [00:50<32:18,  6.20it/s]\u001b[A\n  3%|▎         | 358/12379 [00:50<32:21,  6.19it/s]\u001b[A\n  3%|▎         | 359/12379 [00:50<33:27,  5.99it/s]\u001b[A\n  3%|▎         | 360/12379 [00:51<31:25,  6.37it/s]\u001b[A\n  3%|▎         | 361/12379 [00:51<30:00,  6.67it/s]\u001b[A\n  3%|▎         | 362/12379 [00:51<29:56,  6.69it/s]\u001b[A\n  3%|▎         | 363/12379 [00:51<30:45,  6.51it/s]\u001b[A\n  3%|▎         | 364/12379 [00:51<30:51,  6.49it/s]\u001b[A\n  3%|▎         | 365/12379 [00:51<30:53,  6.48it/s]\u001b[A\n  3%|▎         | 366/12379 [00:51<30:24,  6.59it/s]\u001b[A\n  3%|▎         | 367/12379 [00:52<29:44,  6.73it/s]\u001b[A\n  3%|▎         | 368/12379 [00:52<30:18,  6.61it/s]\u001b[A\n  3%|▎         | 369/12379 [00:52<29:33,  6.77it/s]\u001b[A\n  3%|▎         | 370/12379 [00:52<29:40,  6.74it/s]\u001b[A\n  3%|▎         | 371/12379 [00:52<30:14,  6.62it/s]\u001b[A\n  3%|▎         | 372/12379 [00:52<30:43,  6.51it/s]\u001b[A\n  3%|▎         | 373/12379 [00:53<30:23,  6.58it/s]\u001b[A\n  3%|▎         | 374/12379 [00:53<30:42,  6.51it/s]\u001b[A\n  3%|▎         | 375/12379 [00:53<30:25,  6.58it/s]\u001b[A\n  3%|▎         | 376/12379 [00:53<30:21,  6.59it/s]\u001b[A\n  3%|▎         | 377/12379 [00:53<30:58,  6.46it/s]\u001b[A\n  3%|▎         | 378/12379 [00:53<31:01,  6.45it/s]\u001b[A\n  3%|▎         | 379/12379 [00:53<30:25,  6.57it/s]\u001b[A\n  3%|▎         | 380/12379 [00:54<30:42,  6.51it/s]\u001b[A\n  3%|▎         | 381/12379 [00:54<31:18,  6.39it/s]\u001b[A\n  3%|▎         | 382/12379 [00:54<30:23,  6.58it/s]\u001b[A\n  3%|▎         | 383/12379 [00:54<30:16,  6.60it/s]\u001b[A\n  3%|▎         | 384/12379 [00:54<30:12,  6.62it/s]\u001b[A\n  3%|▎         | 385/12379 [00:54<30:33,  6.54it/s]\u001b[A\n  3%|▎         | 386/12379 [00:55<30:01,  6.66it/s]\u001b[A\n  3%|▎         | 387/12379 [00:55<29:38,  6.74it/s]\u001b[A\n  3%|▎         | 388/12379 [00:55<28:49,  6.93it/s]\u001b[A\n  3%|▎         | 389/12379 [00:55<28:16,  7.07it/s]\u001b[A\n  3%|▎         | 390/12379 [00:55<28:09,  7.10it/s]\u001b[A\n  3%|▎         | 391/12379 [00:55<28:59,  6.89it/s]\u001b[A\n  3%|▎         | 392/12379 [00:55<29:19,  6.81it/s]\u001b[A\n  3%|▎         | 393/12379 [00:56<29:32,  6.76it/s]\u001b[A\n  3%|▎         | 394/12379 [00:56<29:49,  6.70it/s]\u001b[A\n  3%|▎         | 395/12379 [00:56<30:03,  6.65it/s]\u001b[A\n  3%|▎         | 396/12379 [00:56<29:36,  6.74it/s]\u001b[A\n  3%|▎         | 397/12379 [00:56<28:57,  6.90it/s]\u001b[A\n  3%|▎         | 398/12379 [00:56<29:41,  6.72it/s]\u001b[A\n  3%|▎         | 399/12379 [00:56<30:39,  6.51it/s]\u001b[A\n  3%|▎         | 400/12379 [00:57<29:37,  6.74it/s]\u001b[A\n  3%|▎         | 401/12379 [00:57<29:23,  6.79it/s]\u001b[A\n  3%|▎         | 402/12379 [00:57<28:59,  6.89it/s]\u001b[A\n  3%|▎         | 403/12379 [00:57<28:53,  6.91it/s]\u001b[A\n  3%|▎         | 404/12379 [00:57<28:52,  6.91it/s]\u001b[A\n  3%|▎         | 405/12379 [00:57<28:36,  6.98it/s]\u001b[A\n  3%|▎         | 406/12379 [00:57<28:46,  6.93it/s]\u001b[A\n  3%|▎         | 407/12379 [00:58<28:28,  7.01it/s]\u001b[AProcess ForkPoolWorker-1:\n  3%|▎         | 407/12379 [00:58<28:32,  6.99it/s]Process ForkPoolWorker-3:\nProcess ForkPoolWorker-11:\n\n  0%|          | 1/12380 [28:56<5971:43:53, 1736.67s/it]Process ForkPoolWorker-6:\nProcess ForkPoolWorker-16:\n\nProcess ForkPoolWorker-8:\nProcess ForkPoolWorker-7:\nProcess ForkPoolWorker-10:\nProcess ForkPoolWorker-9:\nProcess ForkPoolWorker-5:\nProcess ForkPoolWorker-2:\nTraceback (most recent call last):\nTraceback (most recent call last):\nTraceback (most recent call last):\nTraceback (most recent call last):\nTraceback (most recent call last):\nTraceback (most recent call last):\nTraceback (most recent call last):\n  File \"/home/varun/anaconda3/envs/tf2/lib/python3.7/multiprocessing/process.py\", line 297, in _bootstrap\n    self.run()\n  File \"/home/varun/anaconda3/envs/tf2/lib/python3.7/multiprocessing/process.py\", line 297, in _bootstrap\n    self.run()\nTraceback (most recent call last):\n  File \"/home/varun/anaconda3/envs/tf2/lib/python3.7/multiprocessing/process.py\", line 297, in _bootstrap\n    self.run()\nTraceback (most recent call last):\n  File \"/home/varun/anaconda3/envs/tf2/lib/python3.7/multiprocessing/process.py\", line 297, in _bootstrap\n    self.run()\n  File \"/home/varun/anaconda3/envs/tf2/lib/python3.7/multiprocessing/process.py\", line 297, in _bootstrap\n    self.run()\n  File \"/home/varun/anaconda3/envs/tf2/lib/python3.7/multiprocessing/process.py\", line 99, in run\n    self._target(*self._args, **self._kwargs)\n  File \"/home/varun/anaconda3/envs/tf2/lib/python3.7/multiprocessing/process.py\", line 99, in run\n    self._target(*self._args, **self._kwargs)\n  File \"/home/varun/anaconda3/envs/tf2/lib/python3.7/multiprocessing/process.py\", line 297, in _bootstrap\n    self.run()\n  File \"/home/varun/anaconda3/envs/tf2/lib/python3.7/multiprocessing/process.py\", line 297, in _bootstrap\n    self.run()\n  File \"/home/varun/anaconda3/envs/tf2/lib/python3.7/multiprocessing/process.py\", line 99, in run\n    self._target(*self._args, **self._kwargs)\nTraceback (most recent call last):\n  File \"/home/varun/anaconda3/envs/tf2/lib/python3.7/multiprocessing/process.py\", line 99, in run\n    self._target(*self._args, **self._kwargs)\nTraceback (most recent call last):\n  File \"/home/varun/anaconda3/envs/tf2/lib/python3.7/multiprocessing/process.py\", line 297, in _bootstrap\n    self.run()\n  File \"/home/varun/anaconda3/envs/tf2/lib/python3.7/multiprocessing/process.py\", line 99, in run\n    self._target(*self._args, **self._kwargs)\n  File \"/home/varun/anaconda3/envs/tf2/lib/python3.7/multiprocessing/process.py\", line 297, in _bootstrap\n    self.run()\n  File \"/home/varun/anaconda3/envs/tf2/lib/python3.7/multiprocessing/process.py\", line 99, in run\n    self._target(*self._args, **self._kwargs)\n  File \"/home/varun/anaconda3/envs/tf2/lib/python3.7/multiprocessing/pool.py\", line 110, in worker\n    task = get()\n  File \"/home/varun/anaconda3/envs/tf2/lib/python3.7/multiprocessing/pool.py\", line 110, in worker\n    task = get()\n  File \"/home/varun/anaconda3/envs/tf2/lib/python3.7/multiprocessing/process.py\", line 99, in run\n    self._target(*self._args, **self._kwargs)\n  File \"/home/varun/anaconda3/envs/tf2/lib/python3.7/multiprocessing/process.py\", line 297, in _bootstrap\n    self.run()\n  File \"/home/varun/anaconda3/envs/tf2/lib/python3.7/multiprocessing/pool.py\", line 110, in worker\n    task = get()\n  File \"/home/varun/anaconda3/envs/tf2/lib/python3.7/multiprocessing/process.py\", line 297, in _bootstrap\n    self.run()\n  File \"/home/varun/anaconda3/envs/tf2/lib/python3.7/multiprocessing/process.py\", line 99, in run\n    self._target(*self._args, **self._kwargs)\n  File \"/home/varun/anaconda3/envs/tf2/lib/python3.7/multiprocessing/pool.py\", line 110, in worker\n    task = get()\n  File \"/home/varun/anaconda3/envs/tf2/lib/python3.7/multiprocessing/pool.py\", line 110, in worker\n    task = get()\n  File \"/home/varun/anaconda3/envs/tf2/lib/python3.7/multiprocessing/pool.py\", line 110, in worker\n    task = get()\n  File \"/home/varun/anaconda3/envs/tf2/lib/python3.7/multiprocessing/process.py\", line 99, in run\n    self._target(*self._args, **self._kwargs)\n  File \"/home/varun/anaconda3/envs/tf2/lib/python3.7/multiprocessing/queues.py\", line 351, in get\n    with self._rlock:\n  File \"/home/varun/anaconda3/envs/tf2/lib/python3.7/multiprocessing/queues.py\", line 351, in get\n    with self._rlock:\n  File \"/home/varun/anaconda3/envs/tf2/lib/python3.7/multiprocessing/process.py\", line 99, in run\n    self._target(*self._args, **self._kwargs)\n  File \"/home/varun/anaconda3/envs/tf2/lib/python3.7/multiprocessing/queues.py\", line 351, in get\n    with self._rlock:\n  File \"/home/varun/anaconda3/envs/tf2/lib/python3.7/multiprocessing/process.py\", line 99, in run\n    self._target(*self._args, **self._kwargs)\n  File \"/home/varun/anaconda3/envs/tf2/lib/python3.7/multiprocessing/queues.py\", line 351, in get\n    with self._rlock:\n  File \"/home/varun/anaconda3/envs/tf2/lib/python3.7/multiprocessing/pool.py\", line 110, in worker\n    task = get()\n  File \"/home/varun/anaconda3/envs/tf2/lib/python3.7/multiprocessing/queues.py\", line 351, in get\n    with self._rlock:\n  File \"/home/varun/anaconda3/envs/tf2/lib/python3.7/multiprocessing/synchronize.py\", line 95, in __enter__\n    return self._semlock.__enter__()\n  File \"/home/varun/anaconda3/envs/tf2/lib/python3.7/multiprocessing/queues.py\", line 351, in get\n    with self._rlock:\n  File \"/home/varun/anaconda3/envs/tf2/lib/python3.7/multiprocessing/synchronize.py\", line 95, in __enter__\n    return self._semlock.__enter__()\n  File \"/home/varun/anaconda3/envs/tf2/lib/python3.7/multiprocessing/pool.py\", line 110, in worker\n    task = get()\n  File \"/home/varun/anaconda3/envs/tf2/lib/python3.7/multiprocessing/synchronize.py\", line 95, in __enter__\n    return self._semlock.__enter__()\n  File \"/home/varun/anaconda3/envs/tf2/lib/python3.7/multiprocessing/synchronize.py\", line 95, in __enter__\n    return self._semlock.__enter__()\n  File \"/home/varun/anaconda3/envs/tf2/lib/python3.7/multiprocessing/synchronize.py\", line 95, in __enter__\n    return self._semlock.__enter__()\n  File \"/home/varun/anaconda3/envs/tf2/lib/python3.7/multiprocessing/queues.py\", line 351, in get\n    with self._rlock:\n  File \"/home/varun/anaconda3/envs/tf2/lib/python3.7/multiprocessing/synchronize.py\", line 95, in __enter__\n    return self._semlock.__enter__()\n  File \"/home/varun/anaconda3/envs/tf2/lib/python3.7/multiprocessing/queues.py\", line 351, in get\n    with self._rlock:\nKeyboardInterrupt\nKeyboardInterrupt\nKeyboardInterrupt\nKeyboardInterrupt\n  File \"/home/varun/anaconda3/envs/tf2/lib/python3.7/multiprocessing/pool.py\", line 110, in worker\n    task = get()\n  File \"/home/varun/anaconda3/envs/tf2/lib/python3.7/multiprocessing/synchronize.py\", line 95, in __enter__\n    return self._semlock.__enter__()\nKeyboardInterrupt\n  File \"/home/varun/anaconda3/envs/tf2/lib/python3.7/multiprocessing/synchronize.py\", line 95, in __enter__\n    return self._semlock.__enter__()\n  File \"/home/varun/anaconda3/envs/tf2/lib/python3.7/multiprocessing/queues.py\", line 351, in get\n    with self._rlock:\n  File \"/home/varun/anaconda3/envs/tf2/lib/python3.7/multiprocessing/pool.py\", line 110, in worker\n    task = get()\n  File \"/home/varun/anaconda3/envs/tf2/lib/python3.7/multiprocessing/pool.py\", line 110, in worker\n    task = get()\nKeyboardInterrupt\n  File \"/home/varun/anaconda3/envs/tf2/lib/python3.7/multiprocessing/queues.py\", line 351, in get\n    with self._rlock:\n  File \"/home/varun/anaconda3/envs/tf2/lib/python3.7/multiprocessing/synchronize.py\", line 95, in __enter__\n    return self._semlock.__enter__()\nKeyboardInterrupt\n  File \"/home/varun/anaconda3/envs/tf2/lib/python3.7/multiprocessing/queues.py\", line 351, in get\n    with self._rlock:\n  File \"/home/varun/anaconda3/envs/tf2/lib/python3.7/multiprocessing/synchronize.py\", line 95, in __enter__\n    return self._semlock.__enter__()\nKeyboardInterrupt\n  File \"/home/varun/anaconda3/envs/tf2/lib/python3.7/multiprocessing/synchronize.py\", line 95, in __enter__\n    return self._semlock.__enter__()\nKeyboardInterrupt\nKeyboardInterrupt\nKeyboardInterrupt\nProcess ForkPoolWorker-14:\nProcess ForkPoolWorker-13:\nTraceback (most recent call last):\nTraceback (most recent call last):\n  File \"/home/varun/anaconda3/envs/tf2/lib/python3.7/multiprocessing/process.py\", line 297, in _bootstrap\n    self.run()\n  File \"/home/varun/anaconda3/envs/tf2/lib/python3.7/multiprocessing/process.py\", line 297, in _bootstrap\n    self.run()\n  File \"/home/varun/anaconda3/envs/tf2/lib/python3.7/multiprocessing/process.py\", line 99, in run\n    self._target(*self._args, **self._kwargs)\n  File \"/home/varun/anaconda3/envs/tf2/lib/python3.7/multiprocessing/process.py\", line 99, in run\n    self._target(*self._args, **self._kwargs)\n  File \"/home/varun/anaconda3/envs/tf2/lib/python3.7/multiprocessing/pool.py\", line 110, in worker\n    task = get()\n  File \"/home/varun/anaconda3/envs/tf2/lib/python3.7/multiprocessing/pool.py\", line 110, in worker\n    task = get()\n  File \"/home/varun/anaconda3/envs/tf2/lib/python3.7/multiprocessing/queues.py\", line 351, in get\n    with self._rlock:\n  File \"/home/varun/anaconda3/envs/tf2/lib/python3.7/multiprocessing/queues.py\", line 351, in get\n    with self._rlock:\nProcess ForkPoolWorker-4:\n  File \"/home/varun/anaconda3/envs/tf2/lib/python3.7/multiprocessing/synchronize.py\", line 95, in __enter__\n    return self._semlock.__enter__()\n  File \"/home/varun/anaconda3/envs/tf2/lib/python3.7/multiprocessing/synchronize.py\", line 95, in __enter__\n    return self._semlock.__enter__()\nKeyboardInterrupt\nKeyboardInterrupt\nTraceback (most recent call last):\n  File \"/home/varun/anaconda3/envs/tf2/lib/python3.7/multiprocessing/process.py\", line 297, in _bootstrap\n    self.run()\n  File \"/home/varun/anaconda3/envs/tf2/lib/python3.7/multiprocessing/process.py\", line 99, in run\n    self._target(*self._args, **self._kwargs)\n  File \"/home/varun/anaconda3/envs/tf2/lib/python3.7/multiprocessing/pool.py\", line 110, in worker\n    task = get()\n  File \"/home/varun/anaconda3/envs/tf2/lib/python3.7/multiprocessing/queues.py\", line 352, in get\n    res = self._reader.recv_bytes()\n  File \"/home/varun/anaconda3/envs/tf2/lib/python3.7/multiprocessing/connection.py\", line 216, in recv_bytes\n    buf = self._recv_bytes(maxlength)\n  File \"/home/varun/anaconda3/envs/tf2/lib/python3.7/multiprocessing/connection.py\", line 411, in _recv_bytes\n    return self._recv(size)\n  File \"/home/varun/anaconda3/envs/tf2/lib/python3.7/multiprocessing/connection.py\", line 386, in _recv\n    buf.write(chunk)\nProcess ForkPoolWorker-15:\nKeyboardInterrupt\nTraceback (most recent call last):\n  File \"/home/varun/anaconda3/envs/tf2/lib/python3.7/multiprocessing/process.py\", line 297, in _bootstrap\n    self.run()\n  File \"/home/varun/anaconda3/envs/tf2/lib/python3.7/multiprocessing/process.py\", line 99, in run\n    self._target(*self._args, **self._kwargs)\n  File \"/home/varun/anaconda3/envs/tf2/lib/python3.7/multiprocessing/pool.py\", line 110, in worker\n    task = get()\n  File \"/home/varun/anaconda3/envs/tf2/lib/python3.7/multiprocessing/queues.py\", line 351, in get\n    with self._rlock:\n  File \"/home/varun/anaconda3/envs/tf2/lib/python3.7/multiprocessing/synchronize.py\", line 95, in __enter__\n    return self._semlock.__enter__()\nKeyboardInterrupt\nProcess ForkPoolWorker-12:\nTraceback (most recent call last):\n  File \"/home/varun/anaconda3/envs/tf2/lib/python3.7/multiprocessing/process.py\", line 297, in _bootstrap\n    self.run()\n  File \"/home/varun/anaconda3/envs/tf2/lib/python3.7/multiprocessing/process.py\", line 99, in run\n    self._target(*self._args, **self._kwargs)\n  File \"/home/varun/anaconda3/envs/tf2/lib/python3.7/multiprocessing/pool.py\", line 110, in worker\n    task = get()\n  File \"/home/varun/anaconda3/envs/tf2/lib/python3.7/multiprocessing/queues.py\", line 351, in get\n    with self._rlock:\n  File \"/home/varun/anaconda3/envs/tf2/lib/python3.7/multiprocessing/synchronize.py\", line 95, in __enter__\n    return self._semlock.__enter__()\nKeyboardInterrupt\n"
    },
    {
     "output_type": "error",
     "ename": "KeyboardInterrupt",
     "evalue": "",
     "traceback": [
      "\u001b[0;31m---------------------------------------------------------------------------\u001b[0m",
      "\u001b[0;31mIndexError\u001b[0m                                Traceback (most recent call last)",
      "\u001b[0;32m~/anaconda3/envs/tf2/lib/python3.7/multiprocessing/pool.py\u001b[0m in \u001b[0;36mnext\u001b[0;34m(self, timeout)\u001b[0m\n\u001b[1;32m    732\u001b[0m             \u001b[0;32mtry\u001b[0m\u001b[0;34m:\u001b[0m\u001b[0;34m\u001b[0m\u001b[0;34m\u001b[0m\u001b[0m\n\u001b[0;32m--> 733\u001b[0;31m                 \u001b[0mitem\u001b[0m \u001b[0;34m=\u001b[0m \u001b[0mself\u001b[0m\u001b[0;34m.\u001b[0m\u001b[0m_items\u001b[0m\u001b[0;34m.\u001b[0m\u001b[0mpopleft\u001b[0m\u001b[0;34m(\u001b[0m\u001b[0;34m)\u001b[0m\u001b[0;34m\u001b[0m\u001b[0;34m\u001b[0m\u001b[0m\n\u001b[0m\u001b[1;32m    734\u001b[0m             \u001b[0;32mexcept\u001b[0m \u001b[0mIndexError\u001b[0m\u001b[0;34m:\u001b[0m\u001b[0;34m\u001b[0m\u001b[0;34m\u001b[0m\u001b[0m\n",
      "\u001b[0;31mIndexError\u001b[0m: pop from an empty deque",
      "\nDuring handling of the above exception, another exception occurred:\n",
      "\u001b[0;31mKeyboardInterrupt\u001b[0m                         Traceback (most recent call last)",
      "\u001b[0;32m<ipython-input-17-a5a6a643942e>\u001b[0m in \u001b[0;36m<module>\u001b[0;34m\u001b[0m\n\u001b[1;32m      1\u001b[0m \u001b[0;31m# augment the dataset\u001b[0m\u001b[0;34m\u001b[0m\u001b[0;34m\u001b[0m\u001b[0;34m\u001b[0m\u001b[0m\n\u001b[0;32m----> 2\u001b[0;31m \u001b[0mX_train_synth\u001b[0m\u001b[0;34m,\u001b[0m \u001b[0my_train_synth\u001b[0m \u001b[0;34m=\u001b[0m \u001b[0maugment_train_set\u001b[0m\u001b[0;34m(\u001b[0m\u001b[0mX_train\u001b[0m\u001b[0;34m,\u001b[0m \u001b[0my_train\u001b[0m\u001b[0;34m,\u001b[0m \u001b[0mclasses\u001b[0m\u001b[0;34m,\u001b[0m \u001b[0mN\u001b[0m\u001b[0;34m,\u001b[0m \u001b[0mlimit_N\u001b[0m \u001b[0;34m=\u001b[0m \u001b[0;32mFalse\u001b[0m\u001b[0;34m,\u001b[0m \u001b[0mweights_method_name\u001b[0m\u001b[0;34m=\u001b[0m\u001b[0;34m'as'\u001b[0m\u001b[0;34m,\u001b[0m \u001b[0mdistance_algorithm\u001b[0m\u001b[0;34m=\u001b[0m\u001b[0;34m'dtw'\u001b[0m\u001b[0;34m)\u001b[0m\u001b[0;34m\u001b[0m\u001b[0;34m\u001b[0m\u001b[0m\n\u001b[0m",
      "\u001b[0;32m~/Desktop/Projects/EnergyTheft/imbalance/utils/augment.py\u001b[0m in \u001b[0;36maugment_train_set\u001b[0;34m(x_train, y_train, classes, N, dba_iters, weights_method_name, distance_algorithm, limit_N)\u001b[0m\n\u001b[1;32m    107\u001b[0m             \u001b[0mprint\u001b[0m\u001b[0;34m(\u001b[0m\u001b[0;34m'Calculating Distance Matrix'\u001b[0m\u001b[0;34m)\u001b[0m\u001b[0;34m\u001b[0m\u001b[0;34m\u001b[0m\u001b[0m\n\u001b[1;32m    108\u001b[0m             \u001b[0md_mat_obj\u001b[0m       \u001b[0;34m=\u001b[0m \u001b[0mDistanceMatrix\u001b[0m\u001b[0;34m(\u001b[0m\u001b[0;34m)\u001b[0m\u001b[0;34m\u001b[0m\u001b[0;34m\u001b[0m\u001b[0m\n\u001b[0;32m--> 109\u001b[0;31m             \u001b[0mdist_pair_mat\u001b[0m   \u001b[0;34m=\u001b[0m \u001b[0md_mat_obj\u001b[0m\u001b[0;34m.\u001b[0m\u001b[0mcalculate_dist_matrix\u001b[0m\u001b[0;34m(\u001b[0m\u001b[0mc_x_train\u001b[0m\u001b[0;34m,\u001b[0m\u001b[0mdist_fun\u001b[0m\u001b[0;34m,\u001b[0m\u001b[0mdist_fun_params\u001b[0m\u001b[0;34m)\u001b[0m\u001b[0;34m\u001b[0m\u001b[0;34m\u001b[0m\u001b[0m\n\u001b[0m\u001b[1;32m    110\u001b[0m \u001b[0;34m\u001b[0m\u001b[0m\n\u001b[1;32m    111\u001b[0m             \u001b[0;32mwith\u001b[0m \u001b[0mopen\u001b[0m\u001b[0;34m(\u001b[0m\u001b[0;34m'data/processed/dist_pair_mat.pkl'\u001b[0m\u001b[0;34m,\u001b[0m \u001b[0;34m'wb'\u001b[0m\u001b[0;34m)\u001b[0m \u001b[0;32mas\u001b[0m \u001b[0mf\u001b[0m\u001b[0;34m:\u001b[0m\u001b[0;34m\u001b[0m\u001b[0;34m\u001b[0m\u001b[0m\n",
      "\u001b[0;32m~/Desktop/Projects/EnergyTheft/imbalance/utils/dba.py\u001b[0m in \u001b[0;36mcalculate_dist_matrix\u001b[0;34m(self, tseries, dist_fun, dist_fun_params)\u001b[0m\n\u001b[1;32m     32\u001b[0m             \u001b[0mx\u001b[0m \u001b[0;34m=\u001b[0m \u001b[0mtseries\u001b[0m\u001b[0;34m[\u001b[0m\u001b[0mi\u001b[0m\u001b[0;34m]\u001b[0m\u001b[0;34m\u001b[0m\u001b[0;34m\u001b[0m\u001b[0m\n\u001b[1;32m     33\u001b[0m             \u001b[0mself\u001b[0m\u001b[0;34m.\u001b[0m\u001b[0mx\u001b[0m \u001b[0;34m=\u001b[0m \u001b[0mx\u001b[0m\u001b[0;34m\u001b[0m\u001b[0;34m\u001b[0m\u001b[0m\n\u001b[0;32m---> 34\u001b[0;31m             \u001b[0mpdist_values\u001b[0m \u001b[0;34m=\u001b[0m \u001b[0mlist\u001b[0m\u001b[0;34m(\u001b[0m\u001b[0mtqdm\u001b[0m\u001b[0;34m(\u001b[0m\u001b[0mp\u001b[0m\u001b[0;34m.\u001b[0m\u001b[0mimap\u001b[0m\u001b[0;34m(\u001b[0m\u001b[0mself\u001b[0m\u001b[0;34m.\u001b[0m\u001b[0mpairwise_dist_funk\u001b[0m\u001b[0;34m,\u001b[0m \u001b[0mrange\u001b[0m\u001b[0;34m(\u001b[0m\u001b[0mi\u001b[0m\u001b[0;34m+\u001b[0m\u001b[0;36m1\u001b[0m\u001b[0;34m,\u001b[0m\u001b[0mN\u001b[0m\u001b[0;34m)\u001b[0m\u001b[0;34m)\u001b[0m\u001b[0;34m,\u001b[0m \u001b[0mtotal\u001b[0m\u001b[0;34m=\u001b[0m\u001b[0mlen\u001b[0m\u001b[0;34m(\u001b[0m\u001b[0mrange\u001b[0m\u001b[0;34m(\u001b[0m\u001b[0mi\u001b[0m\u001b[0;34m+\u001b[0m\u001b[0;36m1\u001b[0m\u001b[0;34m,\u001b[0m\u001b[0mN\u001b[0m\u001b[0;34m)\u001b[0m\u001b[0;34m)\u001b[0m\u001b[0;34m)\u001b[0m\u001b[0;34m)\u001b[0m\u001b[0;34m\u001b[0m\u001b[0;34m\u001b[0m\u001b[0m\n\u001b[0m\u001b[1;32m     35\u001b[0m \u001b[0;34m\u001b[0m\u001b[0m\n\u001b[1;32m     36\u001b[0m             '''\n",
      "\u001b[0;32m~/anaconda3/envs/tf2/lib/python3.7/site-packages/tqdm/std.py\u001b[0m in \u001b[0;36m__iter__\u001b[0;34m(self)\u001b[0m\n\u001b[1;32m   1127\u001b[0m \u001b[0;34m\u001b[0m\u001b[0m\n\u001b[1;32m   1128\u001b[0m         \u001b[0;32mtry\u001b[0m\u001b[0;34m:\u001b[0m\u001b[0;34m\u001b[0m\u001b[0;34m\u001b[0m\u001b[0m\n\u001b[0;32m-> 1129\u001b[0;31m             \u001b[0;32mfor\u001b[0m \u001b[0mobj\u001b[0m \u001b[0;32min\u001b[0m \u001b[0miterable\u001b[0m\u001b[0;34m:\u001b[0m\u001b[0;34m\u001b[0m\u001b[0;34m\u001b[0m\u001b[0m\n\u001b[0m\u001b[1;32m   1130\u001b[0m                 \u001b[0;32myield\u001b[0m \u001b[0mobj\u001b[0m\u001b[0;34m\u001b[0m\u001b[0;34m\u001b[0m\u001b[0m\n\u001b[1;32m   1131\u001b[0m                 \u001b[0;31m# Update and possibly print the progressbar.\u001b[0m\u001b[0;34m\u001b[0m\u001b[0;34m\u001b[0m\u001b[0;34m\u001b[0m\u001b[0m\n",
      "\u001b[0;32m~/anaconda3/envs/tf2/lib/python3.7/multiprocessing/pool.py\u001b[0m in \u001b[0;36mnext\u001b[0;34m(self, timeout)\u001b[0m\n\u001b[1;32m    735\u001b[0m                 \u001b[0;32mif\u001b[0m \u001b[0mself\u001b[0m\u001b[0;34m.\u001b[0m\u001b[0m_index\u001b[0m \u001b[0;34m==\u001b[0m \u001b[0mself\u001b[0m\u001b[0;34m.\u001b[0m\u001b[0m_length\u001b[0m\u001b[0;34m:\u001b[0m\u001b[0;34m\u001b[0m\u001b[0;34m\u001b[0m\u001b[0m\n\u001b[1;32m    736\u001b[0m                     \u001b[0;32mraise\u001b[0m \u001b[0mStopIteration\u001b[0m \u001b[0;32mfrom\u001b[0m \u001b[0;32mNone\u001b[0m\u001b[0;34m\u001b[0m\u001b[0;34m\u001b[0m\u001b[0m\n\u001b[0;32m--> 737\u001b[0;31m                 \u001b[0mself\u001b[0m\u001b[0;34m.\u001b[0m\u001b[0m_cond\u001b[0m\u001b[0;34m.\u001b[0m\u001b[0mwait\u001b[0m\u001b[0;34m(\u001b[0m\u001b[0mtimeout\u001b[0m\u001b[0;34m)\u001b[0m\u001b[0;34m\u001b[0m\u001b[0;34m\u001b[0m\u001b[0m\n\u001b[0m\u001b[1;32m    738\u001b[0m                 \u001b[0;32mtry\u001b[0m\u001b[0;34m:\u001b[0m\u001b[0;34m\u001b[0m\u001b[0;34m\u001b[0m\u001b[0m\n\u001b[1;32m    739\u001b[0m                     \u001b[0mitem\u001b[0m \u001b[0;34m=\u001b[0m \u001b[0mself\u001b[0m\u001b[0;34m.\u001b[0m\u001b[0m_items\u001b[0m\u001b[0;34m.\u001b[0m\u001b[0mpopleft\u001b[0m\u001b[0;34m(\u001b[0m\u001b[0;34m)\u001b[0m\u001b[0;34m\u001b[0m\u001b[0;34m\u001b[0m\u001b[0m\n",
      "\u001b[0;32m~/anaconda3/envs/tf2/lib/python3.7/threading.py\u001b[0m in \u001b[0;36mwait\u001b[0;34m(self, timeout)\u001b[0m\n\u001b[1;32m    294\u001b[0m         \u001b[0;32mtry\u001b[0m\u001b[0;34m:\u001b[0m    \u001b[0;31m# restore state no matter what (e.g., KeyboardInterrupt)\u001b[0m\u001b[0;34m\u001b[0m\u001b[0;34m\u001b[0m\u001b[0m\n\u001b[1;32m    295\u001b[0m             \u001b[0;32mif\u001b[0m \u001b[0mtimeout\u001b[0m \u001b[0;32mis\u001b[0m \u001b[0;32mNone\u001b[0m\u001b[0;34m:\u001b[0m\u001b[0;34m\u001b[0m\u001b[0;34m\u001b[0m\u001b[0m\n\u001b[0;32m--> 296\u001b[0;31m                 \u001b[0mwaiter\u001b[0m\u001b[0;34m.\u001b[0m\u001b[0macquire\u001b[0m\u001b[0;34m(\u001b[0m\u001b[0;34m)\u001b[0m\u001b[0;34m\u001b[0m\u001b[0;34m\u001b[0m\u001b[0m\n\u001b[0m\u001b[1;32m    297\u001b[0m                 \u001b[0mgotit\u001b[0m \u001b[0;34m=\u001b[0m \u001b[0;32mTrue\u001b[0m\u001b[0;34m\u001b[0m\u001b[0;34m\u001b[0m\u001b[0m\n\u001b[1;32m    298\u001b[0m             \u001b[0;32melse\u001b[0m\u001b[0;34m:\u001b[0m\u001b[0;34m\u001b[0m\u001b[0;34m\u001b[0m\u001b[0m\n",
      "\u001b[0;31mKeyboardInterrupt\u001b[0m: "
     ]
    }
   ],
   "source": [
    "# augment the dataset\n",
    "X_train_synth, y_train_synth = augment_train_set(X_train, y_train, classes, N, limit_N = False, weights_method_name='as', distance_algorithm='dtw')"
   ]
  },
  {
   "cell_type": "code",
   "execution_count": null,
   "metadata": {},
   "outputs": [],
   "source": []
  },
  {
   "cell_type": "code",
   "execution_count": 12,
   "metadata": {},
   "outputs": [],
   "source": []
  },
  {
   "cell_type": "code",
   "execution_count": null,
   "metadata": {},
   "outputs": [],
   "source": []
  },
  {
   "cell_type": "markdown",
   "metadata": {},
   "source": []
  }
 ],
 "metadata": {
  "language_info": {
   "codemirror_mode": {
    "name": "ipython",
    "version": 3
   },
   "file_extension": ".py",
   "mimetype": "text/x-python",
   "name": "python",
   "nbconvert_exporter": "python",
   "pygments_lexer": "ipython3",
   "version": 3
  },
  "orig_nbformat": 2,
  "kernelspec": {
   "name": "python_defaultSpec_1596943998467",
   "display_name": "Python 3.7.7 64-bit ('tf2': conda)"
  }
 },
 "nbformat": 4,
 "nbformat_minor": 2
}