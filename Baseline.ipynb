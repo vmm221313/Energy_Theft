{
 "cells": [
  {
   "cell_type": "code",
   "execution_count": 1,
   "metadata": {},
   "outputs": [],
   "source": [
    "import numpy as np\n",
    "import pandas as po\n",
    "from tqdm import tqdm\n",
    "import matplotlib.pyplot as plt"
   ]
  },
  {
   "cell_type": "code",
   "execution_count": 2,
   "metadata": {},
   "outputs": [],
   "source": [
    "from utils import PearsonCorrelation"
   ]
  },
  {
   "cell_type": "code",
   "execution_count": 3,
   "metadata": {},
   "outputs": [
    {
     "name": "stdout",
     "output_type": "stream",
     "text": [
      "Num GPUs Available:  1\n"
     ]
    }
   ],
   "source": [
    "import tensorflow as tf\n",
    "print(\"Num GPUs Available: \", len(tf.config.experimental.list_physical_devices('GPU')))"
   ]
  },
  {
   "cell_type": "code",
   "execution_count": 5,
   "metadata": {},
   "outputs": [],
   "source": [
    "from tensorflow.compat.v1 import ConfigProto\n",
    "from tensorflow.compat.v1 import InteractiveSession\n",
    "\n",
    "config = ConfigProto()\n",
    "config.gpu_options.allow_growth = True\n",
    "session = InteractiveSession(config=config)"
   ]
  },
  {
   "cell_type": "code",
   "execution_count": 6,
   "metadata": {},
   "outputs": [],
   "source": [
    "df = po.read_csv('data/EnergyConsumption_Theft.csv')"
   ]
  },
  {
   "cell_type": "code",
   "execution_count": 7,
   "metadata": {},
   "outputs": [
    {
     "data": {
      "text/plain": [
       "42372"
      ]
     },
     "execution_count": 7,
     "metadata": {},
     "output_type": "execute_result"
    }
   ],
   "source": [
    "len(df)"
   ]
  },
  {
   "cell_type": "code",
   "execution_count": 8,
   "metadata": {},
   "outputs": [],
   "source": [
    "df = df.sample(frac=1).reset_index(drop = True)"
   ]
  },
  {
   "cell_type": "code",
   "execution_count": 9,
   "metadata": {},
   "outputs": [
    {
     "data": {
      "text/html": [
       "<div>\n",
       "<style scoped>\n",
       "    .dataframe tbody tr th:only-of-type {\n",
       "        vertical-align: middle;\n",
       "    }\n",
       "\n",
       "    .dataframe tbody tr th {\n",
       "        vertical-align: top;\n",
       "    }\n",
       "\n",
       "    .dataframe thead th {\n",
       "        text-align: right;\n",
       "    }\n",
       "</style>\n",
       "<table border=\"1\" class=\"dataframe\">\n",
       "  <thead>\n",
       "    <tr style=\"text-align: right;\">\n",
       "      <th></th>\n",
       "      <th>CONS_NO</th>\n",
       "      <th>FLAG</th>\n",
       "      <th>2014/1/1</th>\n",
       "      <th>2014/1/10</th>\n",
       "      <th>2014/1/11</th>\n",
       "      <th>2014/1/12</th>\n",
       "      <th>2014/1/13</th>\n",
       "      <th>2014/1/14</th>\n",
       "      <th>2014/1/15</th>\n",
       "      <th>2014/1/16</th>\n",
       "      <th>...</th>\n",
       "      <th>2016/9/28</th>\n",
       "      <th>2016/9/29</th>\n",
       "      <th>2016/9/3</th>\n",
       "      <th>2016/9/30</th>\n",
       "      <th>2016/9/4</th>\n",
       "      <th>2016/9/5</th>\n",
       "      <th>2016/9/6</th>\n",
       "      <th>2016/9/7</th>\n",
       "      <th>2016/9/8</th>\n",
       "      <th>2016/9/9</th>\n",
       "    </tr>\n",
       "  </thead>\n",
       "  <tbody>\n",
       "    <tr>\n",
       "      <th>0</th>\n",
       "      <td>CE5CEF83E9CA38B8EBDAF3AA9A55175D</td>\n",
       "      <td>0</td>\n",
       "      <td>0.00</td>\n",
       "      <td>0.00</td>\n",
       "      <td>0.00</td>\n",
       "      <td>0.00</td>\n",
       "      <td>0.00</td>\n",
       "      <td>0.00</td>\n",
       "      <td>0.00</td>\n",
       "      <td>0.00</td>\n",
       "      <td>...</td>\n",
       "      <td>18.42</td>\n",
       "      <td>15.37</td>\n",
       "      <td>14.50</td>\n",
       "      <td>14.87</td>\n",
       "      <td>17.490000</td>\n",
       "      <td>17.42</td>\n",
       "      <td>15.60</td>\n",
       "      <td>17.76</td>\n",
       "      <td>16.00</td>\n",
       "      <td>18.41</td>\n",
       "    </tr>\n",
       "    <tr>\n",
       "      <th>1</th>\n",
       "      <td>620112CA8E0824AAA0A6540C0B13071E</td>\n",
       "      <td>0</td>\n",
       "      <td>5.53</td>\n",
       "      <td>3.79</td>\n",
       "      <td>3.19</td>\n",
       "      <td>4.85</td>\n",
       "      <td>4.12</td>\n",
       "      <td>3.25</td>\n",
       "      <td>3.04</td>\n",
       "      <td>3.55</td>\n",
       "      <td>...</td>\n",
       "      <td>6.28</td>\n",
       "      <td>5.23</td>\n",
       "      <td>13.69</td>\n",
       "      <td>6.84</td>\n",
       "      <td>15.000911</td>\n",
       "      <td>7.14</td>\n",
       "      <td>12.33</td>\n",
       "      <td>12.43</td>\n",
       "      <td>6.24</td>\n",
       "      <td>6.14</td>\n",
       "    </tr>\n",
       "    <tr>\n",
       "      <th>2</th>\n",
       "      <td>EC4875DEA808B7B9FBE7C88691FADC1C</td>\n",
       "      <td>0</td>\n",
       "      <td>0.00</td>\n",
       "      <td>0.00</td>\n",
       "      <td>0.00</td>\n",
       "      <td>0.00</td>\n",
       "      <td>0.00</td>\n",
       "      <td>0.00</td>\n",
       "      <td>0.00</td>\n",
       "      <td>0.00</td>\n",
       "      <td>...</td>\n",
       "      <td>0.00</td>\n",
       "      <td>0.00</td>\n",
       "      <td>0.00</td>\n",
       "      <td>0.00</td>\n",
       "      <td>0.000000</td>\n",
       "      <td>0.00</td>\n",
       "      <td>0.00</td>\n",
       "      <td>0.00</td>\n",
       "      <td>0.00</td>\n",
       "      <td>0.00</td>\n",
       "    </tr>\n",
       "    <tr>\n",
       "      <th>3</th>\n",
       "      <td>6D3A1F97DBB38D554D5CDF7723B4725F</td>\n",
       "      <td>0</td>\n",
       "      <td>5.82</td>\n",
       "      <td>9.89</td>\n",
       "      <td>6.63</td>\n",
       "      <td>12.61</td>\n",
       "      <td>11.00</td>\n",
       "      <td>15.34</td>\n",
       "      <td>13.25</td>\n",
       "      <td>9.61</td>\n",
       "      <td>...</td>\n",
       "      <td>3.74</td>\n",
       "      <td>1.36</td>\n",
       "      <td>1.87</td>\n",
       "      <td>4.91</td>\n",
       "      <td>1.830000</td>\n",
       "      <td>1.23</td>\n",
       "      <td>1.29</td>\n",
       "      <td>1.56</td>\n",
       "      <td>0.91</td>\n",
       "      <td>0.93</td>\n",
       "    </tr>\n",
       "    <tr>\n",
       "      <th>4</th>\n",
       "      <td>EA0E94ADA62F1A7BE72A00E0E2FBFBCB</td>\n",
       "      <td>0</td>\n",
       "      <td>0.00</td>\n",
       "      <td>0.00</td>\n",
       "      <td>0.00</td>\n",
       "      <td>0.00</td>\n",
       "      <td>0.00</td>\n",
       "      <td>0.00</td>\n",
       "      <td>0.00</td>\n",
       "      <td>0.00</td>\n",
       "      <td>...</td>\n",
       "      <td>4.16</td>\n",
       "      <td>4.22</td>\n",
       "      <td>4.36</td>\n",
       "      <td>4.61</td>\n",
       "      <td>4.570000</td>\n",
       "      <td>4.10</td>\n",
       "      <td>4.30</td>\n",
       "      <td>3.98</td>\n",
       "      <td>4.29</td>\n",
       "      <td>4.14</td>\n",
       "    </tr>\n",
       "    <tr>\n",
       "      <th>...</th>\n",
       "      <td>...</td>\n",
       "      <td>...</td>\n",
       "      <td>...</td>\n",
       "      <td>...</td>\n",
       "      <td>...</td>\n",
       "      <td>...</td>\n",
       "      <td>...</td>\n",
       "      <td>...</td>\n",
       "      <td>...</td>\n",
       "      <td>...</td>\n",
       "      <td>...</td>\n",
       "      <td>...</td>\n",
       "      <td>...</td>\n",
       "      <td>...</td>\n",
       "      <td>...</td>\n",
       "      <td>...</td>\n",
       "      <td>...</td>\n",
       "      <td>...</td>\n",
       "      <td>...</td>\n",
       "      <td>...</td>\n",
       "      <td>...</td>\n",
       "    </tr>\n",
       "    <tr>\n",
       "      <th>42367</th>\n",
       "      <td>3E59D25067C6C216E5A7F922078361A3</td>\n",
       "      <td>1</td>\n",
       "      <td>5.28</td>\n",
       "      <td>9.96</td>\n",
       "      <td>3.17</td>\n",
       "      <td>1.98</td>\n",
       "      <td>3.56</td>\n",
       "      <td>2.71</td>\n",
       "      <td>1.81</td>\n",
       "      <td>2.03</td>\n",
       "      <td>...</td>\n",
       "      <td>2.31</td>\n",
       "      <td>3.69</td>\n",
       "      <td>9.45</td>\n",
       "      <td>7.23</td>\n",
       "      <td>8.530000</td>\n",
       "      <td>7.93</td>\n",
       "      <td>7.05</td>\n",
       "      <td>9.48</td>\n",
       "      <td>7.33</td>\n",
       "      <td>6.36</td>\n",
       "    </tr>\n",
       "    <tr>\n",
       "      <th>42368</th>\n",
       "      <td>B391339D6F6D5E58B31EEEF295DEDCE7</td>\n",
       "      <td>0</td>\n",
       "      <td>0.00</td>\n",
       "      <td>0.00</td>\n",
       "      <td>0.00</td>\n",
       "      <td>0.00</td>\n",
       "      <td>0.00</td>\n",
       "      <td>0.00</td>\n",
       "      <td>0.00</td>\n",
       "      <td>0.00</td>\n",
       "      <td>...</td>\n",
       "      <td>9.76</td>\n",
       "      <td>8.84</td>\n",
       "      <td>10.51</td>\n",
       "      <td>9.08</td>\n",
       "      <td>11.010000</td>\n",
       "      <td>10.84</td>\n",
       "      <td>10.93</td>\n",
       "      <td>10.79</td>\n",
       "      <td>9.82</td>\n",
       "      <td>10.79</td>\n",
       "    </tr>\n",
       "    <tr>\n",
       "      <th>42369</th>\n",
       "      <td>757AC72204EC6C63E1F68E79EB27E43E</td>\n",
       "      <td>0</td>\n",
       "      <td>0.00</td>\n",
       "      <td>0.00</td>\n",
       "      <td>0.00</td>\n",
       "      <td>0.00</td>\n",
       "      <td>3.22</td>\n",
       "      <td>4.52</td>\n",
       "      <td>3.91</td>\n",
       "      <td>4.96</td>\n",
       "      <td>...</td>\n",
       "      <td>3.46</td>\n",
       "      <td>3.73</td>\n",
       "      <td>3.86</td>\n",
       "      <td>4.51</td>\n",
       "      <td>4.490000</td>\n",
       "      <td>5.11</td>\n",
       "      <td>5.41</td>\n",
       "      <td>4.39</td>\n",
       "      <td>4.17</td>\n",
       "      <td>5.02</td>\n",
       "    </tr>\n",
       "    <tr>\n",
       "      <th>42370</th>\n",
       "      <td>9E662A1C9CC7BEBD4969E8F8527BC5DE</td>\n",
       "      <td>1</td>\n",
       "      <td>4.90</td>\n",
       "      <td>4.49</td>\n",
       "      <td>4.85</td>\n",
       "      <td>4.13</td>\n",
       "      <td>4.93</td>\n",
       "      <td>5.20</td>\n",
       "      <td>3.84</td>\n",
       "      <td>3.69</td>\n",
       "      <td>...</td>\n",
       "      <td>1.85</td>\n",
       "      <td>3.70</td>\n",
       "      <td>3.87</td>\n",
       "      <td>3.69</td>\n",
       "      <td>4.140000</td>\n",
       "      <td>3.67</td>\n",
       "      <td>4.31</td>\n",
       "      <td>4.47</td>\n",
       "      <td>3.78</td>\n",
       "      <td>4.13</td>\n",
       "    </tr>\n",
       "    <tr>\n",
       "      <th>42371</th>\n",
       "      <td>F633974C147CEA26261E8AEF9E2BED60</td>\n",
       "      <td>0</td>\n",
       "      <td>0.00</td>\n",
       "      <td>0.00</td>\n",
       "      <td>0.00</td>\n",
       "      <td>0.00</td>\n",
       "      <td>0.00</td>\n",
       "      <td>0.00</td>\n",
       "      <td>0.00</td>\n",
       "      <td>0.00</td>\n",
       "      <td>...</td>\n",
       "      <td>7.74</td>\n",
       "      <td>4.57</td>\n",
       "      <td>6.18</td>\n",
       "      <td>6.11</td>\n",
       "      <td>8.080000</td>\n",
       "      <td>7.74</td>\n",
       "      <td>8.18</td>\n",
       "      <td>7.77</td>\n",
       "      <td>7.22</td>\n",
       "      <td>6.54</td>\n",
       "    </tr>\n",
       "  </tbody>\n",
       "</table>\n",
       "<p>42372 rows × 1036 columns</p>\n",
       "</div>"
      ],
      "text/plain": [
       "                                CONS_NO  FLAG  2014/1/1  2014/1/10  2014/1/11  \\\n",
       "0      CE5CEF83E9CA38B8EBDAF3AA9A55175D     0      0.00       0.00       0.00   \n",
       "1      620112CA8E0824AAA0A6540C0B13071E     0      5.53       3.79       3.19   \n",
       "2      EC4875DEA808B7B9FBE7C88691FADC1C     0      0.00       0.00       0.00   \n",
       "3      6D3A1F97DBB38D554D5CDF7723B4725F     0      5.82       9.89       6.63   \n",
       "4      EA0E94ADA62F1A7BE72A00E0E2FBFBCB     0      0.00       0.00       0.00   \n",
       "...                                 ...   ...       ...        ...        ...   \n",
       "42367  3E59D25067C6C216E5A7F922078361A3     1      5.28       9.96       3.17   \n",
       "42368  B391339D6F6D5E58B31EEEF295DEDCE7     0      0.00       0.00       0.00   \n",
       "42369  757AC72204EC6C63E1F68E79EB27E43E     0      0.00       0.00       0.00   \n",
       "42370  9E662A1C9CC7BEBD4969E8F8527BC5DE     1      4.90       4.49       4.85   \n",
       "42371  F633974C147CEA26261E8AEF9E2BED60     0      0.00       0.00       0.00   \n",
       "\n",
       "       2014/1/12  2014/1/13  2014/1/14  2014/1/15  2014/1/16  ...  2016/9/28  \\\n",
       "0           0.00       0.00       0.00       0.00       0.00  ...      18.42   \n",
       "1           4.85       4.12       3.25       3.04       3.55  ...       6.28   \n",
       "2           0.00       0.00       0.00       0.00       0.00  ...       0.00   \n",
       "3          12.61      11.00      15.34      13.25       9.61  ...       3.74   \n",
       "4           0.00       0.00       0.00       0.00       0.00  ...       4.16   \n",
       "...          ...        ...        ...        ...        ...  ...        ...   \n",
       "42367       1.98       3.56       2.71       1.81       2.03  ...       2.31   \n",
       "42368       0.00       0.00       0.00       0.00       0.00  ...       9.76   \n",
       "42369       0.00       3.22       4.52       3.91       4.96  ...       3.46   \n",
       "42370       4.13       4.93       5.20       3.84       3.69  ...       1.85   \n",
       "42371       0.00       0.00       0.00       0.00       0.00  ...       7.74   \n",
       "\n",
       "       2016/9/29  2016/9/3  2016/9/30   2016/9/4  2016/9/5  2016/9/6  \\\n",
       "0          15.37     14.50      14.87  17.490000     17.42     15.60   \n",
       "1           5.23     13.69       6.84  15.000911      7.14     12.33   \n",
       "2           0.00      0.00       0.00   0.000000      0.00      0.00   \n",
       "3           1.36      1.87       4.91   1.830000      1.23      1.29   \n",
       "4           4.22      4.36       4.61   4.570000      4.10      4.30   \n",
       "...          ...       ...        ...        ...       ...       ...   \n",
       "42367       3.69      9.45       7.23   8.530000      7.93      7.05   \n",
       "42368       8.84     10.51       9.08  11.010000     10.84     10.93   \n",
       "42369       3.73      3.86       4.51   4.490000      5.11      5.41   \n",
       "42370       3.70      3.87       3.69   4.140000      3.67      4.31   \n",
       "42371       4.57      6.18       6.11   8.080000      7.74      8.18   \n",
       "\n",
       "       2016/9/7  2016/9/8  2016/9/9  \n",
       "0         17.76     16.00     18.41  \n",
       "1         12.43      6.24      6.14  \n",
       "2          0.00      0.00      0.00  \n",
       "3          1.56      0.91      0.93  \n",
       "4          3.98      4.29      4.14  \n",
       "...         ...       ...       ...  \n",
       "42367      9.48      7.33      6.36  \n",
       "42368     10.79      9.82     10.79  \n",
       "42369      4.39      4.17      5.02  \n",
       "42370      4.47      3.78      4.13  \n",
       "42371      7.77      7.22      6.54  \n",
       "\n",
       "[42372 rows x 1036 columns]"
      ]
     },
     "execution_count": 9,
     "metadata": {},
     "output_type": "execute_result"
    }
   ],
   "source": [
    "df"
   ]
  },
  {
   "cell_type": "code",
   "execution_count": 10,
   "metadata": {},
   "outputs": [],
   "source": [
    "df = df.drop(['CONS_NO'], axis = 1)"
   ]
  },
  {
   "cell_type": "code",
   "execution_count": 11,
   "metadata": {},
   "outputs": [
    {
     "data": {
      "text/plain": [
       "'\\ndf_train = df[:32000]\\ndf_val = df[32000:37000].reset_index(drop = True)\\ndf_test = df[37000:].reset_index(drop = True)\\n'"
      ]
     },
     "execution_count": 11,
     "metadata": {},
     "output_type": "execute_result"
    }
   ],
   "source": [
    "'''\n",
    "df_train = df[:32000]\n",
    "df_val = df[32000:37000].reset_index(drop = True)\n",
    "df_test = df[37000:].reset_index(drop = True)\n",
    "'''"
   ]
  },
  {
   "cell_type": "code",
   "execution_count": 12,
   "metadata": {},
   "outputs": [],
   "source": [
    "X = df.drop(['FLAG'], axis = 1)\n",
    "y = df['FLAG']"
   ]
  },
  {
   "cell_type": "code",
   "execution_count": 4,
   "metadata": {},
   "outputs": [
    {
     "ename": "NameError",
     "evalue": "name 'X' is not defined",
     "output_type": "error",
     "traceback": [
      "\u001b[0;31m---------------------------------------------------------------------------\u001b[0m",
      "\u001b[0;31mNameError\u001b[0m                                 Traceback (most recent call last)",
      "\u001b[0;32m<ipython-input-4-09031dd4e99a>\u001b[0m in \u001b[0;36m<module>\u001b[0;34m\u001b[0m\n\u001b[0;32m----> 1\u001b[0;31m \u001b[0mX_train\u001b[0m \u001b[0;34m=\u001b[0m \u001b[0mX\u001b[0m\u001b[0;34m[\u001b[0m\u001b[0;34m:\u001b[0m\u001b[0;36m32000\u001b[0m\u001b[0;34m]\u001b[0m\u001b[0;34m.\u001b[0m\u001b[0mvalues\u001b[0m\u001b[0;34m.\u001b[0m\u001b[0mreshape\u001b[0m\u001b[0;34m(\u001b[0m\u001b[0;34m-\u001b[0m\u001b[0;36m1\u001b[0m\u001b[0;34m,\u001b[0m \u001b[0mlen\u001b[0m\u001b[0;34m(\u001b[0m\u001b[0mX\u001b[0m\u001b[0;34m.\u001b[0m\u001b[0mcolumns\u001b[0m\u001b[0;34m)\u001b[0m\u001b[0;34m)\u001b[0m\u001b[0;34m\u001b[0m\u001b[0;34m\u001b[0m\u001b[0m\n\u001b[0m\u001b[1;32m      2\u001b[0m \u001b[0mX_val\u001b[0m \u001b[0;34m=\u001b[0m \u001b[0mX\u001b[0m\u001b[0;34m[\u001b[0m\u001b[0;36m32000\u001b[0m\u001b[0;34m:\u001b[0m\u001b[0;36m37000\u001b[0m\u001b[0;34m]\u001b[0m\u001b[0;34m.\u001b[0m\u001b[0mvalues\u001b[0m\u001b[0;34m.\u001b[0m\u001b[0mreshape\u001b[0m\u001b[0;34m(\u001b[0m\u001b[0;34m-\u001b[0m\u001b[0;36m1\u001b[0m\u001b[0;34m,\u001b[0m \u001b[0mlen\u001b[0m\u001b[0;34m(\u001b[0m\u001b[0mX\u001b[0m\u001b[0;34m.\u001b[0m\u001b[0mcolumns\u001b[0m\u001b[0;34m)\u001b[0m\u001b[0;34m)\u001b[0m\u001b[0;34m\u001b[0m\u001b[0;34m\u001b[0m\u001b[0m\n\u001b[1;32m      3\u001b[0m \u001b[0mX_test\u001b[0m \u001b[0;34m=\u001b[0m \u001b[0mX\u001b[0m\u001b[0;34m[\u001b[0m\u001b[0;36m37000\u001b[0m\u001b[0;34m:\u001b[0m\u001b[0;34m]\u001b[0m\u001b[0;34m.\u001b[0m\u001b[0mvalues\u001b[0m\u001b[0;34m.\u001b[0m\u001b[0mreshape\u001b[0m\u001b[0;34m(\u001b[0m\u001b[0;34m-\u001b[0m\u001b[0;36m1\u001b[0m\u001b[0;34m,\u001b[0m \u001b[0mlen\u001b[0m\u001b[0;34m(\u001b[0m\u001b[0mX\u001b[0m\u001b[0;34m.\u001b[0m\u001b[0mcolumns\u001b[0m\u001b[0;34m)\u001b[0m\u001b[0;34m)\u001b[0m\u001b[0;34m\u001b[0m\u001b[0;34m\u001b[0m\u001b[0m\n",
      "\u001b[0;31mNameError\u001b[0m: name 'X' is not defined"
     ]
    }
   ],
   "source": [
    "X_train = X[:32000].values.reshape(-1, len(X.columns), 1)\n",
    "X_val = X[32000:37000].values.reshape(-1, len(X.columns), 1)\n",
    "X_test = X[37000:].values.reshape(-1, len(X.columns), 1)"
   ]
  },
  {
   "cell_type": "code",
   "execution_count": 14,
   "metadata": {},
   "outputs": [],
   "source": [
    "y_train = y[:32000].values.reshape(-1, 1, 1)\n",
    "y_val = y[32000:37000].values.reshape(-1, 1, 1)\n",
    "y_test = y[37000:].values.reshape(-1, 1, 1)"
   ]
  },
  {
   "cell_type": "code",
   "execution_count": 15,
   "metadata": {},
   "outputs": [
    {
     "data": {
      "text/plain": [
       "(32000, 1034, 1)"
      ]
     },
     "execution_count": 15,
     "metadata": {},
     "output_type": "execute_result"
    }
   ],
   "source": [
    "X_train.shape"
   ]
  },
  {
   "cell_type": "code",
   "execution_count": 16,
   "metadata": {},
   "outputs": [],
   "source": [
    "model = tf.keras.Sequential()"
   ]
  },
  {
   "cell_type": "code",
   "execution_count": 17,
   "metadata": {},
   "outputs": [],
   "source": [
    "model.add(tf.keras.layers.Conv1D(filters = 64, kernel_size = 30, activation='relu', input_shape=(len(X.columns), 1)))\n",
    "model.add(tf.keras.layers.Conv1D(filters = 64, kernel_size = 30, activation='relu'))\n",
    "model.add(tf.keras.layers.Conv1D(filters = 64, kernel_size = 30, activation='relu'))\n",
    "model.add(tf.keras.layers.Flatten())\n",
    "model.add(tf.keras.layers.Dense(1, activation='sigmoid'))"
   ]
  },
  {
   "cell_type": "code",
   "execution_count": 18,
   "metadata": {},
   "outputs": [
    {
     "name": "stdout",
     "output_type": "stream",
     "text": [
      "Model: \"sequential\"\n",
      "_________________________________________________________________\n",
      "Layer (type)                 Output Shape              Param #   \n",
      "=================================================================\n",
      "conv1d (Conv1D)              (None, 1005, 64)          1984      \n",
      "_________________________________________________________________\n",
      "conv1d_1 (Conv1D)            (None, 976, 64)           122944    \n",
      "_________________________________________________________________\n",
      "conv1d_2 (Conv1D)            (None, 947, 64)           122944    \n",
      "_________________________________________________________________\n",
      "flatten (Flatten)            (None, 60608)             0         \n",
      "_________________________________________________________________\n",
      "dense (Dense)                (None, 1)                 60609     \n",
      "=================================================================\n",
      "Total params: 308,481\n",
      "Trainable params: 308,481\n",
      "Non-trainable params: 0\n",
      "_________________________________________________________________\n"
     ]
    }
   ],
   "source": [
    "model.summary()"
   ]
  },
  {
   "cell_type": "code",
   "execution_count": 19,
   "metadata": {},
   "outputs": [],
   "source": [
    "sgd = tf.keras.optimizers.SGD(lr=0.01, decay=1e-8, momentum=0.9, nesterov=True)\n",
    "earlystop = tf.keras.callbacks.EarlyStopping(monitor='val_loss', min_delta=0.001, patience=4)\n",
    "loss_funk = tf.keras.losses.MeanSquaredError(reduction='sum_over_batch_size')"
   ]
  },
  {
   "cell_type": "code",
   "execution_count": 20,
   "metadata": {},
   "outputs": [],
   "source": [
    "model.compile(optimizer = sgd, loss = loss_funk)"
   ]
  },
  {
   "cell_type": "code",
   "execution_count": 21,
   "metadata": {},
   "outputs": [
    {
     "name": "stdout",
     "output_type": "stream",
     "text": [
      "Epoch 1/100\n",
      "125/125 [==============================] - 8s 67ms/step - loss: 0.0880 - val_loss: 0.0822\n",
      "Epoch 2/100\n",
      "125/125 [==============================] - 8s 66ms/step - loss: 0.0863 - val_loss: 0.0822\n",
      "Epoch 3/100\n",
      "125/125 [==============================] - 8s 67ms/step - loss: 0.0863 - val_loss: 0.0822\n",
      "Epoch 4/100\n",
      "125/125 [==============================] - 9s 68ms/step - loss: 0.0863 - val_loss: 0.0822\n",
      "Epoch 5/100\n",
      "125/125 [==============================] - 9s 68ms/step - loss: 0.0863 - val_loss: 0.0822\n"
     ]
    }
   ],
   "source": [
    "history = model.fit(X_train, y_train, batch_size = 256, epochs = 100, validation_data = (X_val, y_val), callbacks=[earlystop], verbose=1)"
   ]
  },
  {
   "cell_type": "code",
   "execution_count": 22,
   "metadata": {},
   "outputs": [],
   "source": [
    "y_pred = model.predict(X_val)"
   ]
  },
  {
   "cell_type": "code",
   "execution_count": 23,
   "metadata": {},
   "outputs": [
    {
     "data": {
      "text/plain": [
       "array([[0.],\n",
       "       [0.],\n",
       "       [0.],\n",
       "       ...,\n",
       "       [0.],\n",
       "       [0.],\n",
       "       [0.]], dtype=float32)"
      ]
     },
     "execution_count": 23,
     "metadata": {},
     "output_type": "execute_result"
    }
   ],
   "source": [
    "y_pred"
   ]
  },
  {
   "cell_type": "code",
   "execution_count": 24,
   "metadata": {},
   "outputs": [
    {
     "data": {
      "text/plain": [
       "9.696425e-06"
      ]
     },
     "execution_count": 24,
     "metadata": {},
     "output_type": "execute_result"
    }
   ],
   "source": [
    "np.sum(y_pred)"
   ]
  },
  {
   "cell_type": "code",
   "execution_count": null,
   "metadata": {},
   "outputs": [],
   "source": []
  },
  {
   "cell_type": "code",
   "execution_count": null,
   "metadata": {},
   "outputs": [],
   "source": []
  },
  {
   "cell_type": "code",
   "execution_count": null,
   "metadata": {},
   "outputs": [],
   "source": []
  },
  {
   "cell_type": "code",
   "execution_count": null,
   "metadata": {},
   "outputs": [],
   "source": []
  },
  {
   "cell_type": "code",
   "execution_count": null,
   "metadata": {},
   "outputs": [],
   "source": []
  },
  {
   "cell_type": "code",
   "execution_count": null,
   "metadata": {},
   "outputs": [],
   "source": []
  },
  {
   "cell_type": "code",
   "execution_count": null,
   "metadata": {},
   "outputs": [],
   "source": []
  },
  {
   "cell_type": "code",
   "execution_count": null,
   "metadata": {},
   "outputs": [],
   "source": []
  },
  {
   "cell_type": "code",
   "execution_count": null,
   "metadata": {},
   "outputs": [],
   "source": []
  },
  {
   "cell_type": "code",
   "execution_count": 43,
   "metadata": {},
   "outputs": [
    {
     "data": {
      "text/plain": [
       "<matplotlib.collections.PathCollection at 0x7f95e4d152d0>"
      ]
     },
     "execution_count": 43,
     "metadata": {},
     "output_type": "execute_result"
    },
    {
     "data": {
      "image/png": "[encoded data removed]",
      "text/plain": [
       "<Figure size 1440x720 with 1 Axes>"
      ]
     },
     "metadata": {
      "needs_background": "light"
     },
     "output_type": "display_data"
    }
   ],
   "source": [
    "plt.figure(figsize = (20, 10))\n",
    "plt.scatter(range(len(df.iloc[34][2:])), df.iloc[34][2:])"
   ]
  },
  {
   "cell_type": "code",
   "execution_count": 44,
   "metadata": {},
   "outputs": [
    {
     "name": "stderr",
     "output_type": "stream",
     "text": [
      " 33%|███▎      | 334/999 [00:00<00:00, 673.25it/s]/home/varun/Desktop/Projects/Energy_Theft/utils.py:18: RuntimeWarning: invalid value encountered in double_scalars\n",
      "  return (cov/(std_x*std_y))\n",
      "100%|██████████| 999/999 [00:00<00:00, 1030.92it/s]\n"
     ]
    },
    {
     "data": {
      "image/png": "[encoded data removed]",
      "text/plain": [
       "<Figure size 432x288 with 1 Axes>"
      ]
     },
     "metadata": {
      "needs_background": "light"
     },
     "output_type": "display_data"
    },
    {
     "name": "stderr",
     "output_type": "stream",
     "text": [
      " 33%|███▎      | 331/999 [00:00<00:01, 663.82it/s]/home/varun/Desktop/Projects/Energy_Theft/utils.py:18: RuntimeWarning: invalid value encountered in double_scalars\n",
      "  return (cov/(std_x*std_y))\n",
      "100%|██████████| 999/999 [00:00<00:00, 1037.33it/s]\n"
     ]
    },
    {
     "data": {
      "image/png": "[encoded data removed]",
      "text/plain": [
       "<Figure size 432x288 with 1 Axes>"
      ]
     },
     "metadata": {
      "needs_background": "light"
     },
     "output_type": "display_data"
    },
    {
     "name": "stderr",
     "output_type": "stream",
     "text": [
      "100%|██████████| 999/999 [00:00<00:00, 1066.79it/s]\n"
     ]
    },
    {
     "data": {
      "image/png": "[encoded data removed]",
      "text/plain": [
       "<Figure size 432x288 with 1 Axes>"
      ]
     },
     "metadata": {
      "needs_background": "light"
     },
     "output_type": "display_data"
    },
    {
     "name": "stderr",
     "output_type": "stream",
     "text": [
      "  0%|          | 0/999 [00:00<?, ?it/s]/home/varun/Desktop/Projects/Energy_Theft/utils.py:18: RuntimeWarning: invalid value encountered in double_scalars\n",
      "  return (cov/(std_x*std_y))\n",
      "100%|██████████| 999/999 [00:00<00:00, 1056.85it/s]\n"
     ]
    },
    {
     "data": {
      "image/png": "[encoded data removed]",
      "text/plain": [
       "<Figure size 432x288 with 1 Axes>"
      ]
     },
     "metadata": {
      "needs_background": "light"
     },
     "output_type": "display_data"
    },
    {
     "name": "stderr",
     "output_type": "stream",
     "text": [
      "100%|██████████| 999/999 [00:00<00:00, 1070.27it/s]\n"
     ]
    },
    {
     "data": {
      "image/png": "[encoded data removed]",
      "text/plain": [
       "<Figure size 432x288 with 1 Axes>"
      ]
     },
     "metadata": {
      "needs_background": "light"
     },
     "output_type": "display_data"
    }
   ],
   "source": [
    "for i in range(5):\n",
    "    D = df.iloc[i][2:].values\n",
    "    \n",
    "    auto_corrs = []\n",
    "    for i in tqdm(range(1, 1000)):\n",
    "        a_c = PearsonCorrelation(D[:-i], D[i:])\n",
    "\n",
    "        auto_corrs.append(a_c)\n",
    "    \n",
    "    plt.plot(auto_corrs)\n",
    "    plt.show()    "
   ]
  },
  {
   "cell_type": "code",
   "execution_count": null,
   "metadata": {},
   "outputs": [],
   "source": []
  },
  {
   "cell_type": "code",
   "execution_count": null,
   "metadata": {},
   "outputs": [],
   "source": []
  },
  {
   "cell_type": "code",
   "execution_count": null,
   "metadata": {},
   "outputs": [],
   "source": []
  },
  {
   "cell_type": "code",
   "execution_count": null,
   "metadata": {},
   "outputs": [],
   "source": []
  },
  {
   "cell_type": "code",
   "execution_count": null,
   "metadata": {},
   "outputs": [],
   "source": []
  }
 ],
 "metadata": {
  "kernelspec": {
   "display_name": "Python 3",
   "language": "python",
   "name": "python3"
  },
  "language_info": {
   "codemirror_mode": {
    "name": "ipython",
    "version": 3
   },
   "file_extension": ".py",
   "mimetype": "text/x-python",
   "name": "python",
   "nbconvert_exporter": "python",
   "pygments_lexer": "ipython3",
   "version": "3.7.6"
  }
 },
 "nbformat": 4,
 "nbformat_minor": 4
}
