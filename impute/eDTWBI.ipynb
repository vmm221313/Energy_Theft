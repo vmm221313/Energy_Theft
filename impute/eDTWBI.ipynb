{
 "cells": [
  {
   "cell_type": "code",
   "execution_count": 1,
   "metadata": {},
   "outputs": [],
   "source": [
    "import sys\n",
    "sys.path.append('../')"
   ]
  },
  {
   "cell_type": "code",
   "execution_count": 2,
   "metadata": {},
   "outputs": [],
   "source": [
    "import numpy as np\n",
    "import pandas as po\n",
    "from tqdm import tqdm\n",
    "from math import isinf \n",
    "import multiprocessing\n",
    "import matplotlib.pyplot as plt\n",
    "from scipy.interpolate import interp1d\n",
    "from numpy import array, zeros, full, argmin, inf, ndim"
   ]
  },
  {
   "cell_type": "code",
   "execution_count": 3,
   "metadata": {},
   "outputs": [],
   "source": [
    "from filepaths import fp"
   ]
  },
  {
   "cell_type": "code",
   "execution_count": 4,
   "metadata": {},
   "outputs": [],
   "source": [
    "def _traceback(D):\n",
    "    i, j = array(D.shape) - 2\n",
    "    p, q = [i], [j]\n",
    "    while (i > 0) or (j > 0):\n",
    "        tb = argmin((D[i, j], D[i, j + 1], D[i + 1, j]))\n",
    "        if tb == 0:\n",
    "            i -= 1\n",
    "            j -= 1\n",
    "        elif tb == 1:\n",
    "            i -= 1\n",
    "        else:  # (tb == 2):\n",
    "            j -= 1\n",
    "        p.insert(0, i)\n",
    "        q.insert(0, j)\n",
    "    return array(p), array(q)"
   ]
  },
  {
   "cell_type": "code",
   "execution_count": 5,
   "metadata": {},
   "outputs": [],
   "source": [
    "def dtw(x, y, dist, warp=1, w=inf, s=1.0):\n",
    "    \"\"\"\n",
    "    Computes Dynamic Time Warping (DTW) of two sequences.\n",
    "    :param array x: N1*M array\n",
    "    :param array y: N2*M array\n",
    "    :param func dist: distance used as cost measure\n",
    "    :param int warp: how many shifts are computed.\n",
    "    :param int w: window size limiting the maximal distance between indices of matched entries |i,j|.\n",
    "    :param float s: weight applied on off-diagonal moves of the path. As s gets larger, the warping path is increasingly biased towards the diagonal\n",
    "    Returns the minimum distance, the cost matrix, the accumulated cost matrix, and the wrap path.\n",
    "    \"\"\"\n",
    "    assert len(x)\n",
    "    assert len(y)\n",
    "    assert isinf(w) or (w >= abs(len(x) - len(y)))\n",
    "    assert s > 0\n",
    "    r, c = len(x), len(y)\n",
    "    if not isinf(w):\n",
    "        D0 = full((r + 1, c + 1), inf)\n",
    "        for i in range(1, r + 1):\n",
    "            D0[i, max(1, i - w):min(c + 1, i + w + 1)] = 0\n",
    "        D0[0, 0] = 0\n",
    "    else:\n",
    "        D0 = zeros((r + 1, c + 1))\n",
    "        D0[0, 1:] = inf\n",
    "        D0[1:, 0] = inf\n",
    "    D1 = D0[1:, 1:]  # view\n",
    "    for i in range(r):\n",
    "        for j in range(c):\n",
    "            if (isinf(w) or (max(0, i - w) <= j <= min(c, i + w))):\n",
    "                D1[i, j] = dist(i, j, x, y)\n",
    "    C = D1.copy()\n",
    "    jrange = range(c)\n",
    "    for i in range(r):\n",
    "        if not isinf(w):\n",
    "            jrange = range(max(0, i - w), min(c, i + w + 1))\n",
    "        for j in jrange:\n",
    "            min_list = [D0[i, j]]\n",
    "            for k in range(1, warp + 1):\n",
    "                i_k = min(i + k, r)\n",
    "                j_k = min(j + k, c)\n",
    "                min_list += [D0[i_k, j] * s, D0[i, j_k] * s]\n",
    "            D1[i, j] += min(min_list)\n",
    "    if len(x) == 1:\n",
    "        path = zeros(len(y)), range(len(y))\n",
    "    elif len(y) == 1:\n",
    "        path = range(len(x)), zeros(len(x))\n",
    "    else:\n",
    "        path = _traceback(D0)\n",
    "    return D1[-1, -1], C, D1, path"
   ]
  },
  {
   "cell_type": "code",
   "execution_count": 6,
   "metadata": {},
   "outputs": [],
   "source": [
    "def derivative_dtw_distance(i, j, x, y):\n",
    "    if i+1 == len(x) or j+1 == len(y):\n",
    "        dist = (x[i] - y[j])**2\n",
    "    \n",
    "    else:\n",
    "        d_x_i = ((x[i] - x[i-1]) + (x[i+1] - x[i-1])/2)/2\n",
    "        d_y_j = ((y[j] - y[j-1]) + (y[j+1] - y[j-1])/2)/2    \n",
    "\n",
    "        dist = (d_x_i - d_y_j)**2\n",
    "\n",
    "    return dist"
   ]
  },
  {
   "cell_type": "code",
   "execution_count": 7,
   "metadata": {},
   "outputs": [],
   "source": [
    "def find_gaps(x):\n",
    "    seq = False\n",
    "    missing_seqs = []\n",
    "    seq_start_idx = -1\n",
    "    for i in range(len(x)):\n",
    "        if seq == False and x[i] == 0:\n",
    "            seq = True\n",
    "            seq_start_idx = i\n",
    "        \n",
    "        elif seq == True and x[i] != 0:\n",
    "            seq = False\n",
    "            if seq_start_idx == -1:\n",
    "                raise\n",
    "            missing_seqs.append((seq_start_idx, i))\n",
    "            seq_start_idx = -1\n",
    "    \n",
    "    return missing_seqs"
   ]
  },
  {
   "cell_type": "code",
   "execution_count": 9,
   "metadata": {},
   "outputs": [],
   "source": [
    "def dtwbi(D, Q, len_gap, stride=5):\n",
    "\t\n",
    "\tmin_dtw_cost = inf\n",
    "\tstart_index = 0\n",
    "\t\n",
    "\tfor i in range(0, len(D)-len_gap, stride):\n",
    "\t\t#print(i, i+len_gap)\n",
    "\t\ttry:\n",
    "\t\t\tcost, cost_matrix, acc_cost_matrix, path = dtw(D[i:i+len_gap], Q, dist=derivative_dtw_distance)\n",
    "\t\texcept:\n",
    "\t\t\tprint(D[i*len_gap:(i+1)*len_gap])\n",
    "\t\t\tprint('Q', Q)\n",
    "\t\t\tprint('len_gap', len_gap)\n",
    "\t\t\tprint('len(D)', len(D))\n",
    "\t\t\tprint(i*len_gap, (i+1)*len_gap)\n",
    "\t\t\traise\n",
    "\t\tif cost < min_dtw_cost:\n",
    "\t\t\tmin_dtw_cost = cost\n",
    "\t\t\tstart_index=i\n",
    "\n",
    "\treturn start_index"
   ]
  },
  {
   "cell_type": "code",
   "execution_count": 10,
   "metadata": {},
   "outputs": [],
   "source": [
    "def apply_dtwbi_after(x, start_index, end_index):\n",
    "\tlen_gap = end_index - start_index\n",
    "\t\n",
    "\tQa = x[end_index:end_index+len_gap]\n",
    "\tDa = x[end_index+len_gap:]\n",
    "\t\n",
    "\tQas_start = dtwbi(Da, Qa, len_gap)\n",
    "\t#Qas = x[Qas_start:Qas_start+len_gap]\n",
    "\t\n",
    "\tif Qas_start-len_gap < 0:\n",
    "\t\trefA = x[Qas_start:Qas_start+len_gap] # = Qa\n",
    "\telse:\n",
    "\t\trefA = x[Qas_start-len_gap:Qas_start] # Previous window of Qas\n",
    "\n",
    "\treturn refA"
   ]
  },
  {
   "cell_type": "code",
   "execution_count": 11,
   "metadata": {},
   "outputs": [],
   "source": [
    "def apply_dtwbi_before(x, start_index, end_index):\n",
    "\tlen_gap = end_index - start_index\n",
    "\t\n",
    "\tQb = x[start_index-len_gap:start_index]\n",
    "\tDb = x[:start_index-len_gap]\n",
    "\t\n",
    "\tif len(Qb) == 0:\n",
    "\t\tprint('start_index', start_index)\n",
    "\t\tprint('len_gap', len_gap)\n",
    "\t\tprint('end_index', end_index)\n",
    "\t\traise\n",
    "\n",
    "\tQbs_start = dtwbi(Db, Qb, len_gap)\n",
    "\t#Qbs = x[Qbs_start:Qbs_start+len_gap]\n",
    "\t\n",
    "\tif Qbs_start+2*len_gap > len(x):\n",
    "\t\trefB = x[Qbs_start:Qbs_start+len_gap] # = Qb\n",
    "\t\n",
    "\telse:\n",
    "\t\trefB = x[Qbs_start+len_gap:Qbs_start+2*len_gap] # Next window of Qbs\n",
    "\n",
    "\treturn refB"
   ]
  },
  {
   "cell_type": "code",
   "execution_count": 12,
   "metadata": {},
   "outputs": [],
   "source": [
    "def edtwbi(x, start_index, end_index):\n",
    "\tlen_gap = end_index - start_index\n",
    "\t\n",
    "\tif end_index + len_gap >= len(x):\n",
    "\t\trefB = apply_dtwbi_before(x, start_index, end_index) # only dtwbi in other direction\n",
    "\t\t\n",
    "\t\treturn refB\n",
    "\t\t\n",
    "\telif start_index-len_gap <= 0:\n",
    "\t\trefA = apply_dtwbi_after(x, start_index, end_index) # only dtwbi in other direction\n",
    "\t\t\n",
    "\t\treturn refA\n",
    "\t\n",
    "\telse: # both cannot simultaneously happen, so not keeping a case for that\n",
    "\t\trefA = apply_dtwbi_after(x, start_index, end_index)\n",
    "\t\trefB = apply_dtwbi_before(x, start_index, end_index)\n",
    "\t\t\n",
    "\t\treturn np.mean([np.array(refA), np.array(refB)], axis = 0)"
   ]
  },
  {
   "cell_type": "code",
   "execution_count": 13,
   "metadata": {},
   "outputs": [],
   "source": [
    "def impute_row(i):\n",
    "\trow = df.iloc[i][:-2].to_list()\n",
    "\trow_filled = row.copy()\n",
    "\t\n",
    "\tgaps = find_gaps(row)\n",
    "\tfor gap in gaps:\n",
    "\t\tif gap[1] - gap[0] < 0.3*len(row):\n",
    "\t\t\trow_filled[gap[0]:gap[1]] = edtwbi(row, gap[0], gap[1])\n",
    "\n",
    "\treturn row_filled"
   ]
  },
  {
   "cell_type": "markdown",
   "metadata": {},
   "source": [
    "a = impute_row(1)\n",
    "plt.figure(figsize=(10, 5))\n",
    "plt.plot(df.iloc[1][:-2].to_list(), color='red')\n",
    "plt.plot(a, color='blue')"
   ]
  },
  {
   "cell_type": "markdown",
   "metadata": {},
   "source": [
    "impute_row(0)"
   ]
  },
  {
   "cell_type": "code",
   "execution_count": null,
   "metadata": {},
   "outputs": [
    {
     "name": "stderr",
     "output_type": "stream",
     "text": [
      "  0%|          | 10/24368 [01:26<45:51:25,  6.78s/it]"
     ]
    }
   ],
   "source": [
    "'''\n",
    "new_rows = []\n",
    "for i in tqdm(range(len(df))):\n",
    "    new_rows.append(impute_row(i))\n",
    "'''"
   ]
  },
  {
   "cell_type": "markdown",
   "metadata": {},
   "source": [
    "p = multiprocessing.Pool() \n",
    "new_rows = list(tqdm(p.imap(impute_row, list(range(len(df)))), total=len(df)))"
   ]
  },
  {
   "cell_type": "code",
   "execution_count": null,
   "metadata": {},
   "outputs": [
    {
     "name": "stderr",
     "output_type": "stream",
     "text": [
      "  0%|          | 12/24368 [01:38<48:24:22,  7.15s/it]"
     ]
    }
   ],
   "source": [
    "#new_rows = list(tqdm(map(impute_row, list(range(len(df)))), total=len(df))) "
   ]
  },
  {
   "cell_type": "code",
   "execution_count": 1,
   "metadata": {},
   "outputs": [
    {
     "data": {
      "text/plain": [
       "\"\\nplt.figure(figsize=(10, 5))\\nplt.plot(df.iloc[1][:-2].to_list(), color='red')\\nplt.plot(new_rows[1], color='blue')\\n\""
      ]
     },
     "execution_count": 1,
     "metadata": {},
     "output_type": "execute_result"
    }
   ],
   "source": [
    "'''\n",
    "plt.figure(figsize=(10, 5))\n",
    "plt.plot(df.iloc[1][:-2].to_list(), color='red')\n",
    "plt.plot(new_rows[1], color='blue')\n",
    "'''"
   ]
  },
  {
   "cell_type": "code",
   "execution_count": 37,
   "metadata": {},
   "outputs": [],
   "source": [
    "# Non-MP version\n",
    "#new_rows = list(map(impute_row, list(range(2))))#list(range(len(df)))) "
   ]
  },
  {
   "cell_type": "code",
   "execution_count": null,
   "metadata": {},
   "outputs": [],
   "source": [
    "df = po.read_csv(fp.imputation_raw)"
   ]
  },
  {
   "cell_type": "code",
   "execution_count": null,
   "metadata": {},
   "outputs": [],
   "source": [
    "p = multiprocessing.Pool() \n",
    "\t\tnew_rows = list(tqdm(p.imap(impute_row, list(range(len(df)))), total=len(df)))"
   ]
  },
  {
   "cell_type": "code",
   "execution_count": null,
   "metadata": {},
   "outputs": [],
   "source": [
    "with open(fp.edtwbi_imputed, 'wb') as f:\n",
    "\t\tpickle.dump(new_rows, f)"
   ]
  },
  {
   "cell_type": "code",
   "execution_count": null,
   "metadata": {},
   "outputs": [],
   "source": []
  }
 ],
 "metadata": {
  "kernelspec": {
   "display_name": "Python 3",
   "language": "python",
   "name": "python3"
  },
  "language_info": {
   "codemirror_mode": {
    "name": "ipython",
    "version": 3
   },
   "file_extension": ".py",
   "mimetype": "text/x-python",
   "name": "python",
   "nbconvert_exporter": "python",
   "pygments_lexer": "ipython3",
   "version": "3.7.6"
  }
 },
 "nbformat": 4,
 "nbformat_minor": 4
}
