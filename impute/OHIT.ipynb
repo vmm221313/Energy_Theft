{
 "cells": [
  {
   "cell_type": "code",
   "execution_count": 1,
   "metadata": {},
   "outputs": [],
   "source": [
    "import time\n",
    "import math\n",
    "import numpy as np\n",
    "import pandas as po\n",
    "from tqdm import tqdm\n",
    "import multiprocessing\n",
    "import matplotlib.pyplot as plt"
   ]
  },
  {
   "cell_type": "code",
   "execution_count": 2,
   "metadata": {},
   "outputs": [],
   "source": [
    "df = po.read_csv('data/EnergyConsumption_Theft.csv')\n",
    "df = df.sample(frac=1).reset_index(drop = True) # shuffle df so that classes are evenly distributed in train-val-test"
   ]
  },
  {
   "cell_type": "code",
   "execution_count": 3,
   "metadata": {},
   "outputs": [],
   "source": [
    "df = df.drop(['CONS_NO'], axis = 1)"
   ]
  },
  {
   "cell_type": "code",
   "execution_count": 4,
   "metadata": {},
   "outputs": [
    {
     "data": {
      "text/plain": [
       "0"
      ]
     },
     "execution_count": 4,
     "metadata": {},
     "output_type": "execute_result"
    }
   ],
   "source": [
    "df.isnull().sum().sum()"
   ]
  },
  {
   "cell_type": "code",
   "execution_count": 5,
   "metadata": {},
   "outputs": [
    {
     "data": {
      "text/html": [
       "<div>\n",
       "<style scoped>\n",
       "    .dataframe tbody tr th:only-of-type {\n",
       "        vertical-align: middle;\n",
       "    }\n",
       "\n",
       "    .dataframe tbody tr th {\n",
       "        vertical-align: top;\n",
       "    }\n",
       "\n",
       "    .dataframe thead th {\n",
       "        text-align: right;\n",
       "    }\n",
       "</style>\n",
       "<table border=\"1\" class=\"dataframe\">\n",
       "  <thead>\n",
       "    <tr style=\"text-align: right;\">\n",
       "      <th></th>\n",
       "      <th>FLAG</th>\n",
       "      <th>2014/1/1</th>\n",
       "      <th>2014/1/10</th>\n",
       "      <th>2014/1/11</th>\n",
       "      <th>2014/1/12</th>\n",
       "      <th>2014/1/13</th>\n",
       "      <th>2014/1/14</th>\n",
       "      <th>2014/1/15</th>\n",
       "      <th>2014/1/16</th>\n",
       "      <th>2014/1/17</th>\n",
       "      <th>...</th>\n",
       "      <th>2016/9/28</th>\n",
       "      <th>2016/9/29</th>\n",
       "      <th>2016/9/3</th>\n",
       "      <th>2016/9/30</th>\n",
       "      <th>2016/9/4</th>\n",
       "      <th>2016/9/5</th>\n",
       "      <th>2016/9/6</th>\n",
       "      <th>2016/9/7</th>\n",
       "      <th>2016/9/8</th>\n",
       "      <th>2016/9/9</th>\n",
       "    </tr>\n",
       "  </thead>\n",
       "  <tbody>\n",
       "    <tr>\n",
       "      <th>0</th>\n",
       "      <td>0</td>\n",
       "      <td>10.80</td>\n",
       "      <td>13.23</td>\n",
       "      <td>12.21</td>\n",
       "      <td>14.15</td>\n",
       "      <td>8.41</td>\n",
       "      <td>8.74</td>\n",
       "      <td>10.13</td>\n",
       "      <td>12.590000</td>\n",
       "      <td>17.420000</td>\n",
       "      <td>...</td>\n",
       "      <td>12.26</td>\n",
       "      <td>14.27</td>\n",
       "      <td>9.40</td>\n",
       "      <td>10.42000</td>\n",
       "      <td>10.26</td>\n",
       "      <td>9.04000</td>\n",
       "      <td>11.16</td>\n",
       "      <td>8.64</td>\n",
       "      <td>11.10</td>\n",
       "      <td>7.22</td>\n",
       "    </tr>\n",
       "    <tr>\n",
       "      <th>1</th>\n",
       "      <td>0</td>\n",
       "      <td>13.34</td>\n",
       "      <td>12.83</td>\n",
       "      <td>14.62</td>\n",
       "      <td>16.94</td>\n",
       "      <td>13.78</td>\n",
       "      <td>14.21</td>\n",
       "      <td>15.94</td>\n",
       "      <td>16.820000</td>\n",
       "      <td>10.140000</td>\n",
       "      <td>...</td>\n",
       "      <td>13.03</td>\n",
       "      <td>14.04</td>\n",
       "      <td>16.16</td>\n",
       "      <td>17.02000</td>\n",
       "      <td>12.35</td>\n",
       "      <td>16.06000</td>\n",
       "      <td>15.77</td>\n",
       "      <td>14.58</td>\n",
       "      <td>13.77</td>\n",
       "      <td>12.39</td>\n",
       "    </tr>\n",
       "    <tr>\n",
       "      <th>2</th>\n",
       "      <td>0</td>\n",
       "      <td>0.00</td>\n",
       "      <td>0.00</td>\n",
       "      <td>0.00</td>\n",
       "      <td>0.00</td>\n",
       "      <td>0.00</td>\n",
       "      <td>0.00</td>\n",
       "      <td>0.00</td>\n",
       "      <td>0.000000</td>\n",
       "      <td>0.000000</td>\n",
       "      <td>...</td>\n",
       "      <td>0.24</td>\n",
       "      <td>0.25</td>\n",
       "      <td>0.22</td>\n",
       "      <td>0.25000</td>\n",
       "      <td>0.23</td>\n",
       "      <td>0.23000</td>\n",
       "      <td>0.22</td>\n",
       "      <td>0.22</td>\n",
       "      <td>0.23</td>\n",
       "      <td>0.22</td>\n",
       "    </tr>\n",
       "    <tr>\n",
       "      <th>3</th>\n",
       "      <td>0</td>\n",
       "      <td>0.57</td>\n",
       "      <td>0.91</td>\n",
       "      <td>0.73</td>\n",
       "      <td>0.53</td>\n",
       "      <td>0.84</td>\n",
       "      <td>1.01</td>\n",
       "      <td>0.66</td>\n",
       "      <td>0.560000</td>\n",
       "      <td>0.580000</td>\n",
       "      <td>...</td>\n",
       "      <td>0.11</td>\n",
       "      <td>0.11</td>\n",
       "      <td>0.27</td>\n",
       "      <td>0.30000</td>\n",
       "      <td>0.28</td>\n",
       "      <td>1.14000</td>\n",
       "      <td>1.35</td>\n",
       "      <td>0.93</td>\n",
       "      <td>0.36</td>\n",
       "      <td>0.42</td>\n",
       "    </tr>\n",
       "    <tr>\n",
       "      <th>4</th>\n",
       "      <td>0</td>\n",
       "      <td>0.00</td>\n",
       "      <td>0.00</td>\n",
       "      <td>0.00</td>\n",
       "      <td>0.00</td>\n",
       "      <td>0.00</td>\n",
       "      <td>0.00</td>\n",
       "      <td>0.00</td>\n",
       "      <td>0.000000</td>\n",
       "      <td>0.000000</td>\n",
       "      <td>...</td>\n",
       "      <td>5.53</td>\n",
       "      <td>4.98</td>\n",
       "      <td>3.68</td>\n",
       "      <td>7.23000</td>\n",
       "      <td>5.49</td>\n",
       "      <td>4.80000</td>\n",
       "      <td>4.59</td>\n",
       "      <td>3.82</td>\n",
       "      <td>3.51</td>\n",
       "      <td>3.44</td>\n",
       "    </tr>\n",
       "    <tr>\n",
       "      <th>...</th>\n",
       "      <td>...</td>\n",
       "      <td>...</td>\n",
       "      <td>...</td>\n",
       "      <td>...</td>\n",
       "      <td>...</td>\n",
       "      <td>...</td>\n",
       "      <td>...</td>\n",
       "      <td>...</td>\n",
       "      <td>...</td>\n",
       "      <td>...</td>\n",
       "      <td>...</td>\n",
       "      <td>...</td>\n",
       "      <td>...</td>\n",
       "      <td>...</td>\n",
       "      <td>...</td>\n",
       "      <td>...</td>\n",
       "      <td>...</td>\n",
       "      <td>...</td>\n",
       "      <td>...</td>\n",
       "      <td>...</td>\n",
       "      <td>...</td>\n",
       "    </tr>\n",
       "    <tr>\n",
       "      <th>42367</th>\n",
       "      <td>0</td>\n",
       "      <td>0.00</td>\n",
       "      <td>0.00</td>\n",
       "      <td>0.00</td>\n",
       "      <td>0.00</td>\n",
       "      <td>0.00</td>\n",
       "      <td>0.00</td>\n",
       "      <td>0.00</td>\n",
       "      <td>0.000000</td>\n",
       "      <td>0.000000</td>\n",
       "      <td>...</td>\n",
       "      <td>3.06</td>\n",
       "      <td>0.53</td>\n",
       "      <td>1.40</td>\n",
       "      <td>0.42000</td>\n",
       "      <td>0.34</td>\n",
       "      <td>0.39000</td>\n",
       "      <td>2.66</td>\n",
       "      <td>1.44</td>\n",
       "      <td>0.48</td>\n",
       "      <td>0.48</td>\n",
       "    </tr>\n",
       "    <tr>\n",
       "      <th>42368</th>\n",
       "      <td>0</td>\n",
       "      <td>0.00</td>\n",
       "      <td>0.00</td>\n",
       "      <td>0.00</td>\n",
       "      <td>0.00</td>\n",
       "      <td>0.00</td>\n",
       "      <td>0.00</td>\n",
       "      <td>0.00</td>\n",
       "      <td>0.000000</td>\n",
       "      <td>0.000000</td>\n",
       "      <td>...</td>\n",
       "      <td>6.63</td>\n",
       "      <td>5.42</td>\n",
       "      <td>5.25</td>\n",
       "      <td>6.30000</td>\n",
       "      <td>5.11</td>\n",
       "      <td>5.94000</td>\n",
       "      <td>6.93</td>\n",
       "      <td>5.97</td>\n",
       "      <td>6.89</td>\n",
       "      <td>5.94</td>\n",
       "    </tr>\n",
       "    <tr>\n",
       "      <th>42369</th>\n",
       "      <td>0</td>\n",
       "      <td>9.14</td>\n",
       "      <td>7.23</td>\n",
       "      <td>9.70</td>\n",
       "      <td>8.29</td>\n",
       "      <td>6.66</td>\n",
       "      <td>6.50</td>\n",
       "      <td>7.77</td>\n",
       "      <td>13.510811</td>\n",
       "      <td>10.700000</td>\n",
       "      <td>...</td>\n",
       "      <td>5.45</td>\n",
       "      <td>7.15</td>\n",
       "      <td>7.83</td>\n",
       "      <td>7.35000</td>\n",
       "      <td>9.82</td>\n",
       "      <td>9.90000</td>\n",
       "      <td>7.02</td>\n",
       "      <td>9.64</td>\n",
       "      <td>8.01</td>\n",
       "      <td>8.72</td>\n",
       "    </tr>\n",
       "    <tr>\n",
       "      <th>42370</th>\n",
       "      <td>0</td>\n",
       "      <td>0.00</td>\n",
       "      <td>0.00</td>\n",
       "      <td>0.00</td>\n",
       "      <td>0.00</td>\n",
       "      <td>0.00</td>\n",
       "      <td>0.00</td>\n",
       "      <td>0.00</td>\n",
       "      <td>0.000000</td>\n",
       "      <td>0.000000</td>\n",
       "      <td>...</td>\n",
       "      <td>43.38</td>\n",
       "      <td>69.56</td>\n",
       "      <td>71.36</td>\n",
       "      <td>77.93916</td>\n",
       "      <td>73.67</td>\n",
       "      <td>77.93916</td>\n",
       "      <td>74.86</td>\n",
       "      <td>71.14</td>\n",
       "      <td>72.23</td>\n",
       "      <td>71.69</td>\n",
       "    </tr>\n",
       "    <tr>\n",
       "      <th>42371</th>\n",
       "      <td>0</td>\n",
       "      <td>0.55</td>\n",
       "      <td>0.65</td>\n",
       "      <td>0.63</td>\n",
       "      <td>0.49</td>\n",
       "      <td>0.41</td>\n",
       "      <td>0.63</td>\n",
       "      <td>0.47</td>\n",
       "      <td>0.400000</td>\n",
       "      <td>1.290519</td>\n",
       "      <td>...</td>\n",
       "      <td>0.14</td>\n",
       "      <td>0.01</td>\n",
       "      <td>0.32</td>\n",
       "      <td>0.07000</td>\n",
       "      <td>0.32</td>\n",
       "      <td>0.07000</td>\n",
       "      <td>0.06</td>\n",
       "      <td>0.05</td>\n",
       "      <td>0.10</td>\n",
       "      <td>0.10</td>\n",
       "    </tr>\n",
       "  </tbody>\n",
       "</table>\n",
       "<p>42372 rows × 1035 columns</p>\n",
       "</div>"
      ],
      "text/plain": [
       "       FLAG  2014/1/1  2014/1/10  2014/1/11  2014/1/12  2014/1/13  2014/1/14  \\\n",
       "0         0     10.80      13.23      12.21      14.15       8.41       8.74   \n",
       "1         0     13.34      12.83      14.62      16.94      13.78      14.21   \n",
       "2         0      0.00       0.00       0.00       0.00       0.00       0.00   \n",
       "3         0      0.57       0.91       0.73       0.53       0.84       1.01   \n",
       "4         0      0.00       0.00       0.00       0.00       0.00       0.00   \n",
       "...     ...       ...        ...        ...        ...        ...        ...   \n",
       "42367     0      0.00       0.00       0.00       0.00       0.00       0.00   \n",
       "42368     0      0.00       0.00       0.00       0.00       0.00       0.00   \n",
       "42369     0      9.14       7.23       9.70       8.29       6.66       6.50   \n",
       "42370     0      0.00       0.00       0.00       0.00       0.00       0.00   \n",
       "42371     0      0.55       0.65       0.63       0.49       0.41       0.63   \n",
       "\n",
       "       2014/1/15  2014/1/16  2014/1/17  ...  2016/9/28  2016/9/29  2016/9/3  \\\n",
       "0          10.13  12.590000  17.420000  ...      12.26      14.27      9.40   \n",
       "1          15.94  16.820000  10.140000  ...      13.03      14.04     16.16   \n",
       "2           0.00   0.000000   0.000000  ...       0.24       0.25      0.22   \n",
       "3           0.66   0.560000   0.580000  ...       0.11       0.11      0.27   \n",
       "4           0.00   0.000000   0.000000  ...       5.53       4.98      3.68   \n",
       "...          ...        ...        ...  ...        ...        ...       ...   \n",
       "42367       0.00   0.000000   0.000000  ...       3.06       0.53      1.40   \n",
       "42368       0.00   0.000000   0.000000  ...       6.63       5.42      5.25   \n",
       "42369       7.77  13.510811  10.700000  ...       5.45       7.15      7.83   \n",
       "42370       0.00   0.000000   0.000000  ...      43.38      69.56     71.36   \n",
       "42371       0.47   0.400000   1.290519  ...       0.14       0.01      0.32   \n",
       "\n",
       "       2016/9/30  2016/9/4  2016/9/5  2016/9/6  2016/9/7  2016/9/8  2016/9/9  \n",
       "0       10.42000     10.26   9.04000     11.16      8.64     11.10      7.22  \n",
       "1       17.02000     12.35  16.06000     15.77     14.58     13.77     12.39  \n",
       "2        0.25000      0.23   0.23000      0.22      0.22      0.23      0.22  \n",
       "3        0.30000      0.28   1.14000      1.35      0.93      0.36      0.42  \n",
       "4        7.23000      5.49   4.80000      4.59      3.82      3.51      3.44  \n",
       "...          ...       ...       ...       ...       ...       ...       ...  \n",
       "42367    0.42000      0.34   0.39000      2.66      1.44      0.48      0.48  \n",
       "42368    6.30000      5.11   5.94000      6.93      5.97      6.89      5.94  \n",
       "42369    7.35000      9.82   9.90000      7.02      9.64      8.01      8.72  \n",
       "42370   77.93916     73.67  77.93916     74.86     71.14     72.23     71.69  \n",
       "42371    0.07000      0.32   0.07000      0.06      0.05      0.10      0.10  \n",
       "\n",
       "[42372 rows x 1035 columns]"
      ]
     },
     "execution_count": 5,
     "metadata": {},
     "output_type": "execute_result"
    }
   ],
   "source": [
    "df"
   ]
  },
  {
   "cell_type": "code",
   "execution_count": 6,
   "metadata": {},
   "outputs": [
    {
     "data": {
      "text/plain": [
       "0    38757\n",
       "1     3615\n",
       "Name: FLAG, dtype: int64"
      ]
     },
     "execution_count": 6,
     "metadata": {},
     "output_type": "execute_result"
    }
   ],
   "source": [
    "df['FLAG'].value_counts()"
   ]
  },
  {
   "cell_type": "code",
   "execution_count": 7,
   "metadata": {},
   "outputs": [],
   "source": [
    "df_min = df[df['FLAG'] == 1].reset_index(drop=True)"
   ]
  },
  {
   "cell_type": "code",
   "execution_count": 8,
   "metadata": {},
   "outputs": [],
   "source": [
    "minor = df_min.drop('FLAG', axis=1).to_numpy()"
   ]
  },
  {
   "cell_type": "code",
   "execution_count": null,
   "metadata": {},
   "outputs": [],
   "source": [
    "math.sqrt(len(minor))"
   ]
  },
  {
   "cell_type": "code",
   "execution_count": 10,
   "metadata": {},
   "outputs": [],
   "source": [
    "k = 60"
   ]
  },
  {
   "cell_type": "code",
   "execution_count": 30,
   "metadata": {},
   "outputs": [
    {
     "data": {
      "text/plain": [
       "(3615, 1034)"
      ]
     },
     "execution_count": 30,
     "metadata": {},
     "output_type": "execute_result"
    }
   ],
   "source": [
    "minor.shape"
   ]
  },
  {
   "cell_type": "code",
   "execution_count": 12,
   "metadata": {},
   "outputs": [],
   "source": [
    "from sklearn.neighbors import NearestNeighbors"
   ]
  },
  {
   "cell_type": "code",
   "execution_count": 13,
   "metadata": {},
   "outputs": [],
   "source": [
    "nbrs = NearestNeighbors(n_neighbors=k+1, algorithm='ball_tree').fit(minor)"
   ]
  },
  {
   "cell_type": "code",
   "execution_count": 14,
   "metadata": {},
   "outputs": [],
   "source": [
    "distances, indices = nbrs.kneighbors(minor)"
   ]
  },
  {
   "cell_type": "code",
   "execution_count": 15,
   "metadata": {},
   "outputs": [],
   "source": [
    "indices = indices[:, 1:]"
   ]
  },
  {
   "cell_type": "code",
   "execution_count": 16,
   "metadata": {},
   "outputs": [
    {
     "data": {
      "text/plain": [
       "(3615, 60)"
      ]
     },
     "execution_count": 16,
     "metadata": {},
     "output_type": "execute_result"
    }
   ],
   "source": [
    "indices.shape"
   ]
  },
  {
   "cell_type": "code",
   "execution_count": 17,
   "metadata": {},
   "outputs": [],
   "source": [
    "def SNN(i, j):\n",
    "    return len(np.intersect1d(indices[i], indices[j]))"
   ]
  },
  {
   "cell_type": "code",
   "execution_count": 18,
   "metadata": {},
   "outputs": [],
   "source": [
    "snn_sim = {}"
   ]
  },
  {
   "cell_type": "code",
   "execution_count": 19,
   "metadata": {},
   "outputs": [
    {
     "name": "stderr",
     "output_type": "stream",
     "text": [
      "100%|██████████| 3615/3615 [04:26<00:00, 13.55it/s]\n"
     ]
    }
   ],
   "source": [
    "for i in tqdm(range(len(indices))):\n",
    "    snn_sim[i] = {}\n",
    "    for j in range(len(indices)):\n",
    "        snn_sim[i][j] = SNN(i, j)"
   ]
  },
  {
   "cell_type": "code",
   "execution_count": 20,
   "metadata": {},
   "outputs": [],
   "source": [
    "density = {}\n",
    "for i in range(len(indices)):\n",
    "    sum = 0\n",
    "    for j in range(len(indices[i])):\n",
    "        sum += snn_sim[i][j]\n",
    "    \n",
    "    density[i] = sum"
   ]
  },
  {
   "cell_type": "code",
   "execution_count": 21,
   "metadata": {},
   "outputs": [],
   "source": [
    "density_ratio = {}\n",
    "for i in range(len(indices)):\n",
    "    neigh_dens = []\n",
    "    for j in range(len(indices[i])):\n",
    "        neigh_dens.append(density[indices[i][j]])\n",
    "    neigh_dens = np.array(neigh_dens)\n",
    "    density_ratio[i] = density[i]/np.mean(neigh_dens)"
   ]
  },
  {
   "cell_type": "code",
   "execution_count": 22,
   "metadata": {},
   "outputs": [
    {
     "data": {
      "text/plain": [
       "0.872246604075523"
      ]
     },
     "execution_count": 22,
     "metadata": {},
     "output_type": "execute_result"
    }
   ],
   "source": [
    "np.mean(np.array(list(density_ratio.values())))"
   ]
  },
  {
   "cell_type": "code",
   "execution_count": 23,
   "metadata": {},
   "outputs": [
    {
     "data": {
      "text/plain": [
       "0.22158539713638797"
      ]
     },
     "execution_count": 23,
     "metadata": {},
     "output_type": "execute_result"
    }
   ],
   "source": [
    "np.std(np.array(list(density_ratio.values())))"
   ]
  },
  {
   "cell_type": "code",
   "execution_count": 24,
   "metadata": {},
   "outputs": [
    {
     "data": {
      "text/plain": [
       "(array([  6.,  37., 132., 299., 556., 837., 984., 612., 135.,  17.]),\n",
       " array([0.01745708, 0.16566727, 0.31387746, 0.46208765, 0.61029783,\n",
       "        0.75850802, 0.90671821, 1.05492839, 1.20313858, 1.35134877,\n",
       "        1.49955895]),\n",
       " <a list of 10 Patch objects>)"
      ]
     },
     "execution_count": 24,
     "metadata": {},
     "output_type": "execute_result"
    },
    {
     "data": {
      "image/png": "[encoded data removed]",
      "text/plain": [
       "<Figure size 432x288 with 1 Axes>"
      ]
     },
     "metadata": {
      "needs_background": "light"
     },
     "output_type": "display_data"
    }
   ],
   "source": [
    "plt.hist(np.array(list(density_ratio.values())))"
   ]
  },
  {
   "cell_type": "code",
   "execution_count": 35,
   "metadata": {},
   "outputs": [],
   "source": [
    "drT = 0.9# + 0.15*1.5"
   ]
  },
  {
   "cell_type": "code",
   "execution_count": 36,
   "metadata": {},
   "outputs": [],
   "source": [
    "core_points = []\n",
    "for i in range(len(density_ratio)):\n",
    "    if density_ratio[i] > drT:\n",
    "        core_points.append(i)"
   ]
  },
  {
   "cell_type": "code",
   "execution_count": 37,
   "metadata": {},
   "outputs": [
    {
     "data": {
      "text/plain": [
       "1791"
      ]
     },
     "execution_count": 37,
     "metadata": {},
     "output_type": "execute_result"
    }
   ],
   "source": [
    "len(core_points)"
   ]
  },
  {
   "cell_type": "code",
   "execution_count": 28,
   "metadata": {},
   "outputs": [],
   "source": [
    "def reverse_nearest_neighbours_core(pt_index):\n",
    "    rnns = []\n",
    "    for i in range(len(indices)):\n",
    "        if i!=pt_index:\n",
    "            if pt_index in list(indices[i]):\n",
    "                if i in core_points:\n",
    "                    rnns.append(i)\n",
    "    return rnns"
   ]
  },
  {
   "cell_type": "code",
   "execution_count": 38,
   "metadata": {},
   "outputs": [],
   "source": [
    "lens = []\n",
    "#core_pts + nearest_neighbours (there are too many)\n",
    "directly_density_reachable_core_points = {} \n",
    "for cp_index in core_points: #Can't need actual values here\n",
    "    dds = list(indices[cp_index]) \n",
    "    dds += reverse_nearest_neighbours_core(cp_index)\n",
    "    \n",
    "    dds = list(set(dds))\n",
    "    dds.sort()\n",
    "    \n",
    "    lens.append(len(dds))\n",
    "    directly_density_reachable_core_points[cp_index] = dds"
   ]
  },
  {
   "cell_type": "code",
   "execution_count": 29,
   "metadata": {},
   "outputs": [
    {
     "ename": "NameError",
     "evalue": "name 'lens' is not defined",
     "output_type": "error",
     "traceback": [
      "\u001b[0;31m---------------------------------------------------------------------------\u001b[0m",
      "\u001b[0;31mNameError\u001b[0m                                 Traceback (most recent call last)",
      "\u001b[0;32m<ipython-input-29-e6740cdf4892>\u001b[0m in \u001b[0;36m<module>\u001b[0;34m\u001b[0m\n\u001b[0;32m----> 1\u001b[0;31m \u001b[0mlens\u001b[0m \u001b[0;34m=\u001b[0m \u001b[0mnp\u001b[0m\u001b[0;34m.\u001b[0m\u001b[0marray\u001b[0m\u001b[0;34m(\u001b[0m\u001b[0mlens\u001b[0m\u001b[0;34m)\u001b[0m\u001b[0;34m\u001b[0m\u001b[0;34m\u001b[0m\u001b[0m\n\u001b[0m",
      "\u001b[0;31mNameError\u001b[0m: name 'lens' is not defined"
     ]
    }
   ],
   "source": [
    "lens = np.array(lens)"
   ]
  },
  {
   "cell_type": "code",
   "execution_count": null,
   "metadata": {},
   "outputs": [],
   "source": [
    "core_points[12]"
   ]
  },
  {
   "cell_type": "code",
   "execution_count": 41,
   "metadata": {},
   "outputs": [
    {
     "data": {
      "text/plain": [
       "73"
      ]
     },
     "execution_count": 41,
     "metadata": {},
     "output_type": "execute_result"
    }
   ],
   "source": [
    "len(directly_density_reachable_core_points[22])"
   ]
  },
  {
   "cell_type": "code",
   "execution_count": 42,
   "metadata": {},
   "outputs": [],
   "source": [
    "clusters = {}"
   ]
  },
  {
   "cell_type": "markdown",
   "metadata": {},
   "source": [
    "def is_ddr(pt_1, pt_2):\n",
    "    if pt_2 in indices[pt_1]:\n",
    "        return True\n",
    "    \n",
    "    elif pt_2 in reverse_nearest_neighbours_core(pt_1):\n",
    "        return True\n",
    "    \n",
    "    else:\n",
    "        return False"
   ]
  },
  {
   "cell_type": "markdown",
   "metadata": {},
   "source": [
    "dds_core_pts = {}\n",
    "for cp_index in tqdm(core_points):\n",
    "    dds_core_pts[cp_index] = {}\n",
    "    for cp_2 in tqdm(core_points):\n",
    "        if is_ddr(cp_index, cp_2):\n",
    "            dds_core_pts[cp_index] = cp_2"
   ]
  },
  {
   "cell_type": "code",
   "execution_count": null,
   "metadata": {},
   "outputs": [],
   "source": []
  },
  {
   "cell_type": "code",
   "execution_count": null,
   "metadata": {},
   "outputs": [],
   "source": [
    "outliers = []\n",
    "for i in range(len(indices)):\n",
    "    count = 0\n",
    "    \n",
    "    for core_pt in directly_density_reachable_core_points:\n",
    "        if i in directly_density_reachable_core_points[core_pt]:\n",
    "            count += 1\n",
    "            break # if the point is even in one dds then it's not an outlier\n",
    "    \n",
    "    if count == 0:\n",
    "        outliers.append(i)   \n",
    "len(outliers)"
   ]
  },
  {
   "cell_type": "code",
   "execution_count": null,
   "metadata": {},
   "outputs": [],
   "source": []
  },
  {
   "cell_type": "code",
   "execution_count": null,
   "metadata": {},
   "outputs": [],
   "source": []
  },
  {
   "cell_type": "code",
   "execution_count": null,
   "metadata": {},
   "outputs": [],
   "source": []
  },
  {
   "cell_type": "code",
   "execution_count": null,
   "metadata": {},
   "outputs": [],
   "source": []
  },
  {
   "cell_type": "code",
   "execution_count": null,
   "metadata": {},
   "outputs": [],
   "source": []
  },
  {
   "cell_type": "code",
   "execution_count": null,
   "metadata": {},
   "outputs": [],
   "source": []
  },
  {
   "cell_type": "code",
   "execution_count": 38,
   "metadata": {},
   "outputs": [],
   "source": [
    "SNNs = list(map(SNN, range()))\n",
    "\n",
    "len(SNNs)\n",
    "\n",
    "SNNs\n",
    "\n",
    "start = time.process_time()\n",
    "for i in range(len(minor)):\n",
    "    \n",
    "start = time.process_time()\n",
    "for i in range(len(minor)):\n",
    "    for j in range(len(minor)):\n",
    "        np.intersect1d(indices[i], indices[j])\n",
    "print(time.process_time() - start)\n",
    "\n",
    "arr_ind = 23\n",
    "\n",
    "def knn(arr_ind):\n",
    "    norms = np.zeros(len(minor),)\n",
    "    for i in range(len(minor)):\n",
    "        if arr_ind == i:\n",
    "            continue\n",
    "        norms[i] = np.linalg.norm(minor[i]-minor[arr_ind], ord=2)\n",
    "    \n",
    "    norms = norms.argsort()\n",
    "    return list(norms[:k])\n",
    "\n",
    "p = multiprocessing.Pool()\n",
    "\n",
    "def calc_norm(i):\n",
    "    if arr_ind == i:\n",
    "        return np.inf\n",
    "    return np.linalg.norm(minor[i]-minor[arr_ind], ord=2)\n",
    "\n",
    "def knn(arr_ind):    \n",
    "    \n",
    "    start = time.process_time()\n",
    "    #norms = list(map(calc_norm, range(len(minor))))\n",
    "    norms = p.map(calc_norm, range(len(minor)))\n",
    "    print(time.process_time() - start)\n",
    "        \n",
    "    norms = np.array(norms).argsort()\n",
    "    \n",
    "    return list(norms[:k])\n",
    "\n",
    "minor[1322]\n",
    "\n",
    "knn_idx = knn(1322)\n",
    "knn_idx\n",
    "\n",
    "knn_idx = knn(1322)\n",
    "\n",
    "minor[knn_idx, :]\n",
    "\n",
    "minor[knn_idx, :].shape\n",
    "\n",
    "arr_ind = 23\n",
    "knns_self = knn(arr_ind) \n",
    "\n",
    "\n",
    "\n",
    "for i in range(100):\n",
    "    snn_mp(i)\n",
    "snn_mp_out = map(snn_mp, range(100))\n",
    "\n",
    "snn_mp_out = map(snn_mp, range(len(minor)))\n",
    "\n",
    "3000/60\n",
    "\n",
    "def snn(arr_ind):\n",
    "    knns_self = knn(arr_ind)\n",
    "    \n",
    "    snn_sim = []\n",
    "    for i in tqdm(range(len(minor))):\n",
    "        if arr_ind == i:\n",
    "            snn_sim.append([])\n",
    "        \n",
    "        else: \n",
    "            knns_other = knn(i)\n",
    "            #snn_sim.append(list(set(knns_other) & set(knns_self))) \n",
    "            snn_sim.append(list(set(knns_self).intersection(knns_other))) \n",
    "            \n",
    "    return snn_sim\n",
    "\n",
    "sims = snn(23)\n",
    "\n",
    "snn_sim = snn(23)\n",
    "\n",
    "len(snn_sim)\n",
    "\n",
    "np.linalg.norm(np.random.randn(100, 1) - np.random.randn(100, 1), ord=2)"
   ]
  },
  {
   "cell_type": "code",
   "execution_count": null,
   "metadata": {},
   "outputs": [],
   "source": []
  }
 ],
 "metadata": {
  "kernelspec": {
   "display_name": "Python 3",
   "language": "python",
   "name": "python3"
  },
  "language_info": {
   "codemirror_mode": {
    "name": "ipython",
    "version": 3
   },
   "file_extension": ".py",
   "mimetype": "text/x-python",
   "name": "python",
   "nbconvert_exporter": "python",
   "pygments_lexer": "ipython3",
   "version": "3.7.7"
  }
 },
 "nbformat": 4,
 "nbformat_minor": 4
}
