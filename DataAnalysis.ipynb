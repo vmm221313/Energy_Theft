{
 "cells": [
  {
   "cell_type": "code",
   "execution_count": 1,
   "metadata": {},
   "outputs": [],
   "source": [
    "import numpy as np\n",
    "import pandas as po\n",
    "from tqdm import tqdm\n",
    "import matplotlib.pyplot as plt"
   ]
  },
  {
   "cell_type": "code",
   "execution_count": 2,
   "metadata": {},
   "outputs": [],
   "source": [
    "df = po.read_csv('data/EnergyConsumption_Theft.csv')\n",
    "df = df.sample(frac=1).reset_index(drop = True) # shuffle df so that classes are evenly distributed in train-val-test"
   ]
  },
  {
   "cell_type": "code",
   "execution_count": 3,
   "metadata": {},
   "outputs": [],
   "source": [
    "df = df.drop(['CONS_NO'], axis = 1)"
   ]
  },
  {
   "cell_type": "code",
   "execution_count": 4,
   "metadata": {},
   "outputs": [
    {
     "data": {
      "text/plain": [
       "0"
      ]
     },
     "execution_count": 4,
     "metadata": {},
     "output_type": "execute_result"
    }
   ],
   "source": [
    "df.isnull().sum().sum()"
   ]
  },
  {
   "cell_type": "code",
   "execution_count": 5,
   "metadata": {},
   "outputs": [
    {
     "data": {
      "text/html": [
       "<div>\n",
       "<style scoped>\n",
       "    .dataframe tbody tr th:only-of-type {\n",
       "        vertical-align: middle;\n",
       "    }\n",
       "\n",
       "    .dataframe tbody tr th {\n",
       "        vertical-align: top;\n",
       "    }\n",
       "\n",
       "    .dataframe thead th {\n",
       "        text-align: right;\n",
       "    }\n",
       "</style>\n",
       "<table border=\"1\" class=\"dataframe\">\n",
       "  <thead>\n",
       "    <tr style=\"text-align: right;\">\n",
       "      <th></th>\n",
       "      <th>FLAG</th>\n",
       "      <th>2014/1/1</th>\n",
       "      <th>2014/1/10</th>\n",
       "      <th>2014/1/11</th>\n",
       "      <th>2014/1/12</th>\n",
       "      <th>2014/1/13</th>\n",
       "      <th>2014/1/14</th>\n",
       "      <th>2014/1/15</th>\n",
       "      <th>2014/1/16</th>\n",
       "      <th>2014/1/17</th>\n",
       "      <th>...</th>\n",
       "      <th>2016/9/28</th>\n",
       "      <th>2016/9/29</th>\n",
       "      <th>2016/9/3</th>\n",
       "      <th>2016/9/30</th>\n",
       "      <th>2016/9/4</th>\n",
       "      <th>2016/9/5</th>\n",
       "      <th>2016/9/6</th>\n",
       "      <th>2016/9/7</th>\n",
       "      <th>2016/9/8</th>\n",
       "      <th>2016/9/9</th>\n",
       "    </tr>\n",
       "  </thead>\n",
       "  <tbody>\n",
       "    <tr>\n",
       "      <th>0</th>\n",
       "      <td>0</td>\n",
       "      <td>6.12</td>\n",
       "      <td>7.44</td>\n",
       "      <td>9.20</td>\n",
       "      <td>8.56</td>\n",
       "      <td>9.44</td>\n",
       "      <td>7.52</td>\n",
       "      <td>6.24</td>\n",
       "      <td>9.27</td>\n",
       "      <td>10.18</td>\n",
       "      <td>...</td>\n",
       "      <td>11.340000</td>\n",
       "      <td>5.230000</td>\n",
       "      <td>7.260000</td>\n",
       "      <td>6.670000</td>\n",
       "      <td>5.230000</td>\n",
       "      <td>8.270000</td>\n",
       "      <td>7.530000</td>\n",
       "      <td>7.730000</td>\n",
       "      <td>5.140000</td>\n",
       "      <td>6.960000</td>\n",
       "    </tr>\n",
       "    <tr>\n",
       "      <th>1</th>\n",
       "      <td>0</td>\n",
       "      <td>0.00</td>\n",
       "      <td>0.00</td>\n",
       "      <td>0.00</td>\n",
       "      <td>0.00</td>\n",
       "      <td>0.00</td>\n",
       "      <td>0.00</td>\n",
       "      <td>0.00</td>\n",
       "      <td>0.00</td>\n",
       "      <td>0.00</td>\n",
       "      <td>...</td>\n",
       "      <td>0.000000</td>\n",
       "      <td>0.000000</td>\n",
       "      <td>3.800000</td>\n",
       "      <td>3.250000</td>\n",
       "      <td>2.230000</td>\n",
       "      <td>2.540000</td>\n",
       "      <td>2.210000</td>\n",
       "      <td>0.360000</td>\n",
       "      <td>0.570000</td>\n",
       "      <td>2.670000</td>\n",
       "    </tr>\n",
       "    <tr>\n",
       "      <th>2</th>\n",
       "      <td>0</td>\n",
       "      <td>9.05</td>\n",
       "      <td>0.00</td>\n",
       "      <td>7.02</td>\n",
       "      <td>4.65</td>\n",
       "      <td>3.28</td>\n",
       "      <td>3.99</td>\n",
       "      <td>5.43</td>\n",
       "      <td>0.00</td>\n",
       "      <td>5.00</td>\n",
       "      <td>...</td>\n",
       "      <td>10.070000</td>\n",
       "      <td>13.360000</td>\n",
       "      <td>22.530000</td>\n",
       "      <td>9.660000</td>\n",
       "      <td>25.550000</td>\n",
       "      <td>18.280000</td>\n",
       "      <td>16.600000</td>\n",
       "      <td>14.490000</td>\n",
       "      <td>11.140000</td>\n",
       "      <td>8.660000</td>\n",
       "    </tr>\n",
       "    <tr>\n",
       "      <th>3</th>\n",
       "      <td>0</td>\n",
       "      <td>0.00</td>\n",
       "      <td>0.00</td>\n",
       "      <td>0.00</td>\n",
       "      <td>0.00</td>\n",
       "      <td>0.00</td>\n",
       "      <td>0.00</td>\n",
       "      <td>0.00</td>\n",
       "      <td>0.00</td>\n",
       "      <td>0.00</td>\n",
       "      <td>...</td>\n",
       "      <td>5.454006</td>\n",
       "      <td>5.454006</td>\n",
       "      <td>5.454006</td>\n",
       "      <td>5.454006</td>\n",
       "      <td>4.550000</td>\n",
       "      <td>5.454006</td>\n",
       "      <td>5.454006</td>\n",
       "      <td>5.454006</td>\n",
       "      <td>5.454006</td>\n",
       "      <td>5.454006</td>\n",
       "    </tr>\n",
       "    <tr>\n",
       "      <th>4</th>\n",
       "      <td>0</td>\n",
       "      <td>0.00</td>\n",
       "      <td>0.00</td>\n",
       "      <td>0.00</td>\n",
       "      <td>0.00</td>\n",
       "      <td>0.00</td>\n",
       "      <td>0.00</td>\n",
       "      <td>0.00</td>\n",
       "      <td>0.00</td>\n",
       "      <td>0.00</td>\n",
       "      <td>...</td>\n",
       "      <td>0.010000</td>\n",
       "      <td>0.000000</td>\n",
       "      <td>0.020000</td>\n",
       "      <td>0.000000</td>\n",
       "      <td>0.000000</td>\n",
       "      <td>0.000000</td>\n",
       "      <td>0.010000</td>\n",
       "      <td>0.173928</td>\n",
       "      <td>0.050000</td>\n",
       "      <td>0.060000</td>\n",
       "    </tr>\n",
       "    <tr>\n",
       "      <th>...</th>\n",
       "      <td>...</td>\n",
       "      <td>...</td>\n",
       "      <td>...</td>\n",
       "      <td>...</td>\n",
       "      <td>...</td>\n",
       "      <td>...</td>\n",
       "      <td>...</td>\n",
       "      <td>...</td>\n",
       "      <td>...</td>\n",
       "      <td>...</td>\n",
       "      <td>...</td>\n",
       "      <td>...</td>\n",
       "      <td>...</td>\n",
       "      <td>...</td>\n",
       "      <td>...</td>\n",
       "      <td>...</td>\n",
       "      <td>...</td>\n",
       "      <td>...</td>\n",
       "      <td>...</td>\n",
       "      <td>...</td>\n",
       "      <td>...</td>\n",
       "    </tr>\n",
       "    <tr>\n",
       "      <th>42367</th>\n",
       "      <td>0</td>\n",
       "      <td>0.00</td>\n",
       "      <td>0.00</td>\n",
       "      <td>0.00</td>\n",
       "      <td>0.00</td>\n",
       "      <td>0.00</td>\n",
       "      <td>0.00</td>\n",
       "      <td>0.00</td>\n",
       "      <td>0.00</td>\n",
       "      <td>0.00</td>\n",
       "      <td>...</td>\n",
       "      <td>12.020000</td>\n",
       "      <td>10.160000</td>\n",
       "      <td>13.350000</td>\n",
       "      <td>10.940000</td>\n",
       "      <td>10.300000</td>\n",
       "      <td>11.440000</td>\n",
       "      <td>10.200000</td>\n",
       "      <td>11.780000</td>\n",
       "      <td>10.810000</td>\n",
       "      <td>11.130000</td>\n",
       "    </tr>\n",
       "    <tr>\n",
       "      <th>42368</th>\n",
       "      <td>0</td>\n",
       "      <td>2.71</td>\n",
       "      <td>2.08</td>\n",
       "      <td>1.85</td>\n",
       "      <td>2.07</td>\n",
       "      <td>2.32</td>\n",
       "      <td>0.00</td>\n",
       "      <td>1.77</td>\n",
       "      <td>1.61</td>\n",
       "      <td>2.81</td>\n",
       "      <td>...</td>\n",
       "      <td>5.060124</td>\n",
       "      <td>3.910000</td>\n",
       "      <td>5.060124</td>\n",
       "      <td>4.510000</td>\n",
       "      <td>5.060124</td>\n",
       "      <td>4.590000</td>\n",
       "      <td>4.550000</td>\n",
       "      <td>3.930000</td>\n",
       "      <td>4.370000</td>\n",
       "      <td>5.060124</td>\n",
       "    </tr>\n",
       "    <tr>\n",
       "      <th>42369</th>\n",
       "      <td>0</td>\n",
       "      <td>9.92</td>\n",
       "      <td>14.44</td>\n",
       "      <td>8.71</td>\n",
       "      <td>10.57</td>\n",
       "      <td>9.62</td>\n",
       "      <td>0.00</td>\n",
       "      <td>0.00</td>\n",
       "      <td>11.87</td>\n",
       "      <td>10.36</td>\n",
       "      <td>...</td>\n",
       "      <td>12.510000</td>\n",
       "      <td>8.350000</td>\n",
       "      <td>18.870000</td>\n",
       "      <td>10.750000</td>\n",
       "      <td>14.460000</td>\n",
       "      <td>13.650000</td>\n",
       "      <td>14.670000</td>\n",
       "      <td>12.220000</td>\n",
       "      <td>12.970000</td>\n",
       "      <td>9.940000</td>\n",
       "    </tr>\n",
       "    <tr>\n",
       "      <th>42370</th>\n",
       "      <td>0</td>\n",
       "      <td>10.42</td>\n",
       "      <td>10.99</td>\n",
       "      <td>6.57</td>\n",
       "      <td>6.12</td>\n",
       "      <td>8.65</td>\n",
       "      <td>8.43</td>\n",
       "      <td>9.23</td>\n",
       "      <td>10.21</td>\n",
       "      <td>9.24</td>\n",
       "      <td>...</td>\n",
       "      <td>21.410000</td>\n",
       "      <td>20.970000</td>\n",
       "      <td>8.410000</td>\n",
       "      <td>17.070000</td>\n",
       "      <td>16.570000</td>\n",
       "      <td>24.600000</td>\n",
       "      <td>25.565727</td>\n",
       "      <td>25.565727</td>\n",
       "      <td>13.390000</td>\n",
       "      <td>18.700000</td>\n",
       "    </tr>\n",
       "    <tr>\n",
       "      <th>42371</th>\n",
       "      <td>0</td>\n",
       "      <td>0.00</td>\n",
       "      <td>0.00</td>\n",
       "      <td>0.00</td>\n",
       "      <td>0.00</td>\n",
       "      <td>0.00</td>\n",
       "      <td>0.00</td>\n",
       "      <td>0.00</td>\n",
       "      <td>0.00</td>\n",
       "      <td>0.00</td>\n",
       "      <td>...</td>\n",
       "      <td>5.340000</td>\n",
       "      <td>5.360000</td>\n",
       "      <td>7.236631</td>\n",
       "      <td>5.870000</td>\n",
       "      <td>6.710000</td>\n",
       "      <td>6.160000</td>\n",
       "      <td>7.230000</td>\n",
       "      <td>5.080000</td>\n",
       "      <td>5.950000</td>\n",
       "      <td>7.236631</td>\n",
       "    </tr>\n",
       "  </tbody>\n",
       "</table>\n",
       "<p>42372 rows × 1035 columns</p>\n",
       "</div>"
      ],
      "text/plain": [
       "       FLAG  2014/1/1  2014/1/10  2014/1/11  2014/1/12  2014/1/13  2014/1/14  \\\n",
       "0         0      6.12       7.44       9.20       8.56       9.44       7.52   \n",
       "1         0      0.00       0.00       0.00       0.00       0.00       0.00   \n",
       "2         0      9.05       0.00       7.02       4.65       3.28       3.99   \n",
       "3         0      0.00       0.00       0.00       0.00       0.00       0.00   \n",
       "4         0      0.00       0.00       0.00       0.00       0.00       0.00   \n",
       "...     ...       ...        ...        ...        ...        ...        ...   \n",
       "42367     0      0.00       0.00       0.00       0.00       0.00       0.00   \n",
       "42368     0      2.71       2.08       1.85       2.07       2.32       0.00   \n",
       "42369     0      9.92      14.44       8.71      10.57       9.62       0.00   \n",
       "42370     0     10.42      10.99       6.57       6.12       8.65       8.43   \n",
       "42371     0      0.00       0.00       0.00       0.00       0.00       0.00   \n",
       "\n",
       "       2014/1/15  2014/1/16  2014/1/17  ...  2016/9/28  2016/9/29   2016/9/3  \\\n",
       "0           6.24       9.27      10.18  ...  11.340000   5.230000   7.260000   \n",
       "1           0.00       0.00       0.00  ...   0.000000   0.000000   3.800000   \n",
       "2           5.43       0.00       5.00  ...  10.070000  13.360000  22.530000   \n",
       "3           0.00       0.00       0.00  ...   5.454006   5.454006   5.454006   \n",
       "4           0.00       0.00       0.00  ...   0.010000   0.000000   0.020000   \n",
       "...          ...        ...        ...  ...        ...        ...        ...   \n",
       "42367       0.00       0.00       0.00  ...  12.020000  10.160000  13.350000   \n",
       "42368       1.77       1.61       2.81  ...   5.060124   3.910000   5.060124   \n",
       "42369       0.00      11.87      10.36  ...  12.510000   8.350000  18.870000   \n",
       "42370       9.23      10.21       9.24  ...  21.410000  20.970000   8.410000   \n",
       "42371       0.00       0.00       0.00  ...   5.340000   5.360000   7.236631   \n",
       "\n",
       "       2016/9/30   2016/9/4   2016/9/5   2016/9/6   2016/9/7   2016/9/8  \\\n",
       "0       6.670000   5.230000   8.270000   7.530000   7.730000   5.140000   \n",
       "1       3.250000   2.230000   2.540000   2.210000   0.360000   0.570000   \n",
       "2       9.660000  25.550000  18.280000  16.600000  14.490000  11.140000   \n",
       "3       5.454006   4.550000   5.454006   5.454006   5.454006   5.454006   \n",
       "4       0.000000   0.000000   0.000000   0.010000   0.173928   0.050000   \n",
       "...          ...        ...        ...        ...        ...        ...   \n",
       "42367  10.940000  10.300000  11.440000  10.200000  11.780000  10.810000   \n",
       "42368   4.510000   5.060124   4.590000   4.550000   3.930000   4.370000   \n",
       "42369  10.750000  14.460000  13.650000  14.670000  12.220000  12.970000   \n",
       "42370  17.070000  16.570000  24.600000  25.565727  25.565727  13.390000   \n",
       "42371   5.870000   6.710000   6.160000   7.230000   5.080000   5.950000   \n",
       "\n",
       "        2016/9/9  \n",
       "0       6.960000  \n",
       "1       2.670000  \n",
       "2       8.660000  \n",
       "3       5.454006  \n",
       "4       0.060000  \n",
       "...          ...  \n",
       "42367  11.130000  \n",
       "42368   5.060124  \n",
       "42369   9.940000  \n",
       "42370  18.700000  \n",
       "42371   7.236631  \n",
       "\n",
       "[42372 rows x 1035 columns]"
      ]
     },
     "execution_count": 5,
     "metadata": {},
     "output_type": "execute_result"
    }
   ],
   "source": [
    "df"
   ]
  },
  {
   "cell_type": "code",
   "execution_count": 6,
   "metadata": {},
   "outputs": [
    {
     "name": "stderr",
     "output_type": "stream",
     "text": [
      "100%|██████████| 42372/42372 [00:33<00:00, 1266.10it/s]\n"
     ]
    }
   ],
   "source": [
    "zeros_df = df[df==0]\n",
    "num_zeros = []\n",
    "for i in tqdm(range(len(zeros_df))):\n",
    "    try:\n",
    "        num_zeros.append(zeros_df.iloc[i].value_counts()[0])\n",
    "    except KeyError:\n",
    "        num_zeros.append(0)"
   ]
  },
  {
   "cell_type": "code",
   "execution_count": 7,
   "metadata": {},
   "outputs": [],
   "source": [
    "df['num_zeros'] = num_zeros"
   ]
  },
  {
   "cell_type": "code",
   "execution_count": 8,
   "metadata": {},
   "outputs": [],
   "source": [
    "#df = df.drop(sorted(range(len(num_zeros)), key=lambda i: num_zeros[i], reverse=True)[:len(num_zeros) - 25000], axis = 0).reset_index(drop = True)"
   ]
  },
  {
   "cell_type": "code",
   "execution_count": 10,
   "metadata": {},
   "outputs": [
    {
     "data": {
      "text/plain": [
       "0    38757\n",
       "1     3615\n",
       "Name: FLAG, dtype: int64"
      ]
     },
     "execution_count": 10,
     "metadata": {},
     "output_type": "execute_result"
    }
   ],
   "source": [
    "df['FLAG'].value_counts()"
   ]
  },
  {
   "cell_type": "code",
   "execution_count": 11,
   "metadata": {},
   "outputs": [],
   "source": [
    "df_0 = df[df['FLAG'] == 0].sort_values('num_zeros')[:3615].reset_index(drop=True)\n",
    "df_1 = df[df['FLAG'] == 1].reset_index(drop=True)"
   ]
  },
  {
   "cell_type": "code",
   "execution_count": 12,
   "metadata": {},
   "outputs": [],
   "source": [
    "df_f = po.concat([df_0, df_1], axis=0, ignore_index=True).reset_index(drop=True)"
   ]
  },
  {
   "cell_type": "code",
   "execution_count": 47,
   "metadata": {},
   "outputs": [],
   "source": [
    "df_f = df_f.sample(frac=1).reset_index(drop = True)"
   ]
  },
  {
   "cell_type": "code",
   "execution_count": 48,
   "metadata": {},
   "outputs": [
    {
     "data": {
      "text/plain": [
       "1    3615\n",
       "0    3615\n",
       "Name: FLAG, dtype: int64"
      ]
     },
     "execution_count": 48,
     "metadata": {},
     "output_type": "execute_result"
    }
   ],
   "source": [
    "df_f['FLAG'].value_counts()"
   ]
  },
  {
   "cell_type": "code",
   "execution_count": 49,
   "metadata": {},
   "outputs": [],
   "source": [
    "X = df_f.drop(['FLAG'], axis = 1)\n",
    "y = po.get_dummies(df_f['FLAG'])"
   ]
  },
  {
   "cell_type": "code",
   "execution_count": 50,
   "metadata": {},
   "outputs": [],
   "source": [
    "X_train = X[:5000].values.reshape(-1, len(X.columns), 1)\n",
    "X_val = X[5000:6000].values.reshape(-1, len(X.columns), 1)\n",
    "X_test = X[6000:].values.reshape(-1, len(X.columns), 1)"
   ]
  },
  {
   "cell_type": "code",
   "execution_count": 51,
   "metadata": {},
   "outputs": [],
   "source": [
    "y_train = y[:5000].values.reshape(-1, 2)\n",
    "y_val = y[5000:6000].values.reshape(-1, 2)\n",
    "y_test = y[6000:].values.reshape(-1, 2)"
   ]
  },
  {
   "cell_type": "code",
   "execution_count": 52,
   "metadata": {},
   "outputs": [],
   "source": [
    "with open('data/train_splits_undersampled.npz', 'wb') as save_file:\n",
    "    np.savez(save_file, X_train=X_train, X_val=X_val, X_test=X_test, y_train=y_train, y_val=y_val, y_test=y_test)"
   ]
  },
  {
   "cell_type": "code",
   "execution_count": 54,
   "metadata": {},
   "outputs": [],
   "source": [
    "with open('data/train_splits_undersampled.npz', 'rb') as load_file:\n",
    "    npzfile = np.load(load_file)    \n",
    "    \n",
    "    X_train = npzfile['X_train']\n",
    "    X_val = npzfile['X_val']\n",
    "    X_test = npzfile['X_test']\n",
    "    \n",
    "    y_train = npzfile['y_train']\n",
    "    y_val = npzfile['y_val']\n",
    "    y_test = npzfile['y_test']"
   ]
  },
  {
   "cell_type": "code",
   "execution_count": 55,
   "metadata": {},
   "outputs": [
    {
     "data": {
      "text/plain": [
       "(5000, 2)"
      ]
     },
     "execution_count": 55,
     "metadata": {},
     "output_type": "execute_result"
    }
   ],
   "source": [
    "y_train.shape"
   ]
  },
  {
   "cell_type": "code",
   "execution_count": 56,
   "metadata": {},
   "outputs": [
    {
     "data": {
      "text/plain": [
       "(5000, 1035, 1)"
      ]
     },
     "execution_count": 56,
     "metadata": {},
     "output_type": "execute_result"
    }
   ],
   "source": [
    "X_train.shape"
   ]
  },
  {
   "cell_type": "code",
   "execution_count": 57,
   "metadata": {},
   "outputs": [
    {
     "data": {
      "text/plain": [
       "(1000, 1035, 1)"
      ]
     },
     "execution_count": 57,
     "metadata": {},
     "output_type": "execute_result"
    }
   ],
   "source": [
    "X_val.shape"
   ]
  },
  {
   "cell_type": "code",
   "execution_count": 58,
   "metadata": {},
   "outputs": [
    {
     "data": {
      "text/plain": [
       "(1230, 1035, 1)"
      ]
     },
     "execution_count": 58,
     "metadata": {},
     "output_type": "execute_result"
    }
   ],
   "source": [
    "X_test.shape"
   ]
  },
  {
   "cell_type": "code",
   "execution_count": 59,
   "metadata": {},
   "outputs": [
    {
     "data": {
      "text/plain": [
       "(1000, 2)"
      ]
     },
     "execution_count": 59,
     "metadata": {},
     "output_type": "execute_result"
    }
   ],
   "source": [
    "y_val.shape"
   ]
  },
  {
   "cell_type": "code",
   "execution_count": null,
   "metadata": {},
   "outputs": [],
   "source": []
  }
 ],
 "metadata": {
  "kernelspec": {
   "display_name": "Python 3",
   "language": "python",
   "name": "python3"
  },
  "language_info": {
   "codemirror_mode": {
    "name": "ipython",
    "version": 3
   },
   "file_extension": ".py",
   "mimetype": "text/x-python",
   "name": "python",
   "nbconvert_exporter": "python",
   "pygments_lexer": "ipython3",
   "version": "3.7.6"
  }
 },
 "nbformat": 4,
 "nbformat_minor": 4
}
