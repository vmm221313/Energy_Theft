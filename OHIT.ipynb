{
 "cells": [
  {
   "cell_type": "code",
   "execution_count": 19,
   "metadata": {},
   "outputs": [],
   "source": [
    "import time\n",
    "import numpy as np\n",
    "import pandas as po\n",
    "from tqdm import tqdm\n",
    "import multiprocessing\n",
    "import matplotlib.pyplot as plt"
   ]
  },
  {
   "cell_type": "code",
   "execution_count": 2,
   "metadata": {},
   "outputs": [],
   "source": [
    "df = po.read_csv('data/EnergyConsumption_Theft.csv')\n",
    "df = df.sample(frac=1).reset_index(drop = True) # shuffle df so that classes are evenly distributed in train-val-test"
   ]
  },
  {
   "cell_type": "code",
   "execution_count": 3,
   "metadata": {},
   "outputs": [],
   "source": [
    "df = df.drop(['CONS_NO'], axis = 1)"
   ]
  },
  {
   "cell_type": "code",
   "execution_count": 4,
   "metadata": {},
   "outputs": [
    {
     "data": {
      "text/plain": [
       "0"
      ]
     },
     "execution_count": 4,
     "metadata": {},
     "output_type": "execute_result"
    }
   ],
   "source": [
    "df.isnull().sum().sum()"
   ]
  },
  {
   "cell_type": "code",
   "execution_count": 5,
   "metadata": {},
   "outputs": [
    {
     "data": {
      "text/html": [
       "<div>\n",
       "<style scoped>\n",
       "    .dataframe tbody tr th:only-of-type {\n",
       "        vertical-align: middle;\n",
       "    }\n",
       "\n",
       "    .dataframe tbody tr th {\n",
       "        vertical-align: top;\n",
       "    }\n",
       "\n",
       "    .dataframe thead th {\n",
       "        text-align: right;\n",
       "    }\n",
       "</style>\n",
       "<table border=\"1\" class=\"dataframe\">\n",
       "  <thead>\n",
       "    <tr style=\"text-align: right;\">\n",
       "      <th></th>\n",
       "      <th>FLAG</th>\n",
       "      <th>2014/1/1</th>\n",
       "      <th>2014/1/10</th>\n",
       "      <th>2014/1/11</th>\n",
       "      <th>2014/1/12</th>\n",
       "      <th>2014/1/13</th>\n",
       "      <th>2014/1/14</th>\n",
       "      <th>2014/1/15</th>\n",
       "      <th>2014/1/16</th>\n",
       "      <th>2014/1/17</th>\n",
       "      <th>...</th>\n",
       "      <th>2016/9/28</th>\n",
       "      <th>2016/9/29</th>\n",
       "      <th>2016/9/3</th>\n",
       "      <th>2016/9/30</th>\n",
       "      <th>2016/9/4</th>\n",
       "      <th>2016/9/5</th>\n",
       "      <th>2016/9/6</th>\n",
       "      <th>2016/9/7</th>\n",
       "      <th>2016/9/8</th>\n",
       "      <th>2016/9/9</th>\n",
       "    </tr>\n",
       "  </thead>\n",
       "  <tbody>\n",
       "    <tr>\n",
       "      <th>0</th>\n",
       "      <td>0</td>\n",
       "      <td>0.000000</td>\n",
       "      <td>0.00</td>\n",
       "      <td>0.000000</td>\n",
       "      <td>0.000000</td>\n",
       "      <td>0.00</td>\n",
       "      <td>0.000000</td>\n",
       "      <td>0.00</td>\n",
       "      <td>0.000000</td>\n",
       "      <td>0.00</td>\n",
       "      <td>...</td>\n",
       "      <td>2.730</td>\n",
       "      <td>3.580000</td>\n",
       "      <td>4.290000</td>\n",
       "      <td>4.390000</td>\n",
       "      <td>5.220000</td>\n",
       "      <td>2.990000</td>\n",
       "      <td>4.63</td>\n",
       "      <td>3.67</td>\n",
       "      <td>5.61</td>\n",
       "      <td>5.01</td>\n",
       "    </tr>\n",
       "    <tr>\n",
       "      <th>1</th>\n",
       "      <td>0</td>\n",
       "      <td>1.510000</td>\n",
       "      <td>0.93</td>\n",
       "      <td>1.520000</td>\n",
       "      <td>3.650000</td>\n",
       "      <td>2.77</td>\n",
       "      <td>2.530000</td>\n",
       "      <td>2.70</td>\n",
       "      <td>0.000000</td>\n",
       "      <td>0.00</td>\n",
       "      <td>...</td>\n",
       "      <td>0.615</td>\n",
       "      <td>1.230000</td>\n",
       "      <td>1.250000</td>\n",
       "      <td>1.520000</td>\n",
       "      <td>1.210000</td>\n",
       "      <td>1.230000</td>\n",
       "      <td>1.25</td>\n",
       "      <td>1.22</td>\n",
       "      <td>1.20</td>\n",
       "      <td>1.64</td>\n",
       "    </tr>\n",
       "    <tr>\n",
       "      <th>2</th>\n",
       "      <td>0</td>\n",
       "      <td>0.000000</td>\n",
       "      <td>0.00</td>\n",
       "      <td>0.000000</td>\n",
       "      <td>0.000000</td>\n",
       "      <td>0.00</td>\n",
       "      <td>0.000000</td>\n",
       "      <td>0.00</td>\n",
       "      <td>0.000000</td>\n",
       "      <td>0.00</td>\n",
       "      <td>...</td>\n",
       "      <td>1.200</td>\n",
       "      <td>2.550000</td>\n",
       "      <td>0.990000</td>\n",
       "      <td>1.330000</td>\n",
       "      <td>3.180000</td>\n",
       "      <td>4.340000</td>\n",
       "      <td>1.10</td>\n",
       "      <td>1.21</td>\n",
       "      <td>2.97</td>\n",
       "      <td>2.78</td>\n",
       "    </tr>\n",
       "    <tr>\n",
       "      <th>3</th>\n",
       "      <td>0</td>\n",
       "      <td>0.000000</td>\n",
       "      <td>0.00</td>\n",
       "      <td>0.000000</td>\n",
       "      <td>0.000000</td>\n",
       "      <td>0.00</td>\n",
       "      <td>0.000000</td>\n",
       "      <td>0.00</td>\n",
       "      <td>0.000000</td>\n",
       "      <td>0.00</td>\n",
       "      <td>...</td>\n",
       "      <td>0.000</td>\n",
       "      <td>0.000000</td>\n",
       "      <td>0.000000</td>\n",
       "      <td>0.000000</td>\n",
       "      <td>0.000000</td>\n",
       "      <td>0.000000</td>\n",
       "      <td>0.00</td>\n",
       "      <td>0.00</td>\n",
       "      <td>0.00</td>\n",
       "      <td>0.00</td>\n",
       "    </tr>\n",
       "    <tr>\n",
       "      <th>4</th>\n",
       "      <td>0</td>\n",
       "      <td>0.000000</td>\n",
       "      <td>0.00</td>\n",
       "      <td>0.000000</td>\n",
       "      <td>0.000000</td>\n",
       "      <td>0.00</td>\n",
       "      <td>0.000000</td>\n",
       "      <td>0.00</td>\n",
       "      <td>0.000000</td>\n",
       "      <td>0.00</td>\n",
       "      <td>...</td>\n",
       "      <td>6.080</td>\n",
       "      <td>10.770000</td>\n",
       "      <td>9.020000</td>\n",
       "      <td>4.850000</td>\n",
       "      <td>13.317372</td>\n",
       "      <td>7.310000</td>\n",
       "      <td>11.28</td>\n",
       "      <td>6.88</td>\n",
       "      <td>7.09</td>\n",
       "      <td>6.00</td>\n",
       "    </tr>\n",
       "    <tr>\n",
       "      <th>...</th>\n",
       "      <td>...</td>\n",
       "      <td>...</td>\n",
       "      <td>...</td>\n",
       "      <td>...</td>\n",
       "      <td>...</td>\n",
       "      <td>...</td>\n",
       "      <td>...</td>\n",
       "      <td>...</td>\n",
       "      <td>...</td>\n",
       "      <td>...</td>\n",
       "      <td>...</td>\n",
       "      <td>...</td>\n",
       "      <td>...</td>\n",
       "      <td>...</td>\n",
       "      <td>...</td>\n",
       "      <td>...</td>\n",
       "      <td>...</td>\n",
       "      <td>...</td>\n",
       "      <td>...</td>\n",
       "      <td>...</td>\n",
       "      <td>...</td>\n",
       "    </tr>\n",
       "    <tr>\n",
       "      <th>42367</th>\n",
       "      <td>1</td>\n",
       "      <td>4.640000</td>\n",
       "      <td>4.24</td>\n",
       "      <td>7.260000</td>\n",
       "      <td>6.820000</td>\n",
       "      <td>5.32</td>\n",
       "      <td>8.383489</td>\n",
       "      <td>8.07</td>\n",
       "      <td>8.383489</td>\n",
       "      <td>6.71</td>\n",
       "      <td>...</td>\n",
       "      <td>6.550</td>\n",
       "      <td>8.383489</td>\n",
       "      <td>8.383489</td>\n",
       "      <td>8.383489</td>\n",
       "      <td>5.410000</td>\n",
       "      <td>6.650000</td>\n",
       "      <td>6.52</td>\n",
       "      <td>7.09</td>\n",
       "      <td>6.58</td>\n",
       "      <td>5.41</td>\n",
       "    </tr>\n",
       "    <tr>\n",
       "      <th>42368</th>\n",
       "      <td>0</td>\n",
       "      <td>0.000000</td>\n",
       "      <td>0.00</td>\n",
       "      <td>0.000000</td>\n",
       "      <td>0.000000</td>\n",
       "      <td>0.00</td>\n",
       "      <td>0.000000</td>\n",
       "      <td>0.00</td>\n",
       "      <td>0.000000</td>\n",
       "      <td>0.00</td>\n",
       "      <td>...</td>\n",
       "      <td>0.000</td>\n",
       "      <td>0.000000</td>\n",
       "      <td>0.000000</td>\n",
       "      <td>0.000000</td>\n",
       "      <td>0.000000</td>\n",
       "      <td>0.000000</td>\n",
       "      <td>0.00</td>\n",
       "      <td>0.00</td>\n",
       "      <td>0.02</td>\n",
       "      <td>0.00</td>\n",
       "    </tr>\n",
       "    <tr>\n",
       "      <th>42369</th>\n",
       "      <td>0</td>\n",
       "      <td>13.937313</td>\n",
       "      <td>9.40</td>\n",
       "      <td>13.240000</td>\n",
       "      <td>11.440000</td>\n",
       "      <td>7.82</td>\n",
       "      <td>11.460000</td>\n",
       "      <td>9.52</td>\n",
       "      <td>10.580000</td>\n",
       "      <td>8.61</td>\n",
       "      <td>...</td>\n",
       "      <td>9.890</td>\n",
       "      <td>5.540000</td>\n",
       "      <td>4.640000</td>\n",
       "      <td>3.560000</td>\n",
       "      <td>6.690000</td>\n",
       "      <td>5.840000</td>\n",
       "      <td>6.79</td>\n",
       "      <td>5.93</td>\n",
       "      <td>6.48</td>\n",
       "      <td>4.81</td>\n",
       "    </tr>\n",
       "    <tr>\n",
       "      <th>42370</th>\n",
       "      <td>0</td>\n",
       "      <td>13.040000</td>\n",
       "      <td>7.89</td>\n",
       "      <td>14.533562</td>\n",
       "      <td>14.533562</td>\n",
       "      <td>6.54</td>\n",
       "      <td>6.820000</td>\n",
       "      <td>6.83</td>\n",
       "      <td>7.190000</td>\n",
       "      <td>9.03</td>\n",
       "      <td>...</td>\n",
       "      <td>13.380</td>\n",
       "      <td>7.960000</td>\n",
       "      <td>11.430000</td>\n",
       "      <td>3.720000</td>\n",
       "      <td>12.620000</td>\n",
       "      <td>4.110000</td>\n",
       "      <td>4.07</td>\n",
       "      <td>4.08</td>\n",
       "      <td>5.04</td>\n",
       "      <td>5.27</td>\n",
       "    </tr>\n",
       "    <tr>\n",
       "      <th>42371</th>\n",
       "      <td>0</td>\n",
       "      <td>11.890000</td>\n",
       "      <td>7.94</td>\n",
       "      <td>9.380000</td>\n",
       "      <td>10.210000</td>\n",
       "      <td>12.87</td>\n",
       "      <td>11.500000</td>\n",
       "      <td>15.04</td>\n",
       "      <td>11.040000</td>\n",
       "      <td>8.26</td>\n",
       "      <td>...</td>\n",
       "      <td>17.670</td>\n",
       "      <td>18.420000</td>\n",
       "      <td>27.950000</td>\n",
       "      <td>13.690000</td>\n",
       "      <td>28.120000</td>\n",
       "      <td>28.737064</td>\n",
       "      <td>22.15</td>\n",
       "      <td>20.33</td>\n",
       "      <td>18.67</td>\n",
       "      <td>22.66</td>\n",
       "    </tr>\n",
       "  </tbody>\n",
       "</table>\n",
       "<p>42372 rows × 1035 columns</p>\n",
       "</div>"
      ],
      "text/plain": [
       "       FLAG   2014/1/1  2014/1/10  2014/1/11  2014/1/12  2014/1/13  2014/1/14  \\\n",
       "0         0   0.000000       0.00   0.000000   0.000000       0.00   0.000000   \n",
       "1         0   1.510000       0.93   1.520000   3.650000       2.77   2.530000   \n",
       "2         0   0.000000       0.00   0.000000   0.000000       0.00   0.000000   \n",
       "3         0   0.000000       0.00   0.000000   0.000000       0.00   0.000000   \n",
       "4         0   0.000000       0.00   0.000000   0.000000       0.00   0.000000   \n",
       "...     ...        ...        ...        ...        ...        ...        ...   \n",
       "42367     1   4.640000       4.24   7.260000   6.820000       5.32   8.383489   \n",
       "42368     0   0.000000       0.00   0.000000   0.000000       0.00   0.000000   \n",
       "42369     0  13.937313       9.40  13.240000  11.440000       7.82  11.460000   \n",
       "42370     0  13.040000       7.89  14.533562  14.533562       6.54   6.820000   \n",
       "42371     0  11.890000       7.94   9.380000  10.210000      12.87  11.500000   \n",
       "\n",
       "       2014/1/15  2014/1/16  2014/1/17  ...  2016/9/28  2016/9/29   2016/9/3  \\\n",
       "0           0.00   0.000000       0.00  ...      2.730   3.580000   4.290000   \n",
       "1           2.70   0.000000       0.00  ...      0.615   1.230000   1.250000   \n",
       "2           0.00   0.000000       0.00  ...      1.200   2.550000   0.990000   \n",
       "3           0.00   0.000000       0.00  ...      0.000   0.000000   0.000000   \n",
       "4           0.00   0.000000       0.00  ...      6.080  10.770000   9.020000   \n",
       "...          ...        ...        ...  ...        ...        ...        ...   \n",
       "42367       8.07   8.383489       6.71  ...      6.550   8.383489   8.383489   \n",
       "42368       0.00   0.000000       0.00  ...      0.000   0.000000   0.000000   \n",
       "42369       9.52  10.580000       8.61  ...      9.890   5.540000   4.640000   \n",
       "42370       6.83   7.190000       9.03  ...     13.380   7.960000  11.430000   \n",
       "42371      15.04  11.040000       8.26  ...     17.670  18.420000  27.950000   \n",
       "\n",
       "       2016/9/30   2016/9/4   2016/9/5  2016/9/6  2016/9/7  2016/9/8  2016/9/9  \n",
       "0       4.390000   5.220000   2.990000      4.63      3.67      5.61      5.01  \n",
       "1       1.520000   1.210000   1.230000      1.25      1.22      1.20      1.64  \n",
       "2       1.330000   3.180000   4.340000      1.10      1.21      2.97      2.78  \n",
       "3       0.000000   0.000000   0.000000      0.00      0.00      0.00      0.00  \n",
       "4       4.850000  13.317372   7.310000     11.28      6.88      7.09      6.00  \n",
       "...          ...        ...        ...       ...       ...       ...       ...  \n",
       "42367   8.383489   5.410000   6.650000      6.52      7.09      6.58      5.41  \n",
       "42368   0.000000   0.000000   0.000000      0.00      0.00      0.02      0.00  \n",
       "42369   3.560000   6.690000   5.840000      6.79      5.93      6.48      4.81  \n",
       "42370   3.720000  12.620000   4.110000      4.07      4.08      5.04      5.27  \n",
       "42371  13.690000  28.120000  28.737064     22.15     20.33     18.67     22.66  \n",
       "\n",
       "[42372 rows x 1035 columns]"
      ]
     },
     "execution_count": 5,
     "metadata": {},
     "output_type": "execute_result"
    }
   ],
   "source": [
    "df"
   ]
  },
  {
   "cell_type": "code",
   "execution_count": 6,
   "metadata": {},
   "outputs": [
    {
     "data": {
      "text/plain": [
       "0    38757\n",
       "1     3615\n",
       "Name: FLAG, dtype: int64"
      ]
     },
     "execution_count": 6,
     "metadata": {},
     "output_type": "execute_result"
    }
   ],
   "source": [
    "df['FLAG'].value_counts()"
   ]
  },
  {
   "cell_type": "code",
   "execution_count": 7,
   "metadata": {},
   "outputs": [],
   "source": [
    "df_min = df[df['FLAG'] == 1].reset_index(drop=True)"
   ]
  },
  {
   "cell_type": "code",
   "execution_count": 8,
   "metadata": {},
   "outputs": [],
   "source": [
    "minor = df_min.drop('FLAG', axis=1).to_numpy()"
   ]
  },
  {
   "cell_type": "code",
   "execution_count": 160,
   "metadata": {},
   "outputs": [],
   "source": [
    "k = 100"
   ]
  },
  {
   "cell_type": "code",
   "execution_count": 161,
   "metadata": {},
   "outputs": [
    {
     "data": {
      "text/plain": [
       "(3615, 1034)"
      ]
     },
     "execution_count": 161,
     "metadata": {},
     "output_type": "execute_result"
    }
   ],
   "source": [
    "minor.shape"
   ]
  },
  {
   "cell_type": "code",
   "execution_count": 162,
   "metadata": {},
   "outputs": [],
   "source": [
    "from sklearn.neighbors import NearestNeighbors"
   ]
  },
  {
   "cell_type": "code",
   "execution_count": 163,
   "metadata": {},
   "outputs": [],
   "source": [
    "nbrs = NearestNeighbors(n_neighbors=k+1, algorithm='ball_tree').fit(minor)"
   ]
  },
  {
   "cell_type": "code",
   "execution_count": 164,
   "metadata": {},
   "outputs": [],
   "source": [
    "distances, indices = nbrs.kneighbors(minor)"
   ]
  },
  {
   "cell_type": "code",
   "execution_count": 165,
   "metadata": {},
   "outputs": [],
   "source": [
    "indices = indices[:, 1:]"
   ]
  },
  {
   "cell_type": "code",
   "execution_count": 166,
   "metadata": {},
   "outputs": [
    {
     "data": {
      "text/plain": [
       "(3615, 100)"
      ]
     },
     "execution_count": 166,
     "metadata": {},
     "output_type": "execute_result"
    }
   ],
   "source": [
    "indices.shape"
   ]
  },
  {
   "cell_type": "code",
   "execution_count": 167,
   "metadata": {},
   "outputs": [],
   "source": [
    "def SNN(i, j):\n",
    "    return len(np.intersect1d(indices[i], indices[j]))"
   ]
  },
  {
   "cell_type": "code",
   "execution_count": 168,
   "metadata": {},
   "outputs": [],
   "source": [
    "snn_sim = {}"
   ]
  },
  {
   "cell_type": "code",
   "execution_count": 169,
   "metadata": {},
   "outputs": [
    {
     "name": "stderr",
     "output_type": "stream",
     "text": [
      "100%|██████████| 3615/3615 [04:08<00:00, 14.56it/s]\n"
     ]
    }
   ],
   "source": [
    "for i in tqdm(range(len(indices))):\n",
    "    snn_sim[i] = {}\n",
    "    for j in range(len(indices)):\n",
    "        snn_sim[i][j] = SNN(i, j)"
   ]
  },
  {
   "cell_type": "code",
   "execution_count": 170,
   "metadata": {},
   "outputs": [],
   "source": [
    "density = {}\n",
    "for i in range(len(indices)):\n",
    "    sum = 0\n",
    "    for j in range(len(indices[i])):\n",
    "        sum += snn_sim[i][j]\n",
    "    \n",
    "    density[i] = sum"
   ]
  },
  {
   "cell_type": "code",
   "execution_count": 181,
   "metadata": {},
   "outputs": [],
   "source": [
    "density_ratio = {}\n",
    "for i in range(len(indices)):\n",
    "    neigh_dens = []\n",
    "    for j in range(len(indices[i])):\n",
    "        neigh_dens.append(density[indices[i][j]])\n",
    "    neigh_dens = np.array(neigh_dens)\n",
    "    density_ratio[i] = density[i]/np.mean(neigh_dens)"
   ]
  },
  {
   "cell_type": "code",
   "execution_count": 189,
   "metadata": {},
   "outputs": [
    {
     "data": {
      "text/plain": [
       "0.9048050819072927"
      ]
     },
     "execution_count": 189,
     "metadata": {},
     "output_type": "execute_result"
    }
   ],
   "source": [
    "np.mean(np.array(list(density_ratio.values())))"
   ]
  },
  {
   "cell_type": "code",
   "execution_count": 188,
   "metadata": {},
   "outputs": [
    {
     "data": {
      "text/plain": [
       "0.1572531058272164"
      ]
     },
     "execution_count": 188,
     "metadata": {},
     "output_type": "execute_result"
    }
   ],
   "source": [
    "np.std(np.array(list(density_ratio.values())))"
   ]
  },
  {
   "cell_type": "code",
   "execution_count": 191,
   "metadata": {},
   "outputs": [
    {
     "data": {
      "text/plain": [
       "(array([ 10.,  29., 115., 257., 595., 831., 892., 637., 209.,  40.]),\n",
       " array([0.30716304, 0.40875778, 0.51035253, 0.61194727, 0.71354201,\n",
       "        0.81513675, 0.91673149, 1.01832623, 1.11992097, 1.22151572,\n",
       "        1.32311046]),\n",
       " <a list of 10 Patch objects>)"
      ]
     },
     "execution_count": 191,
     "metadata": {},
     "output_type": "execute_result"
    },
    {
     "data": {
      "image/png": "[encoded data removed]",
      "text/plain": [
       "<Figure size 432x288 with 1 Axes>"
      ]
     },
     "metadata": {
      "needs_background": "light"
     },
     "output_type": "display_data"
    }
   ],
   "source": [
    "plt.hist(np.array(list(density_ratio.values())))"
   ]
  },
  {
   "cell_type": "code",
   "execution_count": 195,
   "metadata": {},
   "outputs": [],
   "source": [
    "drT = 0.9 + 0.15*1.5"
   ]
  },
  {
   "cell_type": "code",
   "execution_count": 198,
   "metadata": {},
   "outputs": [],
   "source": [
    "core_points = []\n",
    "for i in range(len(density_ratio)):\n",
    "    if density_ratio[i] > drT:\n",
    "        core_points.append(i)"
   ]
  },
  {
   "cell_type": "code",
   "execution_count": 204,
   "metadata": {},
   "outputs": [],
   "source": [
    "def reverse_nearest_neighbours(pt_index):\n",
    "    rnns = []\n",
    "    for i in range(len(indices)):\n",
    "        if i!=pt_index:\n",
    "            if pt_index in list(indices[i]):\n",
    "                rnns.append(i)\n",
    "                \n",
    "    return rnns"
   ]
  },
  {
   "cell_type": "code",
   "execution_count": 206,
   "metadata": {},
   "outputs": [],
   "source": [
    "directly_density_reachable_core_points = {}\n",
    "for cp_index in core_points: #Can't need actual values here\n",
    "    dds = list(indices[cp_index]) \n",
    "    dds += reverse_nearest_neighbours(cp_index)\n",
    "    \n",
    "    directly_density_reachable_core_points[cp_index] = dds"
   ]
  },
  {
   "cell_type": "code",
   "execution_count": 207,
   "metadata": {},
   "outputs": [],
   "source": [
    "clusters = {}"
   ]
  },
  {
   "cell_type": "code",
   "execution_count": null,
   "metadata": {},
   "outputs": [],
   "source": [
    "for cp_index in core_points\n",
    "    for dds_cp in directly_density_reachable_core_points[cp_index]:\n",
    "        "
   ]
  },
  {
   "cell_type": "code",
   "execution_count": null,
   "metadata": {},
   "outputs": [],
   "source": []
  },
  {
   "cell_type": "code",
   "execution_count": null,
   "metadata": {},
   "outputs": [],
   "source": []
  },
  {
   "cell_type": "code",
   "execution_count": null,
   "metadata": {},
   "outputs": [],
   "source": []
  },
  {
   "cell_type": "code",
   "execution_count": null,
   "metadata": {},
   "outputs": [],
   "source": []
  },
  {
   "cell_type": "code",
   "execution_count": 38,
   "metadata": {},
   "outputs": [],
   "source": [
    "SNNs = list(map(SNN, range()))\n",
    "\n",
    "len(SNNs)\n",
    "\n",
    "SNNs\n",
    "\n",
    "start = time.process_time()\n",
    "for i in range(len(minor)):\n",
    "    \n",
    "start = time.process_time()\n",
    "for i in range(len(minor)):\n",
    "    for j in range(len(minor)):\n",
    "        np.intersect1d(indices[i], indices[j])\n",
    "print(time.process_time() - start)\n",
    "\n",
    "arr_ind = 23\n",
    "\n",
    "def knn(arr_ind):\n",
    "    norms = np.zeros(len(minor),)\n",
    "    for i in range(len(minor)):\n",
    "        if arr_ind == i:\n",
    "            continue\n",
    "        norms[i] = np.linalg.norm(minor[i]-minor[arr_ind], ord=2)\n",
    "    \n",
    "    norms = norms.argsort()\n",
    "    return list(norms[:k])\n",
    "\n",
    "p = multiprocessing.Pool()\n",
    "\n",
    "def calc_norm(i):\n",
    "    if arr_ind == i:\n",
    "        return np.inf\n",
    "    return np.linalg.norm(minor[i]-minor[arr_ind], ord=2)\n",
    "\n",
    "def knn(arr_ind):    \n",
    "    \n",
    "    start = time.process_time()\n",
    "    #norms = list(map(calc_norm, range(len(minor))))\n",
    "    norms = p.map(calc_norm, range(len(minor)))\n",
    "    print(time.process_time() - start)\n",
    "        \n",
    "    norms = np.array(norms).argsort()\n",
    "    \n",
    "    return list(norms[:k])\n",
    "\n",
    "minor[1322]\n",
    "\n",
    "knn_idx = knn(1322)\n",
    "knn_idx\n",
    "\n",
    "knn_idx = knn(1322)\n",
    "\n",
    "minor[knn_idx, :]\n",
    "\n",
    "minor[knn_idx, :].shape\n",
    "\n",
    "arr_ind = 23\n",
    "knns_self = knn(arr_ind) \n",
    "\n",
    "\n",
    "\n",
    "for i in range(100):\n",
    "    snn_mp(i)\n",
    "snn_mp_out = map(snn_mp, range(100))\n",
    "\n",
    "snn_mp_out = map(snn_mp, range(len(minor)))\n",
    "\n",
    "3000/60\n",
    "\n",
    "def snn(arr_ind):\n",
    "    knns_self = knn(arr_ind)\n",
    "    \n",
    "    snn_sim = []\n",
    "    for i in tqdm(range(len(minor))):\n",
    "        if arr_ind == i:\n",
    "            snn_sim.append([])\n",
    "        \n",
    "        else: \n",
    "            knns_other = knn(i)\n",
    "            #snn_sim.append(list(set(knns_other) & set(knns_self))) \n",
    "            snn_sim.append(list(set(knns_self).intersection(knns_other))) \n",
    "            \n",
    "    return snn_sim\n",
    "\n",
    "sims = snn(23)\n",
    "\n",
    "snn_sim = snn(23)\n",
    "\n",
    "len(snn_sim)\n",
    "\n",
    "np.linalg.norm(np.random.randn(100, 1) - np.random.randn(100, 1), ord=2)"
   ]
  },
  {
   "cell_type": "code",
   "execution_count": null,
   "metadata": {},
   "outputs": [],
   "source": []
  }
 ],
 "metadata": {
  "kernelspec": {
   "display_name": "Python 3",
   "language": "python",
   "name": "python3"
  },
  "language_info": {
   "codemirror_mode": {
    "name": "ipython",
    "version": 3
   },
   "file_extension": ".py",
   "mimetype": "text/x-python",
   "name": "python",
   "nbconvert_exporter": "python",
   "pygments_lexer": "ipython3",
   "version": "3.7.6"
  }
 },
 "nbformat": 4,
 "nbformat_minor": 4
}
