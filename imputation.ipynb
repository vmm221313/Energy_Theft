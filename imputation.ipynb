{
 "metadata": {
  "language_info": {
   "codemirror_mode": {
    "name": "ipython",
    "version": 3
   },
   "file_extension": ".py",
   "mimetype": "text/x-python",
   "name": "python",
   "nbconvert_exporter": "python",
   "pygments_lexer": "ipython3",
   "version": "3.7.7-final"
  },
  "orig_nbformat": 2,
  "kernelspec": {
   "name": "python3",
   "display_name": "Python 3.7.7 64-bit ('tf2': conda)",
   "metadata": {
    "interpreter": {
     "hash": "bc6f2ee8b168360dfb1096499e04b079a3b7a8a2b26d89c6592809fae4b919c1"
    }
   }
  }
 },
 "nbformat": 4,
 "nbformat_minor": 2,
 "cells": [
  {
   "cell_type": "code",
   "execution_count": 1,
   "metadata": {},
   "outputs": [],
   "source": [
    "import numpy as np\n",
    "from tqdm import tqdm\n",
    "import pandas as po\n",
    "import matplotlib.pyplot as plt"
   ]
  },
  {
   "cell_type": "code",
   "execution_count": 2,
   "metadata": {},
   "outputs": [],
   "source": [
    "df = po.read_csv('/home/varun/Desktop/Projects/EnergyTheft/data/processed/EnergyConsumption_processed.csv')"
   ]
  },
  {
   "cell_type": "code",
   "execution_count": 3,
   "metadata": {},
   "outputs": [
    {
     "output_type": "execute_result",
     "data": {
      "text/plain": [
       "       2014/1/1  2014/1/2  2014/1/3  2014/1/4  2014/1/5  2014/1/6  2014/1/7  \\\n",
       "0          0.00      0.00      0.00      0.00      0.00      0.00      0.00   \n",
       "1          0.00      0.00      0.00      0.00      0.00      0.00      0.00   \n",
       "2          0.00      0.00      0.00      0.00      0.00      0.00      0.00   \n",
       "3          0.00      0.00      0.00      0.00      0.00      0.00      0.00   \n",
       "4          2.90      5.64      6.99      3.32      3.61      5.35      4.73   \n",
       "...         ...       ...       ...       ...       ...       ...       ...   \n",
       "42367      0.00      0.00      0.00      0.00      0.00      0.00      0.00   \n",
       "42368      2.70      0.00      0.00      5.72      6.05      5.81      3.07   \n",
       "42369      0.58      1.16      0.92      0.98      1.54      1.38      0.89   \n",
       "42370     16.89     15.15     19.28     17.19     16.80     17.48     17.86   \n",
       "42371      0.00      0.00      0.00      0.00      0.00      0.00      0.00   \n",
       "\n",
       "       2014/1/8  2014/1/9  2014/1/10  ...  2016/10/23  2016/10/24  2016/10/25  \\\n",
       "0          0.00    13.130       0.00  ...    8.070000    8.090000    9.530000   \n",
       "1          0.00     0.000       0.00  ...    0.000000    0.000000    0.000000   \n",
       "2          0.00     0.000       0.00  ...   13.610504   13.610504   13.610504   \n",
       "3          0.00     1.035       0.00  ...   15.120000   17.260000   14.910000   \n",
       "4          3.68     3.530       3.42  ...   10.220000    8.470000    6.110000   \n",
       "...         ...       ...        ...  ...         ...         ...         ...   \n",
       "42367      0.00     2.310       0.00  ...    3.100000    2.750000    3.010000   \n",
       "42368      4.04     5.680       4.39  ...    6.620000    3.120000    5.160000   \n",
       "42369      0.70     1.230       0.84  ...    0.610000    0.650000    0.550000   \n",
       "42370     23.99    12.340      13.84  ...   16.480000   13.040000   10.390000   \n",
       "42371      0.00     0.000       0.00  ...   12.161244    8.350000    8.680000   \n",
       "\n",
       "       2016/10/26  2016/10/27  2016/10/28  2016/10/29  2016/10/30  2016/10/31  \\\n",
       "0        5.480000    8.750000    9.300000    7.540000    9.160000    6.740000   \n",
       "1        0.000000    0.000000    0.000000    0.000000    0.000000    0.000000   \n",
       "2       13.610504   13.610504   13.610504   13.610504   13.610504   13.610504   \n",
       "3       19.590000   20.790000   17.950000   19.260000   14.460000   11.720000   \n",
       "4        6.100000    6.730000    7.520000   10.890000    9.860000    8.720000   \n",
       "...           ...         ...         ...         ...         ...         ...   \n",
       "42367    2.990000    2.830000    2.540000    3.400000    3.590000    2.540000   \n",
       "42368    3.620000    4.640000    3.710000    6.220000    6.050000    4.770000   \n",
       "42369    0.490000    0.510000    0.790000    0.660000    0.390000    0.650000   \n",
       "42370   12.000000   11.150000   12.220000   13.160000   13.330000   10.390000   \n",
       "42371    6.390000    7.960000    8.130000   11.500000    7.160000    5.250000   \n",
       "\n",
       "       FLAG  \n",
       "0         1  \n",
       "1         1  \n",
       "2         1  \n",
       "3         1  \n",
       "4         1  \n",
       "...     ...  \n",
       "42367     0  \n",
       "42368     0  \n",
       "42369     0  \n",
       "42370     0  \n",
       "42371     0  \n",
       "\n",
       "[42372 rows x 1035 columns]"
      ],
      "text/html": "<div>\n<style scoped>\n    .dataframe tbody tr th:only-of-type {\n        vertical-align: middle;\n    }\n\n    .dataframe tbody tr th {\n        vertical-align: top;\n    }\n\n    .dataframe thead th {\n        text-align: right;\n    }\n</style>\n<table border=\"1\" class=\"dataframe\">\n  <thead>\n    <tr style=\"text-align: right;\">\n      <th></th>\n      <th>2014/1/1</th>\n      <th>2014/1/2</th>\n      <th>2014/1/3</th>\n      <th>2014/1/4</th>\n      <th>2014/1/5</th>\n      <th>2014/1/6</th>\n      <th>2014/1/7</th>\n      <th>2014/1/8</th>\n      <th>2014/1/9</th>\n      <th>2014/1/10</th>\n      <th>...</th>\n      <th>2016/10/23</th>\n      <th>2016/10/24</th>\n      <th>2016/10/25</th>\n      <th>2016/10/26</th>\n      <th>2016/10/27</th>\n      <th>2016/10/28</th>\n      <th>2016/10/29</th>\n      <th>2016/10/30</th>\n      <th>2016/10/31</th>\n      <th>FLAG</th>\n    </tr>\n  </thead>\n  <tbody>\n    <tr>\n      <th>0</th>\n      <td>0.00</td>\n      <td>0.00</td>\n      <td>0.00</td>\n      <td>0.00</td>\n      <td>0.00</td>\n      <td>0.00</td>\n      <td>0.00</td>\n      <td>0.00</td>\n      <td>13.130</td>\n      <td>0.00</td>\n      <td>...</td>\n      <td>8.070000</td>\n      <td>8.090000</td>\n      <td>9.530000</td>\n      <td>5.480000</td>\n      <td>8.750000</td>\n      <td>9.300000</td>\n      <td>7.540000</td>\n      <td>9.160000</td>\n      <td>6.740000</td>\n      <td>1</td>\n    </tr>\n    <tr>\n      <th>1</th>\n      <td>0.00</td>\n      <td>0.00</td>\n      <td>0.00</td>\n      <td>0.00</td>\n      <td>0.00</td>\n      <td>0.00</td>\n      <td>0.00</td>\n      <td>0.00</td>\n      <td>0.000</td>\n      <td>0.00</td>\n      <td>...</td>\n      <td>0.000000</td>\n      <td>0.000000</td>\n      <td>0.000000</td>\n      <td>0.000000</td>\n      <td>0.000000</td>\n      <td>0.000000</td>\n      <td>0.000000</td>\n      <td>0.000000</td>\n      <td>0.000000</td>\n      <td>1</td>\n    </tr>\n    <tr>\n      <th>2</th>\n      <td>0.00</td>\n      <td>0.00</td>\n      <td>0.00</td>\n      <td>0.00</td>\n      <td>0.00</td>\n      <td>0.00</td>\n      <td>0.00</td>\n      <td>0.00</td>\n      <td>0.000</td>\n      <td>0.00</td>\n      <td>...</td>\n      <td>13.610504</td>\n      <td>13.610504</td>\n      <td>13.610504</td>\n      <td>13.610504</td>\n      <td>13.610504</td>\n      <td>13.610504</td>\n      <td>13.610504</td>\n      <td>13.610504</td>\n      <td>13.610504</td>\n      <td>1</td>\n    </tr>\n    <tr>\n      <th>3</th>\n      <td>0.00</td>\n      <td>0.00</td>\n      <td>0.00</td>\n      <td>0.00</td>\n      <td>0.00</td>\n      <td>0.00</td>\n      <td>0.00</td>\n      <td>0.00</td>\n      <td>1.035</td>\n      <td>0.00</td>\n      <td>...</td>\n      <td>15.120000</td>\n      <td>17.260000</td>\n      <td>14.910000</td>\n      <td>19.590000</td>\n      <td>20.790000</td>\n      <td>17.950000</td>\n      <td>19.260000</td>\n      <td>14.460000</td>\n      <td>11.720000</td>\n      <td>1</td>\n    </tr>\n    <tr>\n      <th>4</th>\n      <td>2.90</td>\n      <td>5.64</td>\n      <td>6.99</td>\n      <td>3.32</td>\n      <td>3.61</td>\n      <td>5.35</td>\n      <td>4.73</td>\n      <td>3.68</td>\n      <td>3.530</td>\n      <td>3.42</td>\n      <td>...</td>\n      <td>10.220000</td>\n      <td>8.470000</td>\n      <td>6.110000</td>\n      <td>6.100000</td>\n      <td>6.730000</td>\n      <td>7.520000</td>\n      <td>10.890000</td>\n      <td>9.860000</td>\n      <td>8.720000</td>\n      <td>1</td>\n    </tr>\n    <tr>\n      <th>...</th>\n      <td>...</td>\n      <td>...</td>\n      <td>...</td>\n      <td>...</td>\n      <td>...</td>\n      <td>...</td>\n      <td>...</td>\n      <td>...</td>\n      <td>...</td>\n      <td>...</td>\n      <td>...</td>\n      <td>...</td>\n      <td>...</td>\n      <td>...</td>\n      <td>...</td>\n      <td>...</td>\n      <td>...</td>\n      <td>...</td>\n      <td>...</td>\n      <td>...</td>\n      <td>...</td>\n    </tr>\n    <tr>\n      <th>42367</th>\n      <td>0.00</td>\n      <td>0.00</td>\n      <td>0.00</td>\n      <td>0.00</td>\n      <td>0.00</td>\n      <td>0.00</td>\n      <td>0.00</td>\n      <td>0.00</td>\n      <td>2.310</td>\n      <td>0.00</td>\n      <td>...</td>\n      <td>3.100000</td>\n      <td>2.750000</td>\n      <td>3.010000</td>\n      <td>2.990000</td>\n      <td>2.830000</td>\n      <td>2.540000</td>\n      <td>3.400000</td>\n      <td>3.590000</td>\n      <td>2.540000</td>\n      <td>0</td>\n    </tr>\n    <tr>\n      <th>42368</th>\n      <td>2.70</td>\n      <td>0.00</td>\n      <td>0.00</td>\n      <td>5.72</td>\n      <td>6.05</td>\n      <td>5.81</td>\n      <td>3.07</td>\n      <td>4.04</td>\n      <td>5.680</td>\n      <td>4.39</td>\n      <td>...</td>\n      <td>6.620000</td>\n      <td>3.120000</td>\n      <td>5.160000</td>\n      <td>3.620000</td>\n      <td>4.640000</td>\n      <td>3.710000</td>\n      <td>6.220000</td>\n      <td>6.050000</td>\n      <td>4.770000</td>\n      <td>0</td>\n    </tr>\n    <tr>\n      <th>42369</th>\n      <td>0.58</td>\n      <td>1.16</td>\n      <td>0.92</td>\n      <td>0.98</td>\n      <td>1.54</td>\n      <td>1.38</td>\n      <td>0.89</td>\n      <td>0.70</td>\n      <td>1.230</td>\n      <td>0.84</td>\n      <td>...</td>\n      <td>0.610000</td>\n      <td>0.650000</td>\n      <td>0.550000</td>\n      <td>0.490000</td>\n      <td>0.510000</td>\n      <td>0.790000</td>\n      <td>0.660000</td>\n      <td>0.390000</td>\n      <td>0.650000</td>\n      <td>0</td>\n    </tr>\n    <tr>\n      <th>42370</th>\n      <td>16.89</td>\n      <td>15.15</td>\n      <td>19.28</td>\n      <td>17.19</td>\n      <td>16.80</td>\n      <td>17.48</td>\n      <td>17.86</td>\n      <td>23.99</td>\n      <td>12.340</td>\n      <td>13.84</td>\n      <td>...</td>\n      <td>16.480000</td>\n      <td>13.040000</td>\n      <td>10.390000</td>\n      <td>12.000000</td>\n      <td>11.150000</td>\n      <td>12.220000</td>\n      <td>13.160000</td>\n      <td>13.330000</td>\n      <td>10.390000</td>\n      <td>0</td>\n    </tr>\n    <tr>\n      <th>42371</th>\n      <td>0.00</td>\n      <td>0.00</td>\n      <td>0.00</td>\n      <td>0.00</td>\n      <td>0.00</td>\n      <td>0.00</td>\n      <td>0.00</td>\n      <td>0.00</td>\n      <td>0.000</td>\n      <td>0.00</td>\n      <td>...</td>\n      <td>12.161244</td>\n      <td>8.350000</td>\n      <td>8.680000</td>\n      <td>6.390000</td>\n      <td>7.960000</td>\n      <td>8.130000</td>\n      <td>11.500000</td>\n      <td>7.160000</td>\n      <td>5.250000</td>\n      <td>0</td>\n    </tr>\n  </tbody>\n</table>\n<p>42372 rows × 1035 columns</p>\n</div>"
     },
     "metadata": {},
     "execution_count": 3
    }
   ],
   "source": [
    "df"
   ]
  },
  {
   "cell_type": "code",
   "execution_count": 4,
   "metadata": {},
   "outputs": [],
   "source": [
    "x = df.drop('FLAG', axis=1)\n",
    "y = df['FLAG']"
   ]
  },
  {
   "cell_type": "code",
   "execution_count": 5,
   "metadata": {},
   "outputs": [
    {
     "output_type": "stream",
     "name": "stderr",
     "text": [
      "100%|██████████| 42372/42372 [40:54<00:00, 17.26it/s]\n"
     ]
    }
   ],
   "source": [
    "x_mean = po.DataFrame()\n",
    "x_median = po.DataFrame()\n",
    "for i in tqdm(range(len(x))):\n",
    "    x_mean = x_mean.append(x.iloc[i].replace(0, x.iloc[i].mean()))\n",
    "    x_median = x_median.append(x.iloc[i].replace(0, x.iloc[i].median()))"
   ]
  },
  {
   "cell_type": "code",
   "execution_count": 8,
   "metadata": {},
   "outputs": [],
   "source": [
    "x_mean['FLAG'] = y\n",
    "x_median['FLAG'] = y\n",
    "x_mean.to_csv('mean.csv', index=False)\n",
    "x_median.to_csv('median.csv', index=False)\n",
    "del x_mean\n",
    "del x_median"
   ]
  },
  {
   "cell_type": "code",
   "execution_count": 9,
   "metadata": {},
   "outputs": [
    {
     "output_type": "stream",
     "name": "stderr",
     "text": [
      "100%|██████████| 42372/42372 [1:23:26<00:00,  8.46it/s]\n"
     ]
    }
   ],
   "source": [
    "x_interp = po.DataFrame()\n",
    "x_spline = po.DataFrame()\n",
    "for i in tqdm(range(len(x))):\n",
    "    try: \n",
    "        x_interp = x_interp.append(x.iloc[i].replace(0, np.nan).reset_index(drop=True).interpolate(method='polynomial', order=3).fillna(method='bfill'))\n",
    "        x_spline = x_spline.append(x.iloc[i].replace(0, np.nan).reset_index(drop=True).interpolate(method='spline', order=3).fillna(method='bfill'))\n",
    "    except:\n",
    "        x_interp = x_interp.append(x.iloc[i].replace(0, np.nan).fillna(method='ffill').fillna(method='bfill'))\n",
    "        x_spline = x_spline.append(x.iloc[i].replace(0, np.nan).fillna(method='ffill').fillna(method='bfill'))"
   ]
  },
  {
   "cell_type": "code",
   "execution_count": 10,
   "metadata": {},
   "outputs": [],
   "source": [
    "x_interp['FLAG'] = y\n",
    "x_spline['FLAG'] = y\n",
    "x_interp.to_csv('interp.csv', index=False)\n",
    "x_spline.to_csv('spline.csv', index=False)\n",
    "del x_interp\n",
    "del x_spline"
   ]
  },
  {
   "cell_type": "code",
   "execution_count": 11,
   "metadata": {},
   "outputs": [
    {
     "output_type": "stream",
     "name": "stderr",
     "text": [
      "100%|██████████| 42372/42372 [20:34<00:00, 34.33it/s]\n"
     ]
    }
   ],
   "source": [
    "x_locf = po.DataFrame()\n",
    "for i in tqdm(range(len(x))):\n",
    "    x_locf = x_locf.append(x.iloc[i].replace(0, np.nan).fillna(method='ffill').fillna(method='bfill'))"
   ]
  },
  {
   "cell_type": "code",
   "execution_count": 12,
   "metadata": {},
   "outputs": [],
   "source": [
    "x_locf['FLAG'] = y\n",
    "x_locf.to_csv('locf.csv', index=False)\n",
    "del x_locf"
   ]
  },
  {
   "cell_type": "code",
   "execution_count": null,
   "metadata": {},
   "outputs": [],
   "source": []
  },
  {
   "cell_type": "code",
   "execution_count": null,
   "metadata": {},
   "outputs": [],
   "source": []
  },
  {
   "cell_type": "code",
   "execution_count": null,
   "metadata": {},
   "outputs": [],
   "source": []
  },
  {
   "cell_type": "code",
   "execution_count": 7,
   "metadata": {},
   "outputs": [
    {
     "output_type": "execute_result",
     "data": {
      "text/plain": [
       "\"\\nx.iloc[0].replace(0, np.nan).reset_index(drop=True)\\nx.iloc[0].replace(0, np.nan).reset_index(drop=True).isnull().sum()\\nx.append(x.iloc[0].replace(0, np.nan).fillna(method='ffill').fillna(method='bfill'))\\nx.iloc[0].replace(0, np.nan).fillna(method='ffill').fillna(method='bfill')\\nx.iloc[0].replace(0, np.nan).reset_index(drop=True).interpolate(method='polynomial', order=3).fillna(method='bfill')\\n\""
      ]
     },
     "metadata": {},
     "execution_count": 7
    }
   ],
   "source": [
    "\"\"\"\n",
    "x.iloc[0].replace(0, np.nan).reset_index(drop=True)\n",
    "x.iloc[0].replace(0, np.nan).reset_index(drop=True).isnull().sum()\n",
    "x.append(x.iloc[0].replace(0, np.nan).fillna(method='ffill').fillna(method='bfill'))\n",
    "x.iloc[0].replace(0, np.nan).fillna(method='ffill').fillna(method='bfill')\n",
    "x.iloc[0].replace(0, np.nan).reset_index(drop=True).interpolate(method='polynomial', order=3).fillna(method='bfill')\n",
    "\"\"\""
   ]
  },
  {
   "cell_type": "code",
   "execution_count": 6,
   "metadata": {},
   "outputs": [
    {
     "output_type": "execute_result",
     "data": {
      "text/plain": [
       "'\\nl = df.iloc[42370]\\nplt.plot(l.tolist())\\n# number of missing values\\n(l==0.0).sum()\\n# number of missing values\\n(x==0.0).sum(axis=1)\\n'"
      ]
     },
     "metadata": {},
     "execution_count": 6
    }
   ],
   "source": [
    "\"\"\"\n",
    "l = df.iloc[42370]\n",
    "plt.plot(l.tolist())\n",
    "# number of missing values\n",
    "(l==0.0).sum()\n",
    "# number of missing values\n",
    "(x==0.0).sum(axis=1)\n",
    "\"\"\""
   ]
  },
  {
   "cell_type": "code",
   "execution_count": null,
   "metadata": {},
   "outputs": [],
   "source": []
  }
 ]
}