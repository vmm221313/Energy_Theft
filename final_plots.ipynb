{
 "cells": [
  {
   "cell_type": "code",
   "execution_count": 29,
   "metadata": {},
   "outputs": [],
   "source": [
    "import os\n",
    "import pickle\n",
    "import numpy as np\n",
    "import pandas as po\n",
    "import matplotlib.pyplot as plt"
   ]
  },
  {
   "cell_type": "code",
   "execution_count": 51,
   "metadata": {},
   "outputs": [],
   "source": [
    "from sklearn.metrics import confusion_matrix, roc_curve"
   ]
  },
  {
   "cell_type": "code",
   "execution_count": 55,
   "metadata": {
    "tags": []
   },
   "outputs": [],
   "source": [
    "df_cm = po.DataFrame()\n",
    "train_hist = {}\n",
    "base_dir = 'results/final_plots/'\n",
    "for model in os.listdir(base_dir):\n",
    "    train_hist[model] = {}\n",
    "\n",
    "    with open(base_dir+model + '/plots/predictions.npz', 'rb') as f:\n",
    "        data = np.load(f)\n",
    "    \n",
    "        y_true = data['y_true']\n",
    "        y_pred = data['y_pred']\n",
    "\n",
    "    with open(base_dir+model + '/plots/history.pkl', 'rb') as f:\n",
    "        train_hist[model]['history'] = pickle.load(f)\n",
    "\n",
    "    train_hist[model]['y_true'] = np.argmax(y_true, axis = 1)\n",
    "    train_hist[model]['y_pred'] = np.argmax(y_pred, axis = 1)\n",
    "    train_hist[model]['y_prob_true'] = y_pred[:, 1]\n",
    "\n",
    "    tn, fp, fn, tp = confusion_matrix(train_hist[model]['y_true'], train_hist[model]['y_pred']).ravel()\n",
    "    row = {'model': model, 'TN': tn, 'FP': fp, 'FN': fn, 'TP': tp}\n",
    "    df_cm = df_cm.append(row, ignore_index=True)\n",
    "\n",
    "df_cm.to_csv('results/confusion_matrix.csv', index=False)"
   ]
  },
  {
   "cell_type": "code",
   "execution_count": 56,
   "metadata": {},
   "outputs": [],
   "source": [
    "colors = ['orange', 'blue', 'green', 'red', 'grey']"
   ]
  },
  {
   "cell_type": "code",
   "execution_count": 57,
   "metadata": {
    "tags": []
   },
   "outputs": [],
   "source": [
    "plt.figure(figsize=(20, 10))\n",
    "for i, model in enumerate(train_hist):\n",
    "    plt.plot(train_hist[model]['history']['loss'][:15], color=colors[i], marker='.', label=model)\n",
    "plt.xlabel('Epochs', fontsize=20)\n",
    "plt.ylabel('Training Loss', fontsize=20)\n",
    "plt.legend(fontsize=20)\n",
    "plt.savefig('results/train_loss.png')\n",
    "plt.close()"
   ]
  },
  {
   "cell_type": "code",
   "execution_count": 58,
   "metadata": {},
   "outputs": [],
   "source": [
    "plt.figure(figsize=(20, 10))\n",
    "for i, model in enumerate(train_hist):\n",
    "    plt.plot(train_hist[model]['history']['val_loss'][:15], color=colors[i], marker='.', label=model)\n",
    "plt.xlabel('Epochs', fontsize=20)\n",
    "plt.ylabel('Val Loss', fontsize=20)\n",
    "plt.legend(fontsize=20)\n",
    "plt.savefig('results/val_loss.png')\n",
    "plt.close()"
   ]
  },
  {
   "cell_type": "code",
   "execution_count": 62,
   "metadata": {},
   "outputs": [],
   "source": [
    "plt.figure(figsize=(20, 10))\n",
    "for i, model in enumerate(train_hist):\n",
    "    lr_fpr, lr_tpr, _ = roc_curve(train_hist[model]['y_true'], train_hist[model]['y_prob_true'])\n",
    "    plt.plot(lr_fpr, lr_tpr, color=colors[i], marker='.', label=model)\n",
    "\n",
    "plt.legend(fontsize=20)\n",
    "plt.xlabel('False Positive Rate', fontsize=20)\n",
    "plt.ylabel('True Positive Rate', fontsize=20)\n",
    "plt.savefig('results/roc_curve.png')\n",
    "plt.close()"
   ]
  }
 ],
 "metadata": {
  "language_info": {
   "codemirror_mode": {
    "name": "ipython",
    "version": 3
   },
   "file_extension": ".py",
   "mimetype": "text/x-python",
   "name": "python",
   "nbconvert_exporter": "python",
   "pygments_lexer": "ipython3",
   "version": 3
  },
  "orig_nbformat": 2,
  "kernelspec": {
   "name": "python_defaultSpec_1597291458713",
   "display_name": "Python 3.7.7 64-bit ('tf2': conda)"
  }
 },
 "nbformat": 4,
 "nbformat_minor": 2
}